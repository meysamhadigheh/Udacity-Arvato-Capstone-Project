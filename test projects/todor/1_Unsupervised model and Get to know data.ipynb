{
 "cells": [
  {
   "cell_type": "markdown",
   "source": [
    "# Capstone Project: Create a Customer Segmentation Report for Arvato Financial Services\n",
    "\n",
    "In this project, you will analyze demographics data for customers of a mail-order sales company in Germany, comparing it against demographics information for the general population. You'll use unsupervised learning techniques to perform customer segmentation, identifying the parts of the population that best describe the core customer base of the company. Then, you'll apply what you've learned on a third dataset with demographics information for targets of a marketing campaign for the company, and use a model to predict which individuals are most likely to convert into becoming customers for the company. The data that you will use has been provided by our partners at Bertelsmann Arvato Analytics, and represents a real-life data science task.\n",
    "\n",
    "If you completed the first term of this program, you will be familiar with the first part of this project, from the unsupervised learning project. The versions of those two datasets used in this project will include many more features and has not been pre-cleaned. You are also free to choose whatever approach you'd like to analyzing the data rather than follow pre-determined steps. In your work on this project, make sure that you carefully document your steps and decisions, since your main deliverable for this project will be a blog post reporting your findings."
   ],
   "metadata": {
    "collapsed": false
   }
  },
  {
   "cell_type": "code",
   "execution_count": null,
   "outputs": [],
   "source": [
    "#pip install xgboost\n"
   ],
   "metadata": {
    "collapsed": false,
    "pycharm": {
     "name": "#%%\n"
    }
   }
  },
  {
   "cell_type": "code",
   "execution_count": null,
   "outputs": [],
   "source": [
    "#pip install bayesian-optimization"
   ],
   "metadata": {
    "collapsed": false,
    "pycharm": {
     "name": "#%%\n"
    }
   }
  },
  {
   "cell_type": "code",
   "execution_count": null,
   "outputs": [],
   "source": [
    "#pip install lightgbm"
   ],
   "metadata": {
    "collapsed": false,
    "pycharm": {
     "name": "#%%\n"
    }
   }
  },
  {
   "cell_type": "code",
   "execution_count": null,
   "outputs": [],
   "source": [
    "#pip install scikit_optimize==0.8.1"
   ],
   "metadata": {
    "collapsed": false,
    "pycharm": {
     "name": "#%%\n"
    }
   }
  },
  {
   "cell_type": "code",
   "execution_count": null,
   "outputs": [],
   "source": [
    "#pip install scikit-learn==0.23.2\n"
   ],
   "metadata": {
    "collapsed": false,
    "pycharm": {
     "name": "#%%\n"
    }
   }
  },
  {
   "cell_type": "markdown",
   "source": [
    "## Part 0: Get to Know the Data\n",
    "\n",
    "There are four data files associated with this project:\n",
    "\n",
    "- `Udacity_AZDIAS_052018.csv`: Demographics data for the general population of Germany; 891 211 persons (rows) x 366 features (columns).\n",
    "- `Udacity_CUSTOMERS_052018.csv`: Demographics data for customers of a mail-order company; 191 652 persons (rows) x 369 features (columns).\n",
    "- `Udacity_MAILOUT_052018_TRAIN.csv`: Demographics data for individuals who were targets of a marketing campaign; 42 982 persons (rows) x 367 (columns).\n",
    "- `Udacity_MAILOUT_052018_TEST.csv`: Demographics data for individuals who were targets of a marketing campaign; 42 833 persons (rows) x 366 (columns).\n",
    "\n",
    "\n"
   ],
   "metadata": {
    "collapsed": false
   }
  },
  {
   "cell_type": "code",
   "execution_count": null,
   "outputs": [],
   "source": [
    "# import libraries here; add more as necessary\n",
    "\n",
    "from sklearn.preprocessing import StandardScaler\n",
    "from sklearn.decomposition import PCA\n",
    "from sklearn.pipeline import Pipeline\n",
    "from sklearn.cluster import KMeans\n",
    "\n",
    "from sklearn.impute import SimpleImputer\n",
    "\n",
    "from .utils import  *\n",
    "# import skopt\n",
    "# from skopt import BayesSearchCV\n",
    "# class BayesSearchCV(BayesSearchCV):\n",
    "#     def _run_search(self, x): raise BaseException('Use newer skopt')\n",
    "\n",
    "%matplotlib inline\n",
    "plt.style.use('fivethirtyeight')"
   ],
   "metadata": {
    "collapsed": false,
    "pycharm": {
     "name": "#%%\n"
    }
   }
  },
  {
   "cell_type": "markdown",
   "source": [
    "## Part 0: Get to Know the Data\n",
    "\n",
    "There are four data files associated with this project:\n",
    "\n",
    "- `Udacity_AZDIAS_052018.csv`: Demographics data for the general population of Germany; 891 211 persons (rows) x 366 features (columns).\n",
    "- `Udacity_CUSTOMERS_052018.csv`: Demographics data for customers of a mail-order company; 191 652 persons (rows) x 369 features (columns).\n",
    "- `Udacity_MAILOUT_052018_TRAIN.csv`: Demographics data for individuals who were targets of a marketing campaign; 42 982 persons (rows) x 367 (columns).\n",
    "- `Udacity_MAILOUT_052018_TEST.csv`: Demographics data for individuals who were targets of a marketing campaign; 42 833 persons (rows) x 366 (columns).\n"
   ],
   "metadata": {
    "collapsed": false
   }
  },
  {
   "cell_type": "code",
   "execution_count": null,
   "outputs": [],
   "source": [
    "# load in the data\n",
    "azdias = pd.read_csv('data/azdias.csv',sep=';')\n",
    "customers = pd.read_csv('data/customers.csv',sep=';')\n",
    "attributes = pd.read_excel('data/attributes.xlsx' , engine='openpyxl', skiprows = 1)\n",
    "\n",
    "#drop 3 of the customer columns which are missing in the global population dataset\n",
    "customers_clean = customers.drop(['PRODUCT_GROUP', 'CUSTOMER_GROUP', 'ONLINE_PURCHASE'], axis = 1, inplace = True)"
   ],
   "metadata": {
    "collapsed": false,
    "pycharm": {
     "name": "#%%\n"
    }
   }
  },
  {
   "cell_type": "code",
   "execution_count": null,
   "outputs": [],
   "source": [
    "#size of the datasets\n",
    "print('azdias dimensions: ' + str(azdias.shape))\n",
    "print('customers dimensions: ' + str(customers.shape))"
   ],
   "metadata": {
    "collapsed": false,
    "pycharm": {
     "name": "#%%\n"
    }
   }
  },
  {
   "cell_type": "code",
   "execution_count": null,
   "outputs": [],
   "source": [
    "#azdias first 5 rows\n",
    "azdias.head()"
   ],
   "metadata": {
    "collapsed": false,
    "pycharm": {
     "name": "#%%\n"
    }
   }
  },
  {
   "cell_type": "code",
   "execution_count": null,
   "outputs": [],
   "source": [
    "customers.head()"
   ],
   "metadata": {
    "collapsed": false,
    "pycharm": {
     "name": "#%%\n"
    }
   }
  },
  {
   "cell_type": "code",
   "execution_count": null,
   "outputs": [],
   "source": [
    "#desription of the azdias frame (Unnamed: 0 looks like repeats the index and LNR is the ID of each person)\n",
    "azdias.describe()"
   ],
   "metadata": {
    "collapsed": false,
    "pycharm": {
     "name": "#%%\n"
    }
   }
  },
  {
   "cell_type": "code",
   "execution_count": null,
   "outputs": [],
   "source": [
    "#check for object values within the dataset\n",
    "print(cat_check(azdias))"
   ],
   "metadata": {
    "collapsed": false,
    "pycharm": {
     "name": "#%%\n"
    }
   }
  },
  {
   "cell_type": "code",
   "execution_count": null,
   "outputs": [],
   "source": [
    "# as we can see the there are some X and XX values that should be corrected in the following columns\n",
    "print(azdias['CAMEO_DEU_2015'].unique())\n",
    "print(azdias['CAMEO_DEUG_2015'].unique())\n",
    "print(azdias['CAMEO_INTL_2015'].unique())"
   ],
   "metadata": {
    "collapsed": false,
    "pycharm": {
     "name": "#%%\n"
    }
   }
  },
  {
   "cell_type": "markdown",
   "source": [
    "EINGEFUEGT_AM is a datetime column and OST_WEST_KZ should be mapped to binary values\n",
    "all transpormations are done in feature_transform() in file utils.py"
   ],
   "metadata": {
    "collapsed": false
   }
  },
  {
   "cell_type": "code",
   "execution_count": null,
   "outputs": [],
   "source": [
    "attributes.drop(['Unnamed: 0'], axis = 1, inplace = True)"
   ],
   "metadata": {
    "collapsed": false,
    "pycharm": {
     "name": "#%%\n"
    }
   }
  },
  {
   "cell_type": "markdown",
   "source": [
    "### Missing values"
   ],
   "metadata": {
    "collapsed": false
   }
  },
  {
   "cell_type": "code",
   "execution_count": null,
   "outputs": [],
   "source": [
    "#use the attributes xls file to map the 0,-1,9 values to -1\n",
    "azdias = unknown_unify(azdias, attributes)\n",
    "customers = unknown_unify(customers, attributes)"
   ],
   "metadata": {
    "collapsed": false,
    "pycharm": {
     "name": "#%%\n"
    }
   }
  },
  {
   "cell_type": "code",
   "execution_count": null,
   "outputs": [],
   "source": [
    "#missing vaues per feature histogram\n",
    "col_azdiaz = azdias.isnull().sum()/len(azdias)\n",
    "col_customers = customers.isnull().sum()/len(customers)\n",
    "plt.hist(col_azdiaz[col_azdiaz > 0.3], fc=(1, 0, 0, 0.5), label='Azdias')\n",
    "plt.hist(col_customers[col_customers > 0.3], fc=(0, 0, 1, 0.5), label='Customers')\n",
    "plt.xlabel('Percentage Missing Values')\n",
    "plt.ylabel('Number of Features')\n",
    "plt.legend()"
   ],
   "metadata": {
    "collapsed": false,
    "pycharm": {
     "name": "#%%\n"
    }
   }
  },
  {
   "cell_type": "code",
   "execution_count": null,
   "outputs": [],
   "source": [
    "#plot histogram missing values per row\n",
    "bins = 50\n",
    "plt.hist(azdias.isnull().sum(axis=1), bins, fc=(1, 0, 0, 0.5), label='Azdias')\n",
    "plt.hist(customers.isnull().sum(axis=1), bins, fc=(0, 0, 1, 0.5), label='Customers')\n",
    "plt.xlabel('Number of missing values')\n",
    "plt.ylabel('Number of Rows')\n",
    "plt.legend()"
   ],
   "metadata": {
    "collapsed": false,
    "pycharm": {
     "name": "#%%\n"
    }
   }
  },
  {
   "cell_type": "code",
   "execution_count": null,
   "outputs": [],
   "source": [
    "#display features with more than 30% missing values\n",
    "missing_values = azdias.isnull().sum()/len(azdias)\n",
    "azdias[missing_values[missing_values > 0.30].index].head()"
   ],
   "metadata": {
    "collapsed": false,
    "pycharm": {
     "name": "#%%\n"
    }
   }
  },
  {
   "cell_type": "markdown",
   "source": [
    "####      ALTER_KIND features mark the age of children. Having a lot of NaN values is normal and dropping the features may result in loosing information."
   ],
   "metadata": {
    "collapsed": false
   }
  },
  {
   "cell_type": "code",
   "execution_count": null,
   "outputs": [],
   "source": [
    "#transforming some of the features and removing incorrect values\n",
    "azdias = feature_transform(azdias)\n",
    "customers = feature_transform(customers)"
   ],
   "metadata": {
    "collapsed": false,
    "pycharm": {
     "name": "#%%\n"
    }
   }
  },
  {
   "cell_type": "code",
   "execution_count": null,
   "outputs": [],
   "source": [
    "#Distribution of DECADE feature\n",
    "fig = plt.figure(figsize = (10,6))\n",
    "sns.distplot(azdias['PRAEGENDE_JUGENDJAHRE_DECADE'], norm_hist = True, label='Azdias')\n",
    "sns.distplot(customers['PRAEGENDE_JUGENDJAHRE_DECADE'], norm_hist = True, label='Customers')\n",
    "plt.legend()"
   ],
   "metadata": {
    "collapsed": false,
    "pycharm": {
     "name": "#%%\n"
    }
   }
  },
  {
   "cell_type": "code",
   "execution_count": null,
   "outputs": [],
   "source": [
    "#Distribution of INCOME feature\n",
    "fig = plt.figure(figsize = (10,6))\n",
    "sns.distplot(azdias['HH_EINKOMMEN_SCORE'], norm_hist = True, label='Azdias')\n",
    "sns.distplot(customers['HH_EINKOMMEN_SCORE'], norm_hist = True, label='Customers')\n",
    "plt.legend()"
   ],
   "metadata": {
    "collapsed": false,
    "pycharm": {
     "name": "#%%\n"
    }
   }
  },
  {
   "cell_type": "code",
   "execution_count": null,
   "outputs": [],
   "source": [
    "#Distribution of VACATION HABITS feature\n",
    "fig = plt.figure(figsize = (10,6))\n",
    "sns.distplot(azdias['GFK_URLAUBERTYP'], norm_hist = True, label='Azdias')\n",
    "sns.distplot(customers['GFK_URLAUBERTYP'], norm_hist = True, label='Customers')\n",
    "plt.legend()"
   ],
   "metadata": {
    "collapsed": false,
    "pycharm": {
     "name": "#%%\n"
    }
   }
  },
  {
   "cell_type": "markdown",
   "source": [
    "## Part 1: Unsupervised model:"
   ],
   "metadata": {
    "collapsed": false
   }
  },
  {
   "cell_type": "code",
   "execution_count": null,
   "outputs": [],
   "source": [
    "#unsupervised data preprocessing\n",
    "pipeline_unsup = Pipeline([  ('impute', SimpleImputer(strategy= 'constant', fill_value = -1)),\n",
    "                             ('scale', StandardScaler()),\n",
    "                             ('pca' , PCA()),\n",
    "                        ])\n",
    "\n",
    "#fit and transform the sets\n",
    "azdias_pca = pipeline_unsup.fit_transform(azdias)\n",
    "customers_pca =  pipeline_unsup.transform(customers)"
   ],
   "metadata": {
    "collapsed": false,
    "pycharm": {
     "name": "#%%\n"
    }
   }
  },
  {
   "cell_type": "code",
   "execution_count": null,
   "outputs": [],
   "source": [
    "#calculate PCA features to use in the clustering model\n",
    "fig = plt.figure(figsize = (14,8))\n",
    "plt.bar(list(range(0, len(pipeline_unsup[2].explained_variance_ratio_))), pipeline_unsup[2].explained_variance_ratio_)\n",
    "plt.xlabel('PCA components')\n",
    "plt.ylabel('Variance Ratio')\n",
    "plt.xlim(-1, 100)\n",
    "plt.show()\n",
    "\n",
    "pipeline_unsup[2].explained_variance_ratio_[:130].sum()"
   ],
   "metadata": {
    "collapsed": false,
    "pycharm": {
     "name": "#%%\n"
    }
   }
  },
  {
   "cell_type": "code",
   "execution_count": null,
   "outputs": [],
   "source": [
    "#calculate number of clusters for the KMeans++ model:\n",
    "score = []\n",
    "\n",
    "for i in range(2,15):\n",
    "    clt = KMeans(n_clusters = i)\n",
    "    global_cluster = clt.fit(azdias_pca[:, :130])\n",
    "    score.append(global_cluster.inertia_)\n",
    "    print(score[i-2])\n",
    "\n"
   ],
   "metadata": {
    "collapsed": false,
    "pycharm": {
     "name": "#%%\n"
    }
   }
  },
  {
   "cell_type": "code",
   "execution_count": null,
   "outputs": [],
   "source": [
    "#plow elbow curve\n",
    "fig = plt.figure(figsize = (12,8))\n",
    "sns.lineplot(x = list(range(2,15)), y = score)\n",
    "plt.xlabel('Cluster Number')\n",
    "plt.show()"
   ],
   "metadata": {
    "collapsed": false,
    "pycharm": {
     "name": "#%%\n"
    }
   }
  },
  {
   "cell_type": "code",
   "execution_count": null,
   "outputs": [],
   "source": [
    "#init and fit the Kmeans++ with the desirable number of clusters (10)\n",
    "clt = KMeans(n_clusters = 8)\n",
    "\n",
    "azdiaz_cluster = clt.fit(azdias_pca[:, :130])"
   ],
   "metadata": {
    "collapsed": false,
    "pycharm": {
     "name": "#%%\n"
    }
   }
  },
  {
   "cell_type": "code",
   "execution_count": null,
   "outputs": [],
   "source": [
    "#predict cluster labels for arvato customerz\n",
    "customers_cluster = clt.predict(customers_pca[:, :130])"
   ],
   "metadata": {
    "collapsed": false,
    "pycharm": {
     "name": "#%%\n"
    }
   }
  },
  {
   "cell_type": "code",
   "execution_count": null,
   "outputs": [],
   "source": [
    "#plot the distribution between azdias and customers data inside the clusters\n",
    "fig = plt.figure(figsize = (13,8))\n",
    "sns.distplot(azdiaz_cluster.labels_)\n",
    "sns.distplot(customers_cluster)\n",
    "plt.legend()\n",
    "plt.show()"
   ],
   "metadata": {
    "collapsed": false,
    "pycharm": {
     "name": "#%%\n"
    }
   }
  },
  {
   "cell_type": "markdown",
   "source": [
    "#### Let's take a look at the features between the two most different clusters"
   ],
   "metadata": {
    "collapsed": false
   }
  },
  {
   "cell_type": "markdown",
   "source": [
    "### Identify important feature differences between the clusters"
   ],
   "metadata": {
    "collapsed": false
   }
  },
  {
   "cell_type": "code",
   "execution_count": null,
   "outputs": [],
   "source": [
    "azdias_clst = azdias\n",
    "azdias_clst['Cluster'] = azdiaz_cluster.labels_\n",
    "\n",
    "customers_clst = customers\n",
    "customers_clst['Cluster'] = customers_cluster\n",
    "\n",
    "azdias_clst = azdias_clst[azdias_clst['Cluster'] == 4]\n",
    "customers_clst = customers_clst[customers_clst['Cluster'] == 0]\n",
    "\n",
    "#get mean difference between features\n",
    "diff = pd.DataFrame({'Cluster_4': azdias_clst.mean(), 'Cluster_0': customers_clst.mean()})\n",
    "diff['delta'] = abs(diff['Cluster_4'] - diff['Cluster_0'])\n",
    "diff.head(20).sort_values(['delta'], ascending = False)"
   ],
   "metadata": {
    "collapsed": false,
    "pycharm": {
     "name": "#%%\n"
    }
   }
  },
  {
   "cell_type": "markdown",
   "source": [
    "##### CAMEO_DEUG_2015: Customers are more likely to be 'established middle class' against Cluster 3 values : low-consumption middleclass.\n",
    "\n",
    "##### CAMEO_INTL_2015: Prosperous households are more likely to be customers.\n",
    "\n",
    "##### ANZ_PERSONEN: Households with more adult people use the company's products.\n",
    "\n",
    "##### ALTER_HH: The main age within the households of customers is lower than the underrepresented cluster.\n",
    "\n"
   ],
   "metadata": {
    "collapsed": false
   }
  }
 ],
 "metadata": {
  "kernelspec": {
   "display_name": "Python 3",
   "language": "python",
   "name": "python3"
  },
  "language_info": {
   "codemirror_mode": {
    "name": "ipython",
    "version": 2
   },
   "file_extension": ".py",
   "mimetype": "text/x-python",
   "name": "python",
   "nbconvert_exporter": "python",
   "pygments_lexer": "ipython2",
   "version": "2.7.6"
  }
 },
 "nbformat": 4,
 "nbformat_minor": 0
}