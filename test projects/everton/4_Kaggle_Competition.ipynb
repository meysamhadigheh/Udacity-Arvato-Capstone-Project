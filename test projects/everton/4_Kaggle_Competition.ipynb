{
 "cells": [
  {
   "cell_type": "code",
   "execution_count": null,
   "outputs": [],
   "source": [
    "# Importing libraries:\n",
    "import joblib\n",
    "from .selected_column_helper import *\n",
    "\n",
    "\n",
    "\n",
    "# magic word for producing visualizations in notebook\n",
    "%matplotlib inline\n",
    "\n",
    "import warnings\n",
    "warnings.filterwarnings('ignore')\n"
   ],
   "metadata": {
    "collapsed": false,
    "pycharm": {
     "name": "#%%\n"
    }
   }
  },
  {
   "cell_type": "code",
   "execution_count": null,
   "outputs": [],
   "source": [
    "azdias = pd.read_csv('../data/azdias_2.csv', sep=';')\n",
    "# customers=pd.read_csv('../data/customers.csv',sep=';')\n",
    "mailout_train = pd.read_csv('../data/mail_train_1.csv', sep=';')\n",
    "\n",
    "\n",
    "gbc_clf=pickle.load(open(\"gbc_clf.pkl\", \"rb\"))\n",
    "gbc_smote_clf=pickle.load(open(\"gbc_smote_clf.pkl\", \"rb\"))\n",
    "gbc_pca_clf=pickle.load(open(\"gbc_pca_clf.pkl\", \"rb\"))\n",
    "gbc_pca2_clf=pickle.load(open(\"gbc_pca2_clf.pkl\", \"rb\"))\n",
    "xgbc_bayes_clf=pickle.load(open(\"xgbc_bayes_clf.pkl\", \"rb\"))\n",
    "lgbm_bayes_clf=pickle.load(open(\"lgbm_bayes_clf.pkl\", \"rb\"))\n",
    "\n"
   ],
   "metadata": {
    "collapsed": false,
    "pycharm": {
     "name": "#%% md load needed files\n"
    }
   }
  },
  {
   "cell_type": "code",
   "execution_count": null,
   "outputs": [],
   "source": [
    "# Updating dtypes_dict:\n",
    "new_dtypes_dict = dtypes_dict.copy()\n",
    "new_dtypes_dict['AGER_TYP'] = 'cat'\n",
    "new_dtypes_dict['D19_GESAMT_ANZ_24'] = 'num'\n",
    "new_dtypes_dict['D19_GESAMT_DATUM'] = 'num'\n",
    "new_dtypes_dict['D19_GESAMT_OFFLINE_DATUM'] = 'num'\n",
    "new_dtypes_dict['D19_GESAMT_ONLINE_DATUM'] = 'num'\n",
    "new_dtypes_dict['D19_KONSUMTYP'] = 'cat'\n",
    "new_dtypes_dict['D19_KONSUMTYP_MAX'] = 'num'\n",
    "new_dtypes_dict['D19_SONSTIGE'] = 'num'\n",
    "new_dtypes_dict['D19_SOZIALES'] = 'num'\n",
    "new_dtypes_dict['D19_VERSAND_DATUM'] = 'num'\n",
    "new_dtypes_dict['D19_VERSAND_OFFLINE_DATUM'] = 'num'\n",
    "new_dtypes_dict['D19_VOLLSORTIMENT'] = 'num'\n",
    "new_dtypes_dict['EXTSEL992'] = 'num'\n",
    "new_dtypes_dict['GEBURTSJAHR'] = 'num'"
   ],
   "metadata": {
    "collapsed": false,
    "pycharm": {
     "name": "#%%\n"
    }
   }
  },
  {
   "cell_type": "code",
   "execution_count": null,
   "outputs": [],
   "source": [
    "# Creating a list of variables that overcomes the threshold for nan values:\n",
    "nan_threshold = 0.35 # 35%\n",
    "\n",
    "# Nan proportion, using general population dataframe (more observations):\n",
    "var_nan_prop = azdias.isnull().mean()\n",
    "# List:\n",
    "nan_list = list()\n",
    "for i in range(len(var_nan_prop)):\n",
    "    if var_nan_prop[i] >= nan_threshold:\n",
    "        nan_list.append(var_nan_prop.index.values[i])\n",
    "\n",
    "print('{} columns with more than {}% of nan values.'.format(len(nan_list), nan_threshold*100))\n"
   ],
   "metadata": {
    "collapsed": false,
    "pycharm": {
     "name": "#%%\n"
    }
   }
  },
  {
   "cell_type": "code",
   "execution_count": null,
   "outputs": [],
   "source": [
    "# Creating a list of variables that overcomes the threshold for nan values:\n",
    "new_nan_threshold = 0.5 # 50%\n",
    "\n",
    "# Nan proportion, using general population dataframe (more observations):\n",
    "var_nan_prop = mailout_train.isnull().mean()\n",
    "\n",
    "# List:\n",
    "new_nan_list = list()\n",
    "for i in range(len(var_nan_prop)):\n",
    "    if var_nan_prop[i] >= new_nan_threshold:\n",
    "        new_nan_list.append(var_nan_prop.index.values[i])\n",
    "\n",
    "print('{} columns with more than {}% of nan values.'.format(len(new_nan_list), new_nan_threshold*100))\n"
   ],
   "metadata": {
    "collapsed": false,
    "pycharm": {
     "name": "#%%\n"
    }
   }
  },
  {
   "cell_type": "code",
   "execution_count": null,
   "outputs": [],
   "source": [
    "# Creating function that delete the columns listed in nan_list:\n",
    "def eliminate_nan_columns(df, nan_cols = nan_list):\n",
    "    '''\n",
    "    It deletes dataframe columns in nan_cols list.\n",
    "\n",
    "    Inputs:\n",
    "    df: original dataframe;\n",
    "    nan_cols:list of columns to be deleted.\n",
    "\n",
    "    Output:\n",
    "    df: dataframe updated without nan_cols.\n",
    "    '''\n",
    "    # Deleting nan_cols:\n",
    "    df.drop(columns = nan_cols, inplace = True)\n",
    "\n",
    "    return df\n",
    "\n",
    "\n"
   ],
   "metadata": {
    "collapsed": false,
    "pycharm": {
     "name": "#%%\n"
    }
   }
  },
  {
   "cell_type": "code",
   "execution_count": null,
   "outputs": [],
   "source": [
    "def supervised_data_transformation(df, test_set):\n",
    "    '''\n",
    "    It applies all the data transformation steps before treating nan values.\n",
    "\n",
    "    Input:\n",
    "    df: original dataframe;\n",
    "    train_set: boolean indicating whether it's train or test set.\n",
    "\n",
    "    Output:\n",
    "    df: transformed dataframe.\n",
    "    '''\n",
    "    if test_set:\n",
    "        # Joining nan and unknown values:\n",
    "        df = join_nan_with_unknown(df)\n",
    "\n",
    "        # Columns do drop:\n",
    "        drop_cols = ['LNR', 'EINGEFUEGT_AM', 'EINGEZOGENAM_HH_JAHR']\n",
    "\n",
    "    else:\n",
    "        drop_cols = ['LNR', 'EINGEFUEGT_AM', 'EINGEZOGENAM_HH_JAHR', 'RESPONSE']\n",
    "\n",
    "    # Eliminating nan columns:\n",
    "    df = eliminate_nan_columns(df, nan_cols = new_nan_list)\n",
    "\n",
    "    # Dropping useless columns:\n",
    "    df = df.drop(columns = drop_cols)\n",
    "\n",
    "    # Changing column dtypes:\n",
    "    df = change_dtypes(df, dtypes = new_dtypes_dict)\n",
    "\n",
    "    # Feature engineering I:\n",
    "    df = feature_engineer(df)\n",
    "\n",
    "    # Feature engineering II:\n",
    "    df = transform_cameo_deu(df)\n",
    "\n",
    "    return df\n"
   ],
   "metadata": {
    "collapsed": false,
    "pycharm": {
     "name": "#%%\n"
    }
   }
  },
  {
   "cell_type": "code",
   "execution_count": null,
   "outputs": [],
   "source": [
    "# Defining CAMEO_DEU_2015 transformation:\n",
    "def transform_cameo_deu(df):\n",
    "    '''\n",
    "    It simplifies CAMEO_DEU_2015 classes according to the representation pattern presented in the comparison\n",
    "    between customers and the general population.\n",
    "    '''\n",
    "    # Creating new column:\n",
    "    feat = 'CAMEO_DEU_2015'\n",
    "    df['CAMEO_DEU_REPRESENTATION'] = [0 if df[feat].iloc[i] in ['6A', '7A', '7B', '7C', '8A', '8B', '8C', '8D', '9A', '9B',\n",
    "                                                                '9C', '9D'] \\\n",
    "                                      else 1 if df[feat].iloc[i] in ['5A', '5B', '5C', '6B', '7D'] \\\n",
    "                                      else 2 if df[feat].iloc[i] in ['3A', '3B', '3C', '4B', '4C', '4E', '5E', '5F', '6C',\n",
    "                                                                     '6D', '6E', '6F', '7E', '9E'] \\\n",
    "                                      else 3 if df[feat].iloc[i] in ['1A', '1B', '1C', '1D', '2A', '2B', '2C', '2D', '3D',\n",
    "                                                                     '4A', '5D'] \\\n",
    "                                      else np.nan for i in range(df.shape[0])]\n",
    "\n",
    "    # Transforming the column to categorical type:\n",
    "    df['CAMEO_DEU_REPRESENTATION'] = df['CAMEO_DEU_REPRESENTATION'].astype('category')\n",
    "\n",
    "    # Deliting original column:\n",
    "    df.drop(columns = [feat], inplace = True)\n",
    "\n",
    "    return df"
   ],
   "metadata": {
    "collapsed": false,
    "pycharm": {
     "name": "#%%\n"
    }
   }
  },
  {
   "cell_type": "markdown",
   "source": [
    "## Part 3: Kaggle Competition<a name=\"part3\"></a>\n",
    "\n",
    "Now that you've created a model to predict which individuals are most likely to respond to a mailout campaign, it's time to test that model in competition through Kaggle. If you click on the link [here](http://www.kaggle.com/t/21e6d45d4c574c7fa2d868f0e8c83140), you'll be taken to the competition page where, if you have a Kaggle account, you can enter. If you're one of the top performers, you may have the chance to be contacted by a hiring manager from Arvato or Bertelsmann for an interview!\n",
    "\n",
    "Your entry to the competition should be a CSV file with two columns. The first column should be a copy of \"LNR\", which acts as an ID number for each individual in the \"TEST\" partition. The second column, \"RESPONSE\", should be some measure of how likely each individual became a customer – this might not be a straightforward probability. As you should have found in Part 2, there is a large output class imbalance, where most individuals did not respond to the mailout. Thus, predicting individual classes and using accuracy does not seem to be an appropriate performance evaluation method. Instead, the competition will be using AUC to evaluate performance. The exact values of the \"RESPONSE\" column do not matter as much: only that the higher values try to capture as many of the actual customers as possible, early in the ROC curve sweep."
   ],
   "metadata": {
    "collapsed": false
   }
  },
  {
   "cell_type": "code",
   "execution_count": null,
   "outputs": [],
   "source": [
    "# Load in the data:\n",
    "mailout_test = pd.read_csv('../data/mail_test.csv', sep=';')\n",
    "\n",
    "# Loading test set:\n",
    "#mailout_test = joblib.load('test')\n",
    "\n",
    "mailout_test.head()"
   ],
   "metadata": {
    "collapsed": false,
    "pycharm": {
     "name": "#%%\n"
    }
   }
  },
  {
   "cell_type": "code",
   "execution_count": null,
   "outputs": [],
   "source": [
    "# Saving LNR object:\n",
    "lnr = list(mailout_test.LNR.values)\n",
    "\n",
    "# Applying data transformations on train set:\n",
    "mailout_test = supervised_data_transformation(mailout_test, test_set = True)\n",
    "\n",
    "mailout_test.head()\n"
   ],
   "metadata": {
    "collapsed": false,
    "pycharm": {
     "name": "#%%\n"
    }
   }
  },
  {
   "cell_type": "code",
   "execution_count": null,
   "outputs": [],
   "source": [
    "#remove unused train columns from test columns\n",
    "test_cols=mailout_test.columns.values.tolist()\n",
    "train_cols=mailout_train.columns.values.tolist()\n",
    "set_difference = set(test_cols) - set(train_cols)\n",
    "list_difference = list(set_difference)\n",
    "\n",
    "mailout_test=mailout_test.drop(columns = list_difference)"
   ],
   "metadata": {
    "collapsed": false,
    "pycharm": {
     "name": "#%%\n"
    }
   }
  },
  {
   "cell_type": "markdown",
   "source": [
    "### 3.1 Attempt 1: Training on Unbalanced Data<a name=\"p1\"></a>\n",
    "\n",
    "\n",
    "# Defining machine learning pipeline:\n",
    "gbc_ml_pipe = Pipeline(steps = [\n",
    "    ('preprocessing', preproc),\n",
    "    ('clf', GradientBoostingClassifier(learning_rate = 0.1,\n",
    "                                       n_estimators = 150,\n",
    "                                       random_state = 301))\n",
    "])\n",
    "\n",
    "# Setting parameters to be tested:\n",
    "params = {'clf__min_samples_split': [2, 4],\n",
    "          'clf__max_depth': [3, 5],\n",
    "          'clf__max_features': [None, 'auto']\n",
    "}\n",
    "\n",
    "# Grid search + ML pipleine:\n",
    "gbc_clf = GridSearchCV(gbc_ml_pipe, param_grid = params, scoring = 'roc_auc', verbose = 2)\n",
    "\n",
    "# Training model:\n",
    "gbc_clf.fit(mailout_train, y)"
   ],
   "metadata": {
    "collapsed": false
   }
  },
  {
   "cell_type": "code",
   "execution_count": null,
   "outputs": [],
   "source": [
    "# Predicting on teste data:\n",
    "y_gbc_pred = gbc_clf.predict_proba(mailout_test)"
   ],
   "metadata": {
    "collapsed": false,
    "pycharm": {
     "name": "#%%\n"
    }
   }
  },
  {
   "cell_type": "code",
   "execution_count": null,
   "outputs": [],
   "source": [
    "# Creating prediction dataframe:\n",
    "gbc_pred_df = pd.DataFrame(columns = ['LNR', 'RESPONSE'])\n",
    "\n",
    "# Assigning id:\n",
    "gbc_pred_df['LNR'] = lnr\n",
    "\n",
    "# Assigning predictions:\n",
    "gbc_pred_df['RESPONSE'] = y_gbc_pred[:, 1]\n",
    "\n",
    "gbc_pred_df.head()"
   ],
   "metadata": {
    "collapsed": false,
    "pycharm": {
     "name": "#%%\n"
    }
   }
  },
  {
   "cell_type": "code",
   "execution_count": null,
   "outputs": [],
   "source": [
    "# Saving person predictions csv:\n",
    "gbc_pred_df.to_csv('../pred/gbc_pred.csv', header = True, index = False)\n",
    "\n",
    "# KAGGLE SCORE: 0.79488"
   ],
   "metadata": {
    "collapsed": false,
    "pycharm": {
     "name": "#%%\n"
    }
   }
  },
  {
   "cell_type": "markdown",
   "source": [
    "Considering the `Kaggle` rank, this first approach could be considered a regular model, being positioned among the **top 150**."
   ],
   "metadata": {
    "collapsed": false
   }
  },
  {
   "cell_type": "markdown",
   "source": [
    "### 3.2 Attempt 2: Training on Balanced Data<a name=\"p2\"></a>"
   ],
   "metadata": {
    "collapsed": false
   }
  },
  {
   "cell_type": "code",
   "execution_count": null,
   "outputs": [],
   "source": [
    "# Predicting on teste data:\n",
    "y_gbc_smote_pred = gbc_smote_clf.predict_proba(mailout_test)"
   ],
   "metadata": {
    "collapsed": false,
    "pycharm": {
     "name": "#%%\n"
    }
   }
  },
  {
   "cell_type": "code",
   "execution_count": null,
   "outputs": [],
   "source": [
    "# Creating prediction dataframe:\n",
    "gbc_smote_pred_df = pd.DataFrame(columns = ['LNR', 'RESPONSE'])\n",
    "\n",
    "# Assigning id:\n",
    "gbc_smote_pred_df['LNR'] = lnr\n",
    "\n",
    "# Assigning predictions:\n",
    "gbc_smote_pred_df['RESPONSE'] = y_gbc_smote_pred[:, 1]\n",
    "\n",
    "gbc_smote_pred_df.head()"
   ],
   "metadata": {
    "collapsed": false,
    "pycharm": {
     "name": "#%%\n"
    }
   }
  },
  {
   "cell_type": "code",
   "execution_count": null,
   "outputs": [],
   "source": [
    "# Saving person predictions csv:\n",
    "gbc_smote_pred_df.to_csv('../pred/gbc_smote_pred.csv', header = True, index = False)\n",
    "\n",
    "# KAGGLE SCORE: 0.70165"
   ],
   "metadata": {
    "collapsed": false,
    "pycharm": {
     "name": "#%%\n"
    }
   }
  },
  {
   "cell_type": "markdown",
   "source": [
    "### 3.3 Attempt 3: Information Level and PCA Transformation<a name=\"p3\"></a>"
   ],
   "metadata": {
    "collapsed": false
   }
  },
  {
   "cell_type": "code",
   "execution_count": null,
   "outputs": [],
   "source": [
    "# Predicting on teste data:\n",
    "y_gbc_pca_pred = gbc_pca_clf.predict_proba(mailout_test[selected_columns])"
   ],
   "metadata": {
    "collapsed": false,
    "pycharm": {
     "name": "#%%\n"
    }
   }
  },
  {
   "cell_type": "code",
   "execution_count": null,
   "outputs": [],
   "source": [
    "# Creating prediction dataframe:\n",
    "gbc_pca_pred_df = pd.DataFrame(columns = ['LNR', 'RESPONSE'])\n",
    "\n",
    "# Assigning id:\n",
    "gbc_pca_pred_df['LNR'] = lnr\n",
    "\n",
    "# Assigning predictions:\n",
    "gbc_pca_pred_df['RESPONSE'] = y_gbc_pca_pred[:, 1]\n",
    "\n",
    "gbc_pca_pred_df.head()"
   ],
   "metadata": {
    "collapsed": false,
    "pycharm": {
     "name": "#%%\n"
    }
   }
  },
  {
   "cell_type": "code",
   "execution_count": null,
   "outputs": [],
   "source": [
    "# Saving person predictions csv:\n",
    "gbc_pca_pred_df.to_csv('../pred/gbc_pca_pred.csv', header = True, index = False)\n",
    "\n",
    "# KAGGLE SCORE: 0.79168"
   ],
   "metadata": {
    "collapsed": false,
    "pycharm": {
     "name": "#%%\n"
    }
   }
  },
  {
   "cell_type": "markdown",
   "source": [
    "### 3.4 Attempt 4: PCA Transformation<a name=\"p4\"></a>"
   ],
   "metadata": {
    "collapsed": false
   }
  },
  {
   "cell_type": "code",
   "execution_count": null,
   "outputs": [],
   "source": [
    "# Predicting on teste data:\n",
    "y_gbc_pca2_pred = gbc_pca2_clf.predict_proba(mailout_test)"
   ],
   "metadata": {
    "collapsed": false,
    "pycharm": {
     "name": "#%%\n"
    }
   }
  },
  {
   "cell_type": "code",
   "execution_count": null,
   "outputs": [],
   "source": [
    "# Creating prediction dataframe:\n",
    "gbc_pca2_pred_df = pd.DataFrame(columns = ['LNR', 'RESPONSE'])\n",
    "\n",
    "# Assigning id:\n",
    "gbc_pca2_pred_df['LNR'] = lnr\n",
    "\n",
    "# Assigning predictions:\n",
    "gbc_pca2_pred_df['RESPONSE'] = y_gbc_pca2_pred[:, 1]\n",
    "\n",
    "gbc_pca2_pred_df.head()"
   ],
   "metadata": {
    "collapsed": false,
    "pycharm": {
     "name": "#%%\n"
    }
   }
  },
  {
   "cell_type": "code",
   "execution_count": null,
   "outputs": [],
   "source": [
    "# Saving person predictions csv:\n",
    "gbc_pca2_pred_df.to_csv('../pred/gbc_pca2_pred.csv', header = True, index = False)\n",
    "\n",
    "# KAGGLE SCORE: 0.71402"
   ],
   "metadata": {
    "collapsed": false,
    "pycharm": {
     "name": "#%%\n"
    }
   }
  },
  {
   "cell_type": "markdown",
   "source": [
    "### 3.5 Attempt 5: XGBoost Classifier and Baysian Optimization<a name=\"p5\"></a>"
   ],
   "metadata": {
    "collapsed": false
   }
  },
  {
   "cell_type": "code",
   "execution_count": null,
   "outputs": [],
   "source": [
    "# Predicting on teste data:\n",
    "y_xgbc_bayes_pred = xgbc_bayes_clf.predict_proba(mailout_test)"
   ],
   "metadata": {
    "collapsed": false,
    "pycharm": {
     "name": "#%%\n"
    }
   }
  },
  {
   "cell_type": "code",
   "execution_count": null,
   "outputs": [],
   "source": [
    "# Creating prediction dataframe:\n",
    "xgbc_bayes_pred_df = pd.DataFrame(columns = ['LNR', 'RESPONSE'])\n",
    "\n",
    "# Assigning id:\n",
    "xgbc_bayes_pred_df['LNR'] = lnr\n",
    "\n",
    "# Assigning predictions:\n",
    "xgbc_bayes_pred_df['RESPONSE'] = y_xgbc_bayes_pred[:, 1]\n",
    "\n",
    "xgbc_bayes_pred_df.head()"
   ],
   "metadata": {
    "collapsed": false,
    "pycharm": {
     "name": "#%%\n"
    }
   }
  },
  {
   "cell_type": "code",
   "execution_count": null,
   "outputs": [],
   "source": [
    "# Saving person predictions csv:\n",
    "xgbc_bayes_pred_df.to_csv('../pred/xgbc_bayes_pred.csv', header = True, index = False)\n",
    "\n",
    "# KAGGLE SCORE: 0.80492"
   ],
   "metadata": {
    "collapsed": false,
    "pycharm": {
     "name": "#%%\n"
    }
   }
  },
  {
   "cell_type": "markdown",
   "source": [
    "Although this model `roc_auc` score is comparable to the first model, when predicting on the test data, it represented a great advance.\n",
    "\n",
    "This score positions the model among the **top 40** in the Kaggle rank among 349 data scientists."
   ],
   "metadata": {
    "collapsed": false
   }
  },
  {
   "cell_type": "markdown",
   "source": [
    "![best_score.png](attachment:best_score.png)"
   ],
   "metadata": {
    "collapsed": false
   }
  },
  {
   "cell_type": "markdown",
   "source": [
    "### 3.6 LightGBM and Bayesian Optimization<a name=\"p6\"></a>"
   ],
   "metadata": {
    "collapsed": false
   }
  },
  {
   "cell_type": "code",
   "execution_count": null,
   "outputs": [],
   "source": [
    "# Predicting on teste data:\n",
    "y_lgbm_bayes_pred = lgbm_bayes_clf.predict_proba(mailout_test)"
   ],
   "metadata": {
    "collapsed": false,
    "pycharm": {
     "name": "#%%\n"
    }
   }
  },
  {
   "cell_type": "code",
   "execution_count": null,
   "outputs": [],
   "source": [
    "# Creating prediction dataframe:\n",
    "lgbm_bayes_pred_df = pd.DataFrame(columns = ['LNR', 'RESPONSE'])\n",
    "\n",
    "# Assigning id:\n",
    "lgbm_bayes_pred_df['LNR'] = lnr\n",
    "\n",
    "# Assigning predictions:\n",
    "lgbm_bayes_pred_df['RESPONSE'] = y_lgbm_bayes_pred[:, 1]\n",
    "\n",
    "lgbm_bayes_pred_df.head()"
   ],
   "metadata": {
    "collapsed": false,
    "pycharm": {
     "name": "#%%\n"
    }
   }
  },
  {
   "cell_type": "code",
   "execution_count": null,
   "outputs": [],
   "source": [
    "# Saving person predictions csv:\n",
    "lgbm_bayes_pred_df.to_csv('../pred/lgbm_bayes_pred.csv', header = True, index = False)\n",
    "\n",
    "# KAGGLE SCORE: 0.79743\n",
    "\n"
   ],
   "metadata": {
    "collapsed": false,
    "pycharm": {
     "name": "#%%\n"
    }
   }
  }
 ],
 "metadata": {
  "kernelspec": {
   "display_name": "Python 3",
   "language": "python",
   "name": "python3"
  },
  "language_info": {
   "codemirror_mode": {
    "name": "ipython",
    "version": 2
   },
   "file_extension": ".py",
   "mimetype": "text/x-python",
   "name": "python",
   "nbconvert_exporter": "python",
   "pygments_lexer": "ipython2",
   "version": "2.7.6"
  }
 },
 "nbformat": 4,
 "nbformat_minor": 0
}