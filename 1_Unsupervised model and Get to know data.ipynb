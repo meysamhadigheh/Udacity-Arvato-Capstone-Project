{
 "cells": [
  {
   "cell_type": "markdown",
   "metadata": {},
   "source": [
    "# Capstone Project: Create a Customer Segmentation Report for Arvato Financial Services\n",
    "\n",
    "In this project, you will analyze demographics data for customers of a mail-order sales company in Germany, comparing it against demographics information for the general population. You'll use unsupervised learning techniques to perform customer segmentation, identifying the parts of the population that best describe the core customer base of the company. Then, you'll apply what you've learned on a third dataset with demographics information for targets of a marketing campaign for the company, and use a model to predict which individuals are most likely to convert into becoming customers for the company. The data that you will use has been provided by our partners at Bertelsmann Arvato Analytics, and represents a real-life data science task.\n",
    "\n",
    "If you completed the first term of this program, you will be familiar with the first part of this project, from the unsupervised learning project. The versions of those two datasets used in this project will include many more features and has not been pre-cleaned. You are also free to choose whatever approach you'd like to analyzing the data rather than follow pre-determined steps. In your work on this project, make sure that you carefully document your steps and decisions, since your main deliverable for this project will be a blog post reporting your findings."
   ]
  },
  {
   "cell_type": "code",
   "execution_count": 1,
   "metadata": {
    "collapsed": false,
    "jupyter": {
     "outputs_hidden": false
    },
    "pycharm": {
     "name": "#%%\n"
    }
   },
   "outputs": [
    {
     "name": "stdout",
     "output_type": "stream",
     "text": [
      "Collecting xgboost\n",
      "  Downloading xgboost-1.4.2-py3-none-manylinux2010_x86_64.whl (166.7 MB)\n",
      "\u001b[K     |████████████████████████████████| 166.7 MB 12 kB/s /s eta 0:00:01   |█████████████████▍              | 90.6 MB 30.1 MB/s eta 0:00:03\n",
      "\u001b[?25hRequirement already satisfied: scipy in /home/ec2-user/anaconda3/envs/amazonei_mxnet_p36/lib/python3.6/site-packages (from xgboost) (1.5.3)\n",
      "Requirement already satisfied: numpy in /home/ec2-user/anaconda3/envs/amazonei_mxnet_p36/lib/python3.6/site-packages (from xgboost) (1.19.5)\n",
      "Installing collected packages: xgboost\n",
      "Successfully installed xgboost-1.4.2\n",
      "\u001b[33mWARNING: You are using pip version 21.1.3; however, version 21.2.4 is available.\n",
      "You should consider upgrading via the '/home/ec2-user/anaconda3/envs/amazonei_mxnet_p36/bin/python -m pip install --upgrade pip' command.\u001b[0m\n",
      "Note: you may need to restart the kernel to use updated packages.\n"
     ]
    }
   ],
   "source": [
    "pip install xgboost"
   ]
  },
  {
   "cell_type": "code",
   "execution_count": 2,
   "metadata": {
    "collapsed": false,
    "jupyter": {
     "outputs_hidden": false
    },
    "pycharm": {
     "name": "#%%\n"
    }
   },
   "outputs": [
    {
     "name": "stdout",
     "output_type": "stream",
     "text": [
      "Collecting bayesian-optimization\n",
      "  Downloading bayesian-optimization-1.2.0.tar.gz (14 kB)\n",
      "Requirement already satisfied: numpy>=1.9.0 in /home/ec2-user/anaconda3/envs/amazonei_mxnet_p36/lib/python3.6/site-packages (from bayesian-optimization) (1.19.5)\n",
      "Requirement already satisfied: scipy>=0.14.0 in /home/ec2-user/anaconda3/envs/amazonei_mxnet_p36/lib/python3.6/site-packages (from bayesian-optimization) (1.5.3)\n",
      "Requirement already satisfied: scikit-learn>=0.18.0 in /home/ec2-user/anaconda3/envs/amazonei_mxnet_p36/lib/python3.6/site-packages (from bayesian-optimization) (0.24.1)\n",
      "Requirement already satisfied: threadpoolctl>=2.0.0 in /home/ec2-user/anaconda3/envs/amazonei_mxnet_p36/lib/python3.6/site-packages (from scikit-learn>=0.18.0->bayesian-optimization) (2.1.0)\n",
      "Requirement already satisfied: joblib>=0.11 in /home/ec2-user/anaconda3/envs/amazonei_mxnet_p36/lib/python3.6/site-packages (from scikit-learn>=0.18.0->bayesian-optimization) (1.0.1)\n",
      "Building wheels for collected packages: bayesian-optimization\n",
      "  Building wheel for bayesian-optimization (setup.py) ... \u001b[?25ldone\n",
      "\u001b[?25h  Created wheel for bayesian-optimization: filename=bayesian_optimization-1.2.0-py3-none-any.whl size=11685 sha256=53b5fac10b7969c0aa9b7fb60b041d480cf228eb93f474d4c52998dcb34184a5\n",
      "  Stored in directory: /home/ec2-user/.cache/pip/wheels/22/cf/f4/600b7619db8e0ce75023fc14145fc432a54522b7b7b4778ecf\n",
      "Successfully built bayesian-optimization\n",
      "Installing collected packages: bayesian-optimization\n",
      "Successfully installed bayesian-optimization-1.2.0\n",
      "\u001b[33mWARNING: You are using pip version 21.1.3; however, version 21.2.4 is available.\n",
      "You should consider upgrading via the '/home/ec2-user/anaconda3/envs/amazonei_mxnet_p36/bin/python -m pip install --upgrade pip' command.\u001b[0m\n",
      "Note: you may need to restart the kernel to use updated packages.\n"
     ]
    }
   ],
   "source": [
    "pip install bayesian-optimization"
   ]
  },
  {
   "cell_type": "code",
   "execution_count": 3,
   "metadata": {
    "collapsed": false,
    "jupyter": {
     "outputs_hidden": false
    },
    "pycharm": {
     "name": "#%%\n"
    }
   },
   "outputs": [
    {
     "name": "stdout",
     "output_type": "stream",
     "text": [
      "Collecting lightgbm\n",
      "  Downloading lightgbm-3.2.1-py3-none-manylinux1_x86_64.whl (2.0 MB)\n",
      "\u001b[K     |████████████████████████████████| 2.0 MB 34.2 MB/s eta 0:00:01\n",
      "\u001b[?25hRequirement already satisfied: scipy in /home/ec2-user/anaconda3/envs/amazonei_mxnet_p36/lib/python3.6/site-packages (from lightgbm) (1.5.3)\n",
      "Requirement already satisfied: numpy in /home/ec2-user/anaconda3/envs/amazonei_mxnet_p36/lib/python3.6/site-packages (from lightgbm) (1.19.5)\n",
      "Requirement already satisfied: scikit-learn!=0.22.0 in /home/ec2-user/anaconda3/envs/amazonei_mxnet_p36/lib/python3.6/site-packages (from lightgbm) (0.24.1)\n",
      "Requirement already satisfied: wheel in /home/ec2-user/anaconda3/envs/amazonei_mxnet_p36/lib/python3.6/site-packages (from lightgbm) (0.36.2)\n",
      "Requirement already satisfied: threadpoolctl>=2.0.0 in /home/ec2-user/anaconda3/envs/amazonei_mxnet_p36/lib/python3.6/site-packages (from scikit-learn!=0.22.0->lightgbm) (2.1.0)\n",
      "Requirement already satisfied: joblib>=0.11 in /home/ec2-user/anaconda3/envs/amazonei_mxnet_p36/lib/python3.6/site-packages (from scikit-learn!=0.22.0->lightgbm) (1.0.1)\n",
      "Installing collected packages: lightgbm\n",
      "Successfully installed lightgbm-3.2.1\n",
      "\u001b[33mWARNING: You are using pip version 21.1.3; however, version 21.2.4 is available.\n",
      "You should consider upgrading via the '/home/ec2-user/anaconda3/envs/amazonei_mxnet_p36/bin/python -m pip install --upgrade pip' command.\u001b[0m\n",
      "Note: you may need to restart the kernel to use updated packages.\n"
     ]
    }
   ],
   "source": [
    "pip install lightgbm"
   ]
  },
  {
   "cell_type": "code",
   "execution_count": 4,
   "metadata": {
    "collapsed": false,
    "jupyter": {
     "outputs_hidden": false
    },
    "pycharm": {
     "name": "#%%\n"
    }
   },
   "outputs": [
    {
     "name": "stdout",
     "output_type": "stream",
     "text": [
      "Collecting scikit-optimize==0.8.1\n",
      "  Downloading scikit_optimize-0.8.1-py2.py3-none-any.whl (101 kB)\n",
      "\u001b[K     |████████████████████████████████| 101 kB 1.8 MB/s eta 0:00:01\n",
      "\u001b[?25hRequirement already satisfied: scikit-learn>=0.20.0 in /home/ec2-user/anaconda3/envs/amazonei_mxnet_p36/lib/python3.6/site-packages (from scikit-optimize==0.8.1) (0.24.1)\n",
      "Requirement already satisfied: scipy>=0.19.1 in /home/ec2-user/anaconda3/envs/amazonei_mxnet_p36/lib/python3.6/site-packages (from scikit-optimize==0.8.1) (1.5.3)\n",
      "Requirement already satisfied: joblib>=0.11 in /home/ec2-user/anaconda3/envs/amazonei_mxnet_p36/lib/python3.6/site-packages (from scikit-optimize==0.8.1) (1.0.1)\n",
      "Requirement already satisfied: numpy>=1.13.3 in /home/ec2-user/anaconda3/envs/amazonei_mxnet_p36/lib/python3.6/site-packages (from scikit-optimize==0.8.1) (1.19.5)\n",
      "Collecting pyaml>=16.9\n",
      "  Downloading pyaml-21.8.3-py2.py3-none-any.whl (17 kB)\n",
      "Requirement already satisfied: PyYAML in /home/ec2-user/anaconda3/envs/amazonei_mxnet_p36/lib/python3.6/site-packages (from pyaml>=16.9->scikit-optimize==0.8.1) (5.4.1)\n",
      "Requirement already satisfied: threadpoolctl>=2.0.0 in /home/ec2-user/anaconda3/envs/amazonei_mxnet_p36/lib/python3.6/site-packages (from scikit-learn>=0.20.0->scikit-optimize==0.8.1) (2.1.0)\n",
      "Installing collected packages: pyaml, scikit-optimize\n",
      "Successfully installed pyaml-21.8.3 scikit-optimize-0.8.1\n",
      "\u001b[33mWARNING: You are using pip version 21.1.3; however, version 21.2.4 is available.\n",
      "You should consider upgrading via the '/home/ec2-user/anaconda3/envs/amazonei_mxnet_p36/bin/python -m pip install --upgrade pip' command.\u001b[0m\n",
      "Note: you may need to restart the kernel to use updated packages.\n"
     ]
    }
   ],
   "source": [
    "pip install scikit-optimize==0.8.1"
   ]
  },
  {
   "cell_type": "code",
   "execution_count": 5,
   "metadata": {
    "collapsed": false,
    "jupyter": {
     "outputs_hidden": false
    },
    "pycharm": {
     "name": "#%%\n"
    }
   },
   "outputs": [
    {
     "name": "stdout",
     "output_type": "stream",
     "text": [
      "Collecting scikit-learn==0.23.2\n",
      "  Downloading scikit_learn-0.23.2-cp36-cp36m-manylinux1_x86_64.whl (6.8 MB)\n",
      "\u001b[K     |████████████████████████████████| 6.8 MB 17.6 MB/s eta 0:00:01\n",
      "\u001b[?25hRequirement already satisfied: scipy>=0.19.1 in /home/ec2-user/anaconda3/envs/amazonei_mxnet_p36/lib/python3.6/site-packages (from scikit-learn==0.23.2) (1.5.3)\n",
      "Requirement already satisfied: joblib>=0.11 in /home/ec2-user/anaconda3/envs/amazonei_mxnet_p36/lib/python3.6/site-packages (from scikit-learn==0.23.2) (1.0.1)\n",
      "Requirement already satisfied: threadpoolctl>=2.0.0 in /home/ec2-user/anaconda3/envs/amazonei_mxnet_p36/lib/python3.6/site-packages (from scikit-learn==0.23.2) (2.1.0)\n",
      "Requirement already satisfied: numpy>=1.13.3 in /home/ec2-user/anaconda3/envs/amazonei_mxnet_p36/lib/python3.6/site-packages (from scikit-learn==0.23.2) (1.19.5)\n",
      "Installing collected packages: scikit-learn\n",
      "  Attempting uninstall: scikit-learn\n",
      "    Found existing installation: scikit-learn 0.24.1\n",
      "    Uninstalling scikit-learn-0.24.1:\n",
      "      Successfully uninstalled scikit-learn-0.24.1\n",
      "Successfully installed scikit-learn-0.23.2\n",
      "\u001b[33mWARNING: You are using pip version 21.1.3; however, version 21.2.4 is available.\n",
      "You should consider upgrading via the '/home/ec2-user/anaconda3/envs/amazonei_mxnet_p36/bin/python -m pip install --upgrade pip' command.\u001b[0m\n",
      "Note: you may need to restart the kernel to use updated packages.\n"
     ]
    }
   ],
   "source": [
    "pip install scikit-learn==0.23.2"
   ]
  },
  {
   "cell_type": "code",
   "execution_count": 6,
   "metadata": {
    "collapsed": false,
    "jupyter": {
     "outputs_hidden": false
    },
    "pycharm": {
     "name": "#%%\n"
    }
   },
   "outputs": [],
   "source": [
    "# import libraries here; add more as necessary\n",
    "\n",
    "from sklearn.preprocessing import StandardScaler\n",
    "from sklearn.decomposition import PCA\n",
    "from sklearn.pipeline import Pipeline\n",
    "from sklearn.cluster import KMeans\n",
    "\n",
    "from sklearn.impute import SimpleImputer\n",
    "\n",
    "import matplotlib.pyplot as plt\n",
    "import seaborn as sns\n",
    "\n",
    "import numpy as np\n",
    "import pandas as pd\n",
    "\n",
    "\n",
    "%matplotlib inline\n",
    "plt.style.use('fivethirtyeight')"
   ]
  },
  {
   "cell_type": "markdown",
   "metadata": {},
   "source": [
    "## Part 0: Get to Know the Data\n",
    "\n",
    "There are four data files associated with this project:\n",
    "\n",
    "- `Udacity_AZDIAS_052018.csv`: Demographics data for the general population of Germany; 891 211 persons (rows) x 366 features (columns).\n",
    "- `Udacity_CUSTOMERS_052018.csv`: Demographics data for customers of a mail-order company; 191 652 persons (rows) x 369 features (columns).\n",
    "- `Udacity_MAILOUT_052018_TRAIN.csv`: Demographics data for individuals who were targets of a marketing campaign; 42 982 persons (rows) x 367 (columns).\n",
    "- `Udacity_MAILOUT_052018_TEST.csv`: Demographics data for individuals who were targets of a marketing campaign; 42 833 persons (rows) x 366 (columns).\n"
   ]
  },
  {
   "cell_type": "code",
   "execution_count": 7,
   "metadata": {
    "collapsed": false,
    "jupyter": {
     "outputs_hidden": false
    },
    "pycharm": {
     "name": "#%%\n"
    }
   },
   "outputs": [],
   "source": [
    "# I have renamed Udacity_AZDIAS_052018.csv and Udacity_CUSTOMERS_052018.csv for more readability\n",
    "# load data from csv files to make operation on them\n",
    "# missing values found in section of missing values and set it here for furure use\n",
    "missing_values = [\"X\", \"XX\"]\n",
    "azdias = pd.read_csv('../data/azdias.csv',sep=';',na_values=missing_values)\n",
    "customers = pd.read_csv('../data/customers.csv',sep=';',na_values=missing_values)\n",
    "\n"
   ]
  },
  {
   "cell_type": "code",
   "execution_count": 8,
   "metadata": {},
   "outputs": [],
   "source": [
    "#I have renamed DIAS Attributes - Values 2017.xlsx to attributes\n",
    "# use openpyxl as an engine for reading xlsx files\n",
    "# as far as first row of attributes file is empty I set skip first row of attributes\n",
    "attributes = pd.read_excel('../data/attributes.xlsx' , engine='openpyxl', skiprows = 1)"
   ]
  },
  {
   "cell_type": "code",
   "execution_count": 9,
   "metadata": {},
   "outputs": [],
   "source": [
    "#there are three features in customers dataframe that is not in azdias \n",
    "# so I remove these three feature from customers dataframe\n",
    "# I put axis=1 because I want to drop columns from dataframe\n",
    "# I put inplace=true to make changes on customers here and does not need to save it in another variable\n",
    "\n",
    "customers.drop(['PRODUCT_GROUP', 'CUSTOMER_GROUP', 'ONLINE_PURCHASE'], axis = 1, inplace = True)"
   ]
  },
  {
   "cell_type": "code",
   "execution_count": 10,
   "metadata": {
    "collapsed": false,
    "jupyter": {
     "outputs_hidden": false
    },
    "pycharm": {
     "name": "#%%\n"
    }
   },
   "outputs": [
    {
     "data": {
      "text/plain": [
       "(891221, 366)"
      ]
     },
     "execution_count": 10,
     "metadata": {},
     "output_type": "execute_result"
    }
   ],
   "source": [
    "#check the shape of azdias dataframe\n",
    "azdias.shape"
   ]
  },
  {
   "cell_type": "code",
   "execution_count": 11,
   "metadata": {},
   "outputs": [
    {
     "data": {
      "text/plain": [
       "(191652, 366)"
      ]
     },
     "execution_count": 11,
     "metadata": {},
     "output_type": "execute_result"
    }
   ],
   "source": [
    "#check the shape of customers dataframe\n",
    "customers.shape"
   ]
  },
  {
   "cell_type": "code",
   "execution_count": 12,
   "metadata": {
    "collapsed": false,
    "jupyter": {
     "outputs_hidden": false
    },
    "pycharm": {
     "name": "#%%\n"
    }
   },
   "outputs": [
    {
     "data": {
      "text/html": [
       "<div>\n",
       "<style scoped>\n",
       "    .dataframe tbody tr th:only-of-type {\n",
       "        vertical-align: middle;\n",
       "    }\n",
       "\n",
       "    .dataframe tbody tr th {\n",
       "        vertical-align: top;\n",
       "    }\n",
       "\n",
       "    .dataframe thead th {\n",
       "        text-align: right;\n",
       "    }\n",
       "</style>\n",
       "<table border=\"1\" class=\"dataframe\">\n",
       "  <thead>\n",
       "    <tr style=\"text-align: right;\">\n",
       "      <th></th>\n",
       "      <th>LNR</th>\n",
       "      <th>AGER_TYP</th>\n",
       "      <th>AKT_DAT_KL</th>\n",
       "      <th>ALTER_HH</th>\n",
       "      <th>ALTER_KIND1</th>\n",
       "      <th>ALTER_KIND2</th>\n",
       "      <th>ALTER_KIND3</th>\n",
       "      <th>ALTER_KIND4</th>\n",
       "      <th>ALTERSKATEGORIE_FEIN</th>\n",
       "      <th>ANZ_HAUSHALTE_AKTIV</th>\n",
       "      <th>...</th>\n",
       "      <th>VHN</th>\n",
       "      <th>VK_DHT4A</th>\n",
       "      <th>VK_DISTANZ</th>\n",
       "      <th>VK_ZG11</th>\n",
       "      <th>W_KEIT_KIND_HH</th>\n",
       "      <th>WOHNDAUER_2008</th>\n",
       "      <th>WOHNLAGE</th>\n",
       "      <th>ZABEOTYP</th>\n",
       "      <th>ANREDE_KZ</th>\n",
       "      <th>ALTERSKATEGORIE_GROB</th>\n",
       "    </tr>\n",
       "  </thead>\n",
       "  <tbody>\n",
       "    <tr>\n",
       "      <th>0</th>\n",
       "      <td>910215</td>\n",
       "      <td>-1</td>\n",
       "      <td>NaN</td>\n",
       "      <td>NaN</td>\n",
       "      <td>NaN</td>\n",
       "      <td>NaN</td>\n",
       "      <td>NaN</td>\n",
       "      <td>NaN</td>\n",
       "      <td>NaN</td>\n",
       "      <td>NaN</td>\n",
       "      <td>...</td>\n",
       "      <td>NaN</td>\n",
       "      <td>NaN</td>\n",
       "      <td>NaN</td>\n",
       "      <td>NaN</td>\n",
       "      <td>NaN</td>\n",
       "      <td>NaN</td>\n",
       "      <td>NaN</td>\n",
       "      <td>3</td>\n",
       "      <td>1</td>\n",
       "      <td>2</td>\n",
       "    </tr>\n",
       "    <tr>\n",
       "      <th>1</th>\n",
       "      <td>910220</td>\n",
       "      <td>-1</td>\n",
       "      <td>9.0</td>\n",
       "      <td>0.0</td>\n",
       "      <td>NaN</td>\n",
       "      <td>NaN</td>\n",
       "      <td>NaN</td>\n",
       "      <td>NaN</td>\n",
       "      <td>21.0</td>\n",
       "      <td>11.0</td>\n",
       "      <td>...</td>\n",
       "      <td>4.0</td>\n",
       "      <td>8.0</td>\n",
       "      <td>11.0</td>\n",
       "      <td>10.0</td>\n",
       "      <td>3.0</td>\n",
       "      <td>9.0</td>\n",
       "      <td>4.0</td>\n",
       "      <td>5</td>\n",
       "      <td>2</td>\n",
       "      <td>1</td>\n",
       "    </tr>\n",
       "    <tr>\n",
       "      <th>2</th>\n",
       "      <td>910225</td>\n",
       "      <td>-1</td>\n",
       "      <td>9.0</td>\n",
       "      <td>17.0</td>\n",
       "      <td>NaN</td>\n",
       "      <td>NaN</td>\n",
       "      <td>NaN</td>\n",
       "      <td>NaN</td>\n",
       "      <td>17.0</td>\n",
       "      <td>10.0</td>\n",
       "      <td>...</td>\n",
       "      <td>2.0</td>\n",
       "      <td>9.0</td>\n",
       "      <td>9.0</td>\n",
       "      <td>6.0</td>\n",
       "      <td>3.0</td>\n",
       "      <td>9.0</td>\n",
       "      <td>2.0</td>\n",
       "      <td>5</td>\n",
       "      <td>2</td>\n",
       "      <td>3</td>\n",
       "    </tr>\n",
       "    <tr>\n",
       "      <th>3</th>\n",
       "      <td>910226</td>\n",
       "      <td>2</td>\n",
       "      <td>1.0</td>\n",
       "      <td>13.0</td>\n",
       "      <td>NaN</td>\n",
       "      <td>NaN</td>\n",
       "      <td>NaN</td>\n",
       "      <td>NaN</td>\n",
       "      <td>13.0</td>\n",
       "      <td>1.0</td>\n",
       "      <td>...</td>\n",
       "      <td>0.0</td>\n",
       "      <td>7.0</td>\n",
       "      <td>10.0</td>\n",
       "      <td>11.0</td>\n",
       "      <td>NaN</td>\n",
       "      <td>9.0</td>\n",
       "      <td>7.0</td>\n",
       "      <td>3</td>\n",
       "      <td>2</td>\n",
       "      <td>4</td>\n",
       "    </tr>\n",
       "    <tr>\n",
       "      <th>4</th>\n",
       "      <td>910241</td>\n",
       "      <td>-1</td>\n",
       "      <td>1.0</td>\n",
       "      <td>20.0</td>\n",
       "      <td>NaN</td>\n",
       "      <td>NaN</td>\n",
       "      <td>NaN</td>\n",
       "      <td>NaN</td>\n",
       "      <td>14.0</td>\n",
       "      <td>3.0</td>\n",
       "      <td>...</td>\n",
       "      <td>2.0</td>\n",
       "      <td>3.0</td>\n",
       "      <td>5.0</td>\n",
       "      <td>4.0</td>\n",
       "      <td>2.0</td>\n",
       "      <td>9.0</td>\n",
       "      <td>3.0</td>\n",
       "      <td>4</td>\n",
       "      <td>1</td>\n",
       "      <td>3</td>\n",
       "    </tr>\n",
       "  </tbody>\n",
       "</table>\n",
       "<p>5 rows × 366 columns</p>\n",
       "</div>"
      ],
      "text/plain": [
       "      LNR  AGER_TYP  AKT_DAT_KL  ALTER_HH  ALTER_KIND1  ALTER_KIND2  \\\n",
       "0  910215        -1         NaN       NaN          NaN          NaN   \n",
       "1  910220        -1         9.0       0.0          NaN          NaN   \n",
       "2  910225        -1         9.0      17.0          NaN          NaN   \n",
       "3  910226         2         1.0      13.0          NaN          NaN   \n",
       "4  910241        -1         1.0      20.0          NaN          NaN   \n",
       "\n",
       "   ALTER_KIND3  ALTER_KIND4  ALTERSKATEGORIE_FEIN  ANZ_HAUSHALTE_AKTIV  ...  \\\n",
       "0          NaN          NaN                   NaN                  NaN  ...   \n",
       "1          NaN          NaN                  21.0                 11.0  ...   \n",
       "2          NaN          NaN                  17.0                 10.0  ...   \n",
       "3          NaN          NaN                  13.0                  1.0  ...   \n",
       "4          NaN          NaN                  14.0                  3.0  ...   \n",
       "\n",
       "   VHN  VK_DHT4A  VK_DISTANZ  VK_ZG11  W_KEIT_KIND_HH  WOHNDAUER_2008  \\\n",
       "0  NaN       NaN         NaN      NaN             NaN             NaN   \n",
       "1  4.0       8.0        11.0     10.0             3.0             9.0   \n",
       "2  2.0       9.0         9.0      6.0             3.0             9.0   \n",
       "3  0.0       7.0        10.0     11.0             NaN             9.0   \n",
       "4  2.0       3.0         5.0      4.0             2.0             9.0   \n",
       "\n",
       "   WOHNLAGE ZABEOTYP  ANREDE_KZ  ALTERSKATEGORIE_GROB  \n",
       "0       NaN        3          1                     2  \n",
       "1       4.0        5          2                     1  \n",
       "2       2.0        5          2                     3  \n",
       "3       7.0        3          2                     4  \n",
       "4       3.0        4          1                     3  \n",
       "\n",
       "[5 rows x 366 columns]"
      ]
     },
     "execution_count": 12,
     "metadata": {},
     "output_type": "execute_result"
    }
   ],
   "source": [
    "#to see rows of dataframe I use head(n) that It's default value is 5\n",
    "\n",
    "azdias.head()"
   ]
  },
  {
   "cell_type": "code",
   "execution_count": 13,
   "metadata": {
    "collapsed": false,
    "jupyter": {
     "outputs_hidden": false
    },
    "pycharm": {
     "name": "#%%\n"
    }
   },
   "outputs": [
    {
     "data": {
      "text/html": [
       "<div>\n",
       "<style scoped>\n",
       "    .dataframe tbody tr th:only-of-type {\n",
       "        vertical-align: middle;\n",
       "    }\n",
       "\n",
       "    .dataframe tbody tr th {\n",
       "        vertical-align: top;\n",
       "    }\n",
       "\n",
       "    .dataframe thead th {\n",
       "        text-align: right;\n",
       "    }\n",
       "</style>\n",
       "<table border=\"1\" class=\"dataframe\">\n",
       "  <thead>\n",
       "    <tr style=\"text-align: right;\">\n",
       "      <th></th>\n",
       "      <th>LNR</th>\n",
       "      <th>AGER_TYP</th>\n",
       "      <th>AKT_DAT_KL</th>\n",
       "      <th>ALTER_HH</th>\n",
       "      <th>ALTER_KIND1</th>\n",
       "      <th>ALTER_KIND2</th>\n",
       "      <th>ALTER_KIND3</th>\n",
       "      <th>ALTER_KIND4</th>\n",
       "      <th>ALTERSKATEGORIE_FEIN</th>\n",
       "      <th>ANZ_HAUSHALTE_AKTIV</th>\n",
       "      <th>...</th>\n",
       "      <th>VHN</th>\n",
       "      <th>VK_DHT4A</th>\n",
       "      <th>VK_DISTANZ</th>\n",
       "      <th>VK_ZG11</th>\n",
       "      <th>W_KEIT_KIND_HH</th>\n",
       "      <th>WOHNDAUER_2008</th>\n",
       "      <th>WOHNLAGE</th>\n",
       "      <th>ZABEOTYP</th>\n",
       "      <th>ANREDE_KZ</th>\n",
       "      <th>ALTERSKATEGORIE_GROB</th>\n",
       "    </tr>\n",
       "  </thead>\n",
       "  <tbody>\n",
       "    <tr>\n",
       "      <th>0</th>\n",
       "      <td>9626</td>\n",
       "      <td>2</td>\n",
       "      <td>1.0</td>\n",
       "      <td>10.0</td>\n",
       "      <td>NaN</td>\n",
       "      <td>NaN</td>\n",
       "      <td>NaN</td>\n",
       "      <td>NaN</td>\n",
       "      <td>10.0</td>\n",
       "      <td>1.0</td>\n",
       "      <td>...</td>\n",
       "      <td>3.0</td>\n",
       "      <td>5.0</td>\n",
       "      <td>3.0</td>\n",
       "      <td>2.0</td>\n",
       "      <td>6.0</td>\n",
       "      <td>9.0</td>\n",
       "      <td>7.0</td>\n",
       "      <td>3</td>\n",
       "      <td>1</td>\n",
       "      <td>4</td>\n",
       "    </tr>\n",
       "    <tr>\n",
       "      <th>1</th>\n",
       "      <td>9628</td>\n",
       "      <td>-1</td>\n",
       "      <td>9.0</td>\n",
       "      <td>11.0</td>\n",
       "      <td>NaN</td>\n",
       "      <td>NaN</td>\n",
       "      <td>NaN</td>\n",
       "      <td>NaN</td>\n",
       "      <td>NaN</td>\n",
       "      <td>NaN</td>\n",
       "      <td>...</td>\n",
       "      <td>NaN</td>\n",
       "      <td>6.0</td>\n",
       "      <td>6.0</td>\n",
       "      <td>3.0</td>\n",
       "      <td>0.0</td>\n",
       "      <td>9.0</td>\n",
       "      <td>NaN</td>\n",
       "      <td>3</td>\n",
       "      <td>1</td>\n",
       "      <td>4</td>\n",
       "    </tr>\n",
       "    <tr>\n",
       "      <th>2</th>\n",
       "      <td>143872</td>\n",
       "      <td>-1</td>\n",
       "      <td>1.0</td>\n",
       "      <td>6.0</td>\n",
       "      <td>NaN</td>\n",
       "      <td>NaN</td>\n",
       "      <td>NaN</td>\n",
       "      <td>NaN</td>\n",
       "      <td>0.0</td>\n",
       "      <td>1.0</td>\n",
       "      <td>...</td>\n",
       "      <td>4.0</td>\n",
       "      <td>10.0</td>\n",
       "      <td>13.0</td>\n",
       "      <td>11.0</td>\n",
       "      <td>6.0</td>\n",
       "      <td>9.0</td>\n",
       "      <td>2.0</td>\n",
       "      <td>3</td>\n",
       "      <td>2</td>\n",
       "      <td>4</td>\n",
       "    </tr>\n",
       "    <tr>\n",
       "      <th>3</th>\n",
       "      <td>143873</td>\n",
       "      <td>1</td>\n",
       "      <td>1.0</td>\n",
       "      <td>8.0</td>\n",
       "      <td>NaN</td>\n",
       "      <td>NaN</td>\n",
       "      <td>NaN</td>\n",
       "      <td>NaN</td>\n",
       "      <td>8.0</td>\n",
       "      <td>0.0</td>\n",
       "      <td>...</td>\n",
       "      <td>2.0</td>\n",
       "      <td>6.0</td>\n",
       "      <td>4.0</td>\n",
       "      <td>2.0</td>\n",
       "      <td>NaN</td>\n",
       "      <td>9.0</td>\n",
       "      <td>7.0</td>\n",
       "      <td>1</td>\n",
       "      <td>1</td>\n",
       "      <td>4</td>\n",
       "    </tr>\n",
       "    <tr>\n",
       "      <th>4</th>\n",
       "      <td>143874</td>\n",
       "      <td>-1</td>\n",
       "      <td>1.0</td>\n",
       "      <td>20.0</td>\n",
       "      <td>NaN</td>\n",
       "      <td>NaN</td>\n",
       "      <td>NaN</td>\n",
       "      <td>NaN</td>\n",
       "      <td>14.0</td>\n",
       "      <td>7.0</td>\n",
       "      <td>...</td>\n",
       "      <td>4.0</td>\n",
       "      <td>3.0</td>\n",
       "      <td>5.0</td>\n",
       "      <td>4.0</td>\n",
       "      <td>2.0</td>\n",
       "      <td>9.0</td>\n",
       "      <td>3.0</td>\n",
       "      <td>1</td>\n",
       "      <td>1</td>\n",
       "      <td>3</td>\n",
       "    </tr>\n",
       "  </tbody>\n",
       "</table>\n",
       "<p>5 rows × 366 columns</p>\n",
       "</div>"
      ],
      "text/plain": [
       "      LNR  AGER_TYP  AKT_DAT_KL  ALTER_HH  ALTER_KIND1  ALTER_KIND2  \\\n",
       "0    9626         2         1.0      10.0          NaN          NaN   \n",
       "1    9628        -1         9.0      11.0          NaN          NaN   \n",
       "2  143872        -1         1.0       6.0          NaN          NaN   \n",
       "3  143873         1         1.0       8.0          NaN          NaN   \n",
       "4  143874        -1         1.0      20.0          NaN          NaN   \n",
       "\n",
       "   ALTER_KIND3  ALTER_KIND4  ALTERSKATEGORIE_FEIN  ANZ_HAUSHALTE_AKTIV  ...  \\\n",
       "0          NaN          NaN                  10.0                  1.0  ...   \n",
       "1          NaN          NaN                   NaN                  NaN  ...   \n",
       "2          NaN          NaN                   0.0                  1.0  ...   \n",
       "3          NaN          NaN                   8.0                  0.0  ...   \n",
       "4          NaN          NaN                  14.0                  7.0  ...   \n",
       "\n",
       "   VHN  VK_DHT4A  VK_DISTANZ  VK_ZG11  W_KEIT_KIND_HH  WOHNDAUER_2008  \\\n",
       "0  3.0       5.0         3.0      2.0             6.0             9.0   \n",
       "1  NaN       6.0         6.0      3.0             0.0             9.0   \n",
       "2  4.0      10.0        13.0     11.0             6.0             9.0   \n",
       "3  2.0       6.0         4.0      2.0             NaN             9.0   \n",
       "4  4.0       3.0         5.0      4.0             2.0             9.0   \n",
       "\n",
       "   WOHNLAGE ZABEOTYP  ANREDE_KZ  ALTERSKATEGORIE_GROB  \n",
       "0       7.0        3          1                     4  \n",
       "1       NaN        3          1                     4  \n",
       "2       2.0        3          2                     4  \n",
       "3       7.0        1          1                     4  \n",
       "4       3.0        1          1                     3  \n",
       "\n",
       "[5 rows x 366 columns]"
      ]
     },
     "execution_count": 13,
     "metadata": {},
     "output_type": "execute_result"
    }
   ],
   "source": [
    "#to see rows of dataframe I use head(n) that It's default value is 5\n",
    "\n",
    "customers.head()"
   ]
  },
  {
   "cell_type": "code",
   "execution_count": 14,
   "metadata": {},
   "outputs": [
    {
     "data": {
      "text/plain": [
       "CAMEO_DEU_2015                44\n",
       "D19_LETZTER_KAUF_BRANCHE      35\n",
       "EINGEFUEGT_AM               5162\n",
       "OST_WEST_KZ                    2\n",
       "dtype: int64"
      ]
     },
     "execution_count": 14,
     "metadata": {},
     "output_type": "execute_result"
    }
   ],
   "source": [
    "#here I check all features datatype to found the ones that have object datatype\n",
    "#after finding them I have to check number of those features \n",
    "#if it has fewer object datatype I have to change them to nan\n",
    "# and if it has too many object datatype I have to tranform them to suitable datatype\n",
    "\n",
    "#get list of feature with object datatype by name\n",
    "list_object_feature = list(azdias.select_dtypes(include=['object']).columns)\n",
    "\n",
    "#change list of feature to index of them\n",
    "list_object_feature_index=azdias.columns.get_indexer(list_object_feature)\n",
    "\n",
    "#list those features and number of unique elements in the object\n",
    "azdias.iloc[:, list_object_feature_index].nunique()"
   ]
  },
  {
   "cell_type": "code",
   "execution_count": 15,
   "metadata": {},
   "outputs": [
    {
     "data": {
      "text/plain": [
       "array([nan, 'W', 'O'], dtype=object)"
      ]
     },
     "execution_count": 15,
     "metadata": {},
     "output_type": "execute_result"
    }
   ],
   "source": [
    "azdias[\"OST_WEST_KZ\"].unique()"
   ]
  },
  {
   "cell_type": "markdown",
   "metadata": {},
   "source": [
    "OST_WEST_KZ is flag indicating the former GDR/FRG and have -1,w,o and because it has two parameter I will change it to binary 0,1"
   ]
  },
  {
   "cell_type": "code",
   "execution_count": 16,
   "metadata": {},
   "outputs": [
    {
     "data": {
      "text/plain": [
       "array([nan, 'D19_UNBEKANNT', 'D19_SCHUHE', 'D19_ENERGIE', 'D19_KOSMETIK',\n",
       "       'D19_VOLLSORTIMENT', 'D19_SONSTIGE', 'D19_BANKEN_GROSS',\n",
       "       'D19_DROGERIEARTIKEL', 'D19_HANDWERK', 'D19_BUCH_CD',\n",
       "       'D19_VERSICHERUNGEN', 'D19_VERSAND_REST', 'D19_TELKO_REST',\n",
       "       'D19_BANKEN_DIREKT', 'D19_BANKEN_REST', 'D19_FREIZEIT',\n",
       "       'D19_LEBENSMITTEL', 'D19_HAUS_DEKO', 'D19_BEKLEIDUNG_REST',\n",
       "       'D19_SAMMELARTIKEL', 'D19_TELKO_MOBILE', 'D19_REISEN',\n",
       "       'D19_BEKLEIDUNG_GEH', 'D19_TECHNIK', 'D19_NAHRUNGSERGAENZUNG',\n",
       "       'D19_DIGIT_SERV', 'D19_LOTTO', 'D19_RATGEBER', 'D19_TIERARTIKEL',\n",
       "       'D19_KINDERARTIKEL', 'D19_BIO_OEKO', 'D19_WEIN_FEINKOST',\n",
       "       'D19_GARTEN', 'D19_BILDUNG', 'D19_BANKEN_LOKAL'], dtype=object)"
      ]
     },
     "execution_count": 16,
     "metadata": {},
     "output_type": "execute_result"
    }
   ],
   "source": [
    "azdias[\"D19_LETZTER_KAUF_BRANCHE\"].unique()"
   ]
  },
  {
   "cell_type": "markdown",
   "metadata": {},
   "source": [
    "D19_LETZTER_KAUF_BRANCHE has too many categorical value so I will drop it later"
   ]
  },
  {
   "cell_type": "code",
   "execution_count": 17,
   "metadata": {},
   "outputs": [
    {
     "data": {
      "text/plain": [
       "array([nan, '8A', '4C', '2A', '6B', '8C', '4A', '2D', '1A', '1E', '9D',\n",
       "       '5C', '8B', '7A', '5D', '9E', '9B', '1B', '3D', '4E', '4B', '3C',\n",
       "       '5A', '7B', '9A', '6D', '6E', '2C', '7C', '9C', '7D', '5E', '1D',\n",
       "       '8D', '6C', '6A', '5B', '4D', '3A', '2B', '7E', '3B', '6F', '5F',\n",
       "       '1C'], dtype=object)"
      ]
     },
     "execution_count": 17,
     "metadata": {},
     "output_type": "execute_result"
    }
   ],
   "source": [
    "azdias['CAMEO_DEU_2015'].unique()"
   ]
  },
  {
   "cell_type": "code",
   "execution_count": 18,
   "metadata": {},
   "outputs": [
    {
     "data": {
      "text/plain": [
       "array([nan,  8.,  4.,  2.,  6.,  1.,  9.,  5.,  7.,  3.])"
      ]
     },
     "execution_count": 18,
     "metadata": {},
     "output_type": "execute_result"
    }
   ],
   "source": [
    "azdias['CAMEO_DEUG_2015'].unique()"
   ]
  },
  {
   "cell_type": "code",
   "execution_count": 19,
   "metadata": {},
   "outputs": [
    {
     "data": {
      "text/plain": [
       "array([nan, 51., 24., 12., 43., 54., 22., 14., 13., 15., 33., 41., 34.,\n",
       "       55., 25., 23., 31., 52., 35., 45., 44., 32.])"
      ]
     },
     "execution_count": 19,
     "metadata": {},
     "output_type": "execute_result"
    }
   ],
   "source": [
    "azdias['CAMEO_INTL_2015'].unique()"
   ]
  },
  {
   "cell_type": "markdown",
   "metadata": {},
   "source": [
    "we see all three CAMEO_DEU_2015,CAMEO_DEUG_2015 and CAMEO_INTL_2015 has X and XX value that have to change to nan because they are not correct value"
   ]
  },
  {
   "cell_type": "markdown",
   "metadata": {},
   "source": [
    "I will add them to n_values at the start of project when I want to read azdias and customers datasets"
   ]
  },
  {
   "cell_type": "markdown",
   "metadata": {},
   "source": [
    "EINGEFUEGT_AM has date and time I will extract year so I can mange it as numerical value"
   ]
  },
  {
   "cell_type": "code",
   "execution_count": 20,
   "metadata": {
    "collapsed": false,
    "jupyter": {
     "outputs_hidden": false
    },
    "pycharm": {
     "name": "#%%\n"
    }
   },
   "outputs": [],
   "source": [
    "attributes.drop(['Unnamed: 0'], axis = 1, inplace = True)"
   ]
  },
  {
   "cell_type": "markdown",
   "metadata": {},
   "source": [
    "because first column of attribute data frame is empty I will drop it"
   ]
  },
  {
   "cell_type": "markdown",
   "metadata": {},
   "source": [
    "## Deal with missed values"
   ]
  },
  {
   "cell_type": "code",
   "execution_count": 21,
   "metadata": {},
   "outputs": [],
   "source": [
    "#first I have to list all values that recognize as unknow\n",
    "unkown_list= attributes['Meaning'].where(attributes['Meaning'].str.contains('unknown')).value_counts().index"
   ]
  },
  {
   "cell_type": "code",
   "execution_count": 22,
   "metadata": {},
   "outputs": [],
   "source": [
    "# make a list that have unknown values of each attribute\n",
    "unkown_attributes_list = attributes[attributes['Meaning'].isin(unkown_list)]"
   ]
  },
  {
   "cell_type": "code",
   "execution_count": 23,
   "metadata": {},
   "outputs": [],
   "source": [
    "def unknown_to_nan(dataframe):\n",
    "   \n",
    "    # rotate through all of unkown attributes\n",
    "    for row in unkown_attributes_list.iterrows():\n",
    "        \n",
    "        # list the missed Value attributes from attributs excel file\n",
    "        missed_values_list = row[1]['Value']\n",
    "        \n",
    "        # list the attributes from attributs excel file\n",
    "        attribute = row[1]['Attribute']\n",
    "\n",
    "        # to pass if columns is not in dataframe\n",
    "        if attribute not in dataframe.columns:\n",
    "            \n",
    "            continue\n",
    "\n",
    "        # to pass if value is integer\n",
    "        if isinstance(missed_values_list, int):\n",
    "            \n",
    "            dataframe[attribute].replace(missed_values_list, -1, inplace=True)\n",
    "         # to pass if value is String    \n",
    "        elif isinstance(missed_values_list, str):\n",
    "            \n",
    "            #parses the expression to make it as integer -1 with unkown\n",
    "            eval(\"dataframe[attribute].replace([\" + missed_values_list + \"], -1, inplace=True)\")\n",
    "            \n",
    "            dataframe[attribute].replace(missed_values_list, -1, inplace=True)\n",
    "\n",
    "    return dataframe"
   ]
  },
  {
   "cell_type": "code",
   "execution_count": 24,
   "metadata": {
    "collapsed": false,
    "jupyter": {
     "outputs_hidden": false
    },
    "pycharm": {
     "name": "#%%\n"
    }
   },
   "outputs": [],
   "source": [
    "#change all azdias unkown value to fill with -1\n",
    "azdias = unknown_to_nan(azdias)"
   ]
  },
  {
   "cell_type": "code",
   "execution_count": 25,
   "metadata": {},
   "outputs": [],
   "source": [
    "#change all customers unkown value to fill with -1\n",
    "customers = unknown_to_nan(customers)"
   ]
  },
  {
   "cell_type": "code",
   "execution_count": 26,
   "metadata": {},
   "outputs": [
    {
     "name": "stdout",
     "output_type": "stream",
     "text": [
      "percent of azdias column with least number of missing value 0.0\n",
      "percent of azdias column with most number of missing value 99.86479223447382\n"
     ]
    }
   ],
   "source": [
    "azdias_missing_columns = azdias.isnull().sum()/(len(azdias))*100\n",
    "\n",
    "print(\"percent of azdias column with least number of missing value\",azdias_missing_columns.min())\n",
    "print(\"percent of azdias column with most number of missing value\",azdias_missing_columns.max())"
   ]
  },
  {
   "cell_type": "code",
   "execution_count": 27,
   "metadata": {},
   "outputs": [
    {
     "name": "stdout",
     "output_type": "stream",
     "text": [
      "percent of customers column with least number of missing value 0.0\n",
      "percent of customers column with most number of missing value 99.87686014234133\n"
     ]
    }
   ],
   "source": [
    "customers_missing_columns = customers.isnull().sum()/(len(customers))*100\n",
    "\n",
    "print(\"percent of customers column with least number of missing value\",customers_missing_columns.min())\n",
    "print(\"percent of customers column with most number of missing value\",customers_missing_columns.max())"
   ]
  },
  {
   "cell_type": "markdown",
   "metadata": {},
   "source": [
    "there is not any columns that has more than 80 percent data loss except four of them that we will deal with them in next steps"
   ]
  },
  {
   "cell_type": "code",
   "execution_count": 28,
   "metadata": {},
   "outputs": [
    {
     "name": "stdout",
     "output_type": "stream",
     "text": [
      "percent of azdias row with least number of missing value 0.0\n",
      "percent of azdias row with most number of missing value 243173.77049180327\n"
     ]
    }
   ],
   "source": [
    "azdias_missing_rows = azdias.isnull().sum()/(len(azdias.columns))*100\n",
    "\n",
    "print(\"percent of azdias row with least number of missing value\",azdias_missing_rows.min())\n",
    "print(\"percent of azdias row with most number of missing value\",azdias_missing_rows.max())"
   ]
  },
  {
   "cell_type": "code",
   "execution_count": 29,
   "metadata": {},
   "outputs": [
    {
     "name": "stdout",
     "output_type": "stream",
     "text": [
      "percent of customers row with least number of missing value 0.0\n",
      "percent of customers row with most number of missing value 52299.453551912564\n"
     ]
    }
   ],
   "source": [
    "customers_missing_rows = customers.isnull().sum()/(len(customers.columns))*100\n",
    "\n",
    "print(\"percent of customers row with least number of missing value\",customers_missing_rows.min())\n",
    "print(\"percent of customers row with most number of missing value\",customers_missing_rows.max())"
   ]
  },
  {
   "cell_type": "code",
   "execution_count": 30,
   "metadata": {},
   "outputs": [],
   "source": [
    "\n",
    "azdias_missing_columns = azdias.isnull().sum()/(len(azdias))"
   ]
  },
  {
   "cell_type": "code",
   "execution_count": 31,
   "metadata": {},
   "outputs": [
    {
     "data": {
      "text/html": [
       "<div>\n",
       "<style scoped>\n",
       "    .dataframe tbody tr th:only-of-type {\n",
       "        vertical-align: middle;\n",
       "    }\n",
       "\n",
       "    .dataframe tbody tr th {\n",
       "        vertical-align: top;\n",
       "    }\n",
       "\n",
       "    .dataframe thead th {\n",
       "        text-align: right;\n",
       "    }\n",
       "</style>\n",
       "<table border=\"1\" class=\"dataframe\">\n",
       "  <thead>\n",
       "    <tr style=\"text-align: right;\">\n",
       "      <th></th>\n",
       "      <th>ALTER_KIND1</th>\n",
       "      <th>ALTER_KIND2</th>\n",
       "      <th>ALTER_KIND3</th>\n",
       "      <th>ALTER_KIND4</th>\n",
       "    </tr>\n",
       "  </thead>\n",
       "  <tbody>\n",
       "    <tr>\n",
       "      <th>0</th>\n",
       "      <td>NaN</td>\n",
       "      <td>NaN</td>\n",
       "      <td>NaN</td>\n",
       "      <td>NaN</td>\n",
       "    </tr>\n",
       "    <tr>\n",
       "      <th>1</th>\n",
       "      <td>NaN</td>\n",
       "      <td>NaN</td>\n",
       "      <td>NaN</td>\n",
       "      <td>NaN</td>\n",
       "    </tr>\n",
       "    <tr>\n",
       "      <th>2</th>\n",
       "      <td>NaN</td>\n",
       "      <td>NaN</td>\n",
       "      <td>NaN</td>\n",
       "      <td>NaN</td>\n",
       "    </tr>\n",
       "    <tr>\n",
       "      <th>3</th>\n",
       "      <td>NaN</td>\n",
       "      <td>NaN</td>\n",
       "      <td>NaN</td>\n",
       "      <td>NaN</td>\n",
       "    </tr>\n",
       "    <tr>\n",
       "      <th>4</th>\n",
       "      <td>NaN</td>\n",
       "      <td>NaN</td>\n",
       "      <td>NaN</td>\n",
       "      <td>NaN</td>\n",
       "    </tr>\n",
       "    <tr>\n",
       "      <th>...</th>\n",
       "      <td>...</td>\n",
       "      <td>...</td>\n",
       "      <td>...</td>\n",
       "      <td>...</td>\n",
       "    </tr>\n",
       "    <tr>\n",
       "      <th>891216</th>\n",
       "      <td>NaN</td>\n",
       "      <td>NaN</td>\n",
       "      <td>NaN</td>\n",
       "      <td>NaN</td>\n",
       "    </tr>\n",
       "    <tr>\n",
       "      <th>891217</th>\n",
       "      <td>NaN</td>\n",
       "      <td>NaN</td>\n",
       "      <td>NaN</td>\n",
       "      <td>NaN</td>\n",
       "    </tr>\n",
       "    <tr>\n",
       "      <th>891218</th>\n",
       "      <td>NaN</td>\n",
       "      <td>NaN</td>\n",
       "      <td>NaN</td>\n",
       "      <td>NaN</td>\n",
       "    </tr>\n",
       "    <tr>\n",
       "      <th>891219</th>\n",
       "      <td>17.0</td>\n",
       "      <td>NaN</td>\n",
       "      <td>NaN</td>\n",
       "      <td>NaN</td>\n",
       "    </tr>\n",
       "    <tr>\n",
       "      <th>891220</th>\n",
       "      <td>NaN</td>\n",
       "      <td>NaN</td>\n",
       "      <td>NaN</td>\n",
       "      <td>NaN</td>\n",
       "    </tr>\n",
       "  </tbody>\n",
       "</table>\n",
       "<p>891221 rows × 4 columns</p>\n",
       "</div>"
      ],
      "text/plain": [
       "        ALTER_KIND1  ALTER_KIND2  ALTER_KIND3  ALTER_KIND4\n",
       "0               NaN          NaN          NaN          NaN\n",
       "1               NaN          NaN          NaN          NaN\n",
       "2               NaN          NaN          NaN          NaN\n",
       "3               NaN          NaN          NaN          NaN\n",
       "4               NaN          NaN          NaN          NaN\n",
       "...             ...          ...          ...          ...\n",
       "891216          NaN          NaN          NaN          NaN\n",
       "891217          NaN          NaN          NaN          NaN\n",
       "891218          NaN          NaN          NaN          NaN\n",
       "891219         17.0          NaN          NaN          NaN\n",
       "891220          NaN          NaN          NaN          NaN\n",
       "\n",
       "[891221 rows x 4 columns]"
      ]
     },
     "execution_count": 31,
     "metadata": {},
     "output_type": "execute_result"
    }
   ],
   "source": [
    "#list which features have missing value more than 80 percent\n",
    "missing_percent=0.80\n",
    "azdias[azdias_missing_columns[azdias_missing_columns > missing_percent].index]"
   ]
  },
  {
   "cell_type": "markdown",
   "metadata": {},
   "source": [
    "#### ALTER_KIND1,ALTER_KIND2,ALTER_KIND3 and ALTER_KIND4 are features that related to age of childern, so It's ok that some of them is null. I won't drop them"
   ]
  },
  {
   "cell_type": "markdown",
   "metadata": {},
   "source": [
    "## clean dataframe and transform some features"
   ]
  },
  {
   "cell_type": "code",
   "execution_count": 32,
   "metadata": {},
   "outputs": [],
   "source": [
    "#cast datatype to float\n",
    "def values_type_to_float(dataframe,column):\n",
    "    \n",
    "    dataframe[column] = dataframe[column].astype('float')\n",
    "\n",
    "    \n",
    "    return dataframe"
   ]
  },
  {
   "cell_type": "code",
   "execution_count": 33,
   "metadata": {},
   "outputs": [],
   "source": [
    "#map the value to numerical value  \n",
    "def values_map(dataframe,feature_old,feature_new,dictionary):\n",
    "    \n",
    "    dataframe[feature_new] = dataframe.loc[:, feature_old].map(dictionary)\n",
    "    \n",
    "    return dataframe"
   ]
  },
  {
   "cell_type": "code",
   "execution_count": 34,
   "metadata": {},
   "outputs": [],
   "source": [
    "# make feature to have just year to mange it as numerical value\n",
    "def year_extractor(dataframe,column):\n",
    "    \n",
    "    dataframe['EINGEFUEGT_AM'] = pd.to_datetime(dataframe['EINGEFUEGT_AM']).dt.year\n",
    "    \n",
    "    return dataframe\n"
   ]
  },
  {
   "cell_type": "code",
   "execution_count": 35,
   "metadata": {
    "tags": []
   },
   "outputs": [],
   "source": [
    "def drop_features(dataframe,features):\n",
    "\n",
    "    dataframe.drop(features, axis=1,inplace=True)\n",
    "    \n",
    "    return dataframe"
   ]
  },
  {
   "cell_type": "code",
   "execution_count": 36,
   "metadata": {},
   "outputs": [],
   "source": [
    "#step by step cleaning and transforming process\n",
    "def clean_transform(dataframe,dataframe_name):\n",
    "    \n",
    "    #dataframe= values_replace(dataframe)\n",
    "    print(dataframe_name,'replace object values : done')\n",
    "    \n",
    "    dataframe= values_type_to_float(dataframe,'CAMEO_DEUG_2015')\n",
    "    print(dataframe_name,'cast values to float : done')\n",
    "    \n",
    "    dataframe= values_type_to_float(dataframe,'CAMEO_INTL_2015')\n",
    "    print(dataframe_name,'cast values to float : done')\n",
    "    \n",
    "\n",
    "    dataframe= values_map(dataframe,'OST_WEST_KZ','OST_WEST_KZ_E',{'W': 0, 'O': 1})\n",
    "    print(dataframe_name,'OST_WEST_KZ mapping : done')\n",
    "\n",
    "    \n",
    "    dataframe= year_extractor(dataframe,'EINGEFUEGT_AM')\n",
    "    print(dataframe_name,'EINGEFUEGT_AM year extraction : done')\n",
    "\n",
    "    \n",
    "    dataframe= drop_features(dataframe,['LNR', 'D19_LETZTER_KAUF_BRANCHE', 'OST_WEST_KZ', 'CAMEO_DEU_2015'])\n",
    "    print(dataframe_name,'drop some features : done')\n",
    "\n",
    "    \n",
    "    dataframe= values_map(dataframe,'PRAEGENDE_JUGENDJAHRE','PRAEGENDE_JUGENDJAHRE_DECADE',{1: 1, 2: 1, 3: 2, 4: 2, 5: 3, 6: 3, 7: 3, 8: 4, 9: 4, 10: 5,11: 5, 12: 5, 13: 5, 14: 6,15: 6, 0: np.nan})\n",
    "    print(dataframe_name,'PRAEGENDE_JUGENDJAHRE mapping : done')\n",
    "\n",
    "    \n",
    "    dataframe= values_map(dataframe,'PRAEGENDE_JUGENDJAHRE','PRAEGENDE_JUGENDJAHRE_MOVEMENT',{1: 0, 2: 1, 3: 0, 4: 1, 5: 0, 6: 1, 7: 1, 8: 0, 9: 1, 10: 0, 11: 1, 12: 0, 13: 1, 14: 0, 15: 1, 0: np.nan})\n",
    "    print(dataframe_name,'PRAEGENDE_JUGENDJAHRE mapping : done')\n",
    "\n",
    "    \n",
    "    dataframe= drop_features(dataframe,['PRAEGENDE_JUGENDJAHRE'])\n",
    "    print(dataframe_name,'drop PRAEGENDE_JUGENDJAHRE as an old feature : done')\n",
    "\n",
    "\n",
    "    print(dataframe_name,'cleaning and transforming finished')\n",
    "    return dataframe"
   ]
  },
  {
   "cell_type": "code",
   "execution_count": 37,
   "metadata": {
    "collapsed": false,
    "jupyter": {
     "outputs_hidden": false
    },
    "pycharm": {
     "name": "#%%\n"
    }
   },
   "outputs": [
    {
     "name": "stdout",
     "output_type": "stream",
     "text": [
      "azdias replace object values : done\n",
      "azdias cast values to float : done\n",
      "azdias cast values to float : done\n",
      "azdias OST_WEST_KZ mapping : done\n",
      "azdias EINGEFUEGT_AM year extraction : done\n",
      "azdias drop some features : done\n",
      "azdias PRAEGENDE_JUGENDJAHRE mapping : done\n",
      "azdias PRAEGENDE_JUGENDJAHRE mapping : done\n",
      "azdias drop PRAEGENDE_JUGENDJAHRE as an old feature : done\n",
      "azdias cleaning and transforming finished\n"
     ]
    }
   ],
   "source": [
    "#start the proccess of clean azdias dataframe from object datatype and transform some features to new feature\n",
    "azdias = clean_transform(azdias,'azdias')\n"
   ]
  },
  {
   "cell_type": "code",
   "execution_count": 38,
   "metadata": {},
   "outputs": [
    {
     "name": "stdout",
     "output_type": "stream",
     "text": [
      "customers replace object values : done\n",
      "customers cast values to float : done\n",
      "customers cast values to float : done\n",
      "customers OST_WEST_KZ mapping : done\n",
      "customers EINGEFUEGT_AM year extraction : done\n",
      "customers drop some features : done\n",
      "customers PRAEGENDE_JUGENDJAHRE mapping : done\n",
      "customers PRAEGENDE_JUGENDJAHRE mapping : done\n",
      "customers drop PRAEGENDE_JUGENDJAHRE as an old feature : done\n",
      "customers cleaning and transforming finished\n"
     ]
    }
   ],
   "source": [
    "#start the proccess of clean customers dataframe from object datatype and transform some features to new feature\n",
    "customers = clean_transform(customers,'customers')"
   ]
  },
  {
   "cell_type": "markdown",
   "metadata": {},
   "source": [
    "## Part 1: Unsupervised model:"
   ]
  },
  {
   "cell_type": "code",
   "execution_count": 39,
   "metadata": {
    "collapsed": false,
    "jupyter": {
     "outputs_hidden": false
    },
    "pycharm": {
     "name": "#%%\n"
    }
   },
   "outputs": [],
   "source": [
    "#create pipline for unsupervising model\n",
    "# first using simpleImputer to change missing values with numerical value\n",
    "# second I use to normalize dataset into the range of  [0,1]\n",
    "# third step would pca to do dimensionality reduction\n",
    "pip = Pipeline([  ('imputer', SimpleImputer(strategy= 'constant', fill_value = -1)),('scaler', StandardScaler()),('pca' , PCA())])\n",
    "\n",
    "\n"
   ]
  },
  {
   "cell_type": "code",
   "execution_count": 40,
   "metadata": {},
   "outputs": [],
   "source": [
    "#apply pca and simple imputation on azdias\n",
    "\n",
    "azdias_with_pca = pip.fit_transform(azdias)"
   ]
  },
  {
   "cell_type": "code",
   "execution_count": 41,
   "metadata": {},
   "outputs": [],
   "source": [
    "#apply pca and simple imputation on customers\n",
    "\n",
    "customers_with_pca =  pip.transform(customers)"
   ]
  },
  {
   "cell_type": "code",
   "execution_count": 42,
   "metadata": {
    "collapsed": false,
    "jupyter": {
     "outputs_hidden": false
    },
    "pycharm": {
     "name": "#%%\n"
    }
   },
   "outputs": [
    {
     "data": {
      "text/plain": [
       "([<matplotlib.axis.XTick at 0x7ff6d36c6ac8>,\n",
       "  <matplotlib.axis.XTick at 0x7ff6d36cf438>,\n",
       "  <matplotlib.axis.XTick at 0x7ff6d36cfba8>,\n",
       "  <matplotlib.axis.XTick at 0x7ff6b64c0e80>,\n",
       "  <matplotlib.axis.XTick at 0x7ff6b64d4358>,\n",
       "  <matplotlib.axis.XTick at 0x7ff6b64d47f0>,\n",
       "  <matplotlib.axis.XTick at 0x7ff6b64d4c18>,\n",
       "  <matplotlib.axis.XTick at 0x7ff6b64d4d30>,\n",
       "  <matplotlib.axis.XTick at 0x7ff6b64dc208>,\n",
       "  <matplotlib.axis.XTick at 0x7ff6b64dc6a0>,\n",
       "  <matplotlib.axis.XTick at 0x7ff6b64dcb38>,\n",
       "  <matplotlib.axis.XTick at 0x7ff6b64e3048>,\n",
       "  <matplotlib.axis.XTick at 0x7ff6b64e34a8>,\n",
       "  <matplotlib.axis.XTick at 0x7ff6b64e3940>,\n",
       "  <matplotlib.axis.XTick at 0x7ff6b64e3dd8>,\n",
       "  <matplotlib.axis.XTick at 0x7ff6b64e3630>,\n",
       "  <matplotlib.axis.XTick at 0x7ff6b64dc400>,\n",
       "  <matplotlib.axis.XTick at 0x7ff6b646a160>,\n",
       "  <matplotlib.axis.XTick at 0x7ff6b646a5f8>,\n",
       "  <matplotlib.axis.XTick at 0x7ff6b646aa90>,\n",
       "  <matplotlib.axis.XTick at 0x7ff6b646af28>,\n",
       "  <matplotlib.axis.XTick at 0x7ff6b6471400>,\n",
       "  <matplotlib.axis.XTick at 0x7ff6b6471898>,\n",
       "  <matplotlib.axis.XTick at 0x7ff6b6471d30>,\n",
       "  <matplotlib.axis.XTick at 0x7ff6b6471550>,\n",
       "  <matplotlib.axis.XTick at 0x7ff6b646a6d8>,\n",
       "  <matplotlib.axis.XTick at 0x7ff6b6477080>,\n",
       "  <matplotlib.axis.XTick at 0x7ff6b6477550>,\n",
       "  <matplotlib.axis.XTick at 0x7ff6b64779e8>,\n",
       "  <matplotlib.axis.XTick at 0x7ff6b6477e80>,\n",
       "  <matplotlib.axis.XTick at 0x7ff6b647f358>,\n",
       "  <matplotlib.axis.XTick at 0x7ff6b647f7f0>,\n",
       "  <matplotlib.axis.XTick at 0x7ff6b647fc88>,\n",
       "  <matplotlib.axis.XTick at 0x7ff6b647f550>,\n",
       "  <matplotlib.axis.XTick at 0x7ff6b64776a0>,\n",
       "  <matplotlib.axis.XTick at 0x7ff6b6485048>,\n",
       "  <matplotlib.axis.XTick at 0x7ff6b64854a8>,\n",
       "  <matplotlib.axis.XTick at 0x7ff6b6485940>,\n",
       "  <matplotlib.axis.XTick at 0x7ff6b6485dd8>,\n",
       "  <matplotlib.axis.XTick at 0x7ff6b648e2b0>,\n",
       "  <matplotlib.axis.XTick at 0x7ff6b648e748>,\n",
       "  <matplotlib.axis.XTick at 0x7ff6b648ebe0>,\n",
       "  <matplotlib.axis.XTick at 0x7ff6b648e8d0>,\n",
       "  <matplotlib.axis.XTick at 0x7ff6b64859e8>,\n",
       "  <matplotlib.axis.XTick at 0x7ff6b647f400>,\n",
       "  <matplotlib.axis.XTick at 0x7ff6b6495400>,\n",
       "  <matplotlib.axis.XTick at 0x7ff6b6495898>,\n",
       "  <matplotlib.axis.XTick at 0x7ff6b6495d30>,\n",
       "  <matplotlib.axis.XTick at 0x7ff6b649c208>,\n",
       "  <matplotlib.axis.XTick at 0x7ff6b649c6a0>,\n",
       "  <matplotlib.axis.XTick at 0x7ff6b649cb38>,\n",
       "  <matplotlib.axis.XTick at 0x7ff6b6495a20>,\n",
       "  <matplotlib.axis.XTick at 0x7ff6b648e358>,\n",
       "  <matplotlib.axis.XTick at 0x7ff6b649c438>,\n",
       "  <matplotlib.axis.XTick at 0x7ff6b64a7358>,\n",
       "  <matplotlib.axis.XTick at 0x7ff6b64a77f0>,\n",
       "  <matplotlib.axis.XTick at 0x7ff6b64a7c88>,\n",
       "  <matplotlib.axis.XTick at 0x7ff6b642e160>,\n",
       "  <matplotlib.axis.XTick at 0x7ff6b642e5f8>,\n",
       "  <matplotlib.axis.XTick at 0x7ff6b642ea90>,\n",
       "  <matplotlib.axis.XTick at 0x7ff6b64a78d0>,\n",
       "  <matplotlib.axis.XTick at 0x7ff6b64954a8>,\n",
       "  <matplotlib.axis.XTick at 0x7ff6b642e390>,\n",
       "  <matplotlib.axis.XTick at 0x7ff6b64382b0>,\n",
       "  <matplotlib.axis.XTick at 0x7ff6b6438748>,\n",
       "  <matplotlib.axis.XTick at 0x7ff6b6438be0>,\n",
       "  <matplotlib.axis.XTick at 0x7ff6b64400b8>,\n",
       "  <matplotlib.axis.XTick at 0x7ff6b6440550>,\n",
       "  <matplotlib.axis.XTick at 0x7ff6b64409e8>,\n",
       "  <matplotlib.axis.XTick at 0x7ff6b6438828>,\n",
       "  <matplotlib.axis.XTick at 0x7ff6b64a70b8>,\n",
       "  <matplotlib.axis.XTick at 0x7ff6b64402e8>,\n",
       "  <matplotlib.axis.XTick at 0x7ff6b644a208>,\n",
       "  <matplotlib.axis.XTick at 0x7ff6b644a6a0>,\n",
       "  <matplotlib.axis.XTick at 0x7ff6b644ab38>,\n",
       "  <matplotlib.axis.XTick at 0x7ff6b6453048>,\n",
       "  <matplotlib.axis.XTick at 0x7ff6b64534a8>,\n",
       "  <matplotlib.axis.XTick at 0x7ff6b6453940>,\n",
       "  <matplotlib.axis.XTick at 0x7ff6b644a780>,\n",
       "  <matplotlib.axis.XTick at 0x7ff6b6438048>,\n",
       "  <matplotlib.axis.XTick at 0x7ff6b6453240>,\n",
       "  <matplotlib.axis.XTick at 0x7ff6b645b160>,\n",
       "  <matplotlib.axis.XTick at 0x7ff6b645b5f8>,\n",
       "  <matplotlib.axis.XTick at 0x7ff6b645ba90>,\n",
       "  <matplotlib.axis.XTick at 0x7ff6b645bf28>,\n",
       "  <matplotlib.axis.XTick at 0x7ff6b6463400>,\n",
       "  <matplotlib.axis.XTick at 0x7ff6b6463898>,\n",
       "  <matplotlib.axis.XTick at 0x7ff6b645b780>,\n",
       "  <matplotlib.axis.XTick at 0x7ff6b6440f28>,\n",
       "  <matplotlib.axis.XTick at 0x7ff6b6463160>,\n",
       "  <matplotlib.axis.XTick at 0x7ff6b63ec0b8>,\n",
       "  <matplotlib.axis.XTick at 0x7ff6b63ec550>,\n",
       "  <matplotlib.axis.XTick at 0x7ff6b63ec9e8>,\n",
       "  <matplotlib.axis.XTick at 0x7ff6b63ece80>,\n",
       "  <matplotlib.axis.XTick at 0x7ff6b63f5358>,\n",
       "  <matplotlib.axis.XTick at 0x7ff6b63f57f0>,\n",
       "  <matplotlib.axis.XTick at 0x7ff6b63ec780>,\n",
       "  <matplotlib.axis.XTick at 0x7ff6b644a400>,\n",
       "  <matplotlib.axis.XTick at 0x7ff6b63f5438>,\n",
       "  <matplotlib.axis.XTick at 0x7ff6b63fe048>,\n",
       "  <matplotlib.axis.XTick at 0x7ff6b63fe4a8>,\n",
       "  <matplotlib.axis.XTick at 0x7ff6b63fe940>,\n",
       "  <matplotlib.axis.XTick at 0x7ff6b63fedd8>,\n",
       "  <matplotlib.axis.XTick at 0x7ff6b64082b0>,\n",
       "  <matplotlib.axis.XTick at 0x7ff6b6408748>,\n",
       "  <matplotlib.axis.XTick at 0x7ff6b63fe9e8>,\n",
       "  <matplotlib.axis.XTick at 0x7ff6b63ec630>,\n",
       "  <matplotlib.axis.XTick at 0x7ff6b6453e80>,\n",
       "  <matplotlib.axis.XTick at 0x7ff6b649cd68>,\n",
       "  <matplotlib.axis.XTick at 0x7ff6b6471e10>,\n",
       "  <matplotlib.axis.XTick at 0x7ff6b6408b38>,\n",
       "  <matplotlib.axis.XTick at 0x7ff6b6408e80>,\n",
       "  <matplotlib.axis.XTick at 0x7ff6b6412358>,\n",
       "  <matplotlib.axis.XTick at 0x7ff6b64127f0>,\n",
       "  <matplotlib.axis.XTick at 0x7ff6b6412c88>,\n",
       "  <matplotlib.axis.XTick at 0x7ff6b648ee10>,\n",
       "  <matplotlib.axis.XTick at 0x7ff6b6412e10>,\n",
       "  <matplotlib.axis.XTick at 0x7ff6b6412e80>,\n",
       "  <matplotlib.axis.XTick at 0x7ff6b641c358>,\n",
       "  <matplotlib.axis.XTick at 0x7ff6b641c7f0>,\n",
       "  <matplotlib.axis.XTick at 0x7ff6b641cc88>,\n",
       "  <matplotlib.axis.XTick at 0x7ff6b6423160>,\n",
       "  <matplotlib.axis.XTick at 0x7ff6b64235f8>,\n",
       "  <matplotlib.axis.XTick at 0x7ff6b6423a90>,\n",
       "  <matplotlib.axis.XTick at 0x7ff6b641c588>,\n",
       "  <matplotlib.axis.XTick at 0x7ff6b64539e8>,\n",
       "  <matplotlib.axis.XTick at 0x7ff6b6423240>,\n",
       "  <matplotlib.axis.XTick at 0x7ff6b63ad240>,\n",
       "  <matplotlib.axis.XTick at 0x7ff6b63ad6d8>,\n",
       "  <matplotlib.axis.XTick at 0x7ff6b63adb70>,\n",
       "  <matplotlib.axis.XTick at 0x7ff6b63b5048>,\n",
       "  <matplotlib.axis.XTick at 0x7ff6b63b54e0>,\n",
       "  <matplotlib.axis.XTick at 0x7ff6b63b5978>,\n",
       "  <matplotlib.axis.XTick at 0x7ff6b63ad7b8>,\n",
       "  <matplotlib.axis.XTick at 0x7ff6b6412fd0>,\n",
       "  <matplotlib.axis.XTick at 0x7ff6b63b5278>,\n",
       "  <matplotlib.axis.XTick at 0x7ff6b63be198>,\n",
       "  <matplotlib.axis.XTick at 0x7ff6b63be630>,\n",
       "  <matplotlib.axis.XTick at 0x7ff6b63beac8>,\n",
       "  <matplotlib.axis.XTick at 0x7ff6b63bef60>,\n",
       "  <matplotlib.axis.XTick at 0x7ff6b63c7438>,\n",
       "  <matplotlib.axis.XTick at 0x7ff6b63c78d0>,\n",
       "  <matplotlib.axis.XTick at 0x7ff6b63be710>,\n",
       "  <matplotlib.axis.XTick at 0x7ff6b6423f60>,\n",
       "  <matplotlib.axis.XTick at 0x7ff6b63c71d0>,\n",
       "  <matplotlib.axis.XTick at 0x7ff6b63d00f0>,\n",
       "  <matplotlib.axis.XTick at 0x7ff6b63d0588>,\n",
       "  <matplotlib.axis.XTick at 0x7ff6b63d0a20>,\n",
       "  <matplotlib.axis.XTick at 0x7ff6b63d0eb8>,\n",
       "  <matplotlib.axis.XTick at 0x7ff6b63d9390>,\n",
       "  <matplotlib.axis.XTick at 0x7ff6b63d9828>,\n",
       "  <matplotlib.axis.XTick at 0x7ff6b63d06d8>,\n",
       "  <matplotlib.axis.XTick at 0x7ff6b63ad470>,\n",
       "  <matplotlib.axis.XTick at 0x7ff6b63d9438>,\n",
       "  <matplotlib.axis.XTick at 0x7ff6b63e3048>,\n",
       "  <matplotlib.axis.XTick at 0x7ff6b63e34e0>,\n",
       "  <matplotlib.axis.XTick at 0x7ff6b63e3978>,\n",
       "  <matplotlib.axis.XTick at 0x7ff6b63e3e10>,\n",
       "  <matplotlib.axis.XTick at 0x7ff6b636b2e8>,\n",
       "  <matplotlib.axis.XTick at 0x7ff6b636b780>,\n",
       "  <matplotlib.axis.XTick at 0x7ff6b63e36d8>,\n",
       "  <matplotlib.axis.XTick at 0x7ff6b63be3c8>,\n",
       "  <matplotlib.axis.XTick at 0x7ff6b636b470>,\n",
       "  <matplotlib.axis.XTick at 0x7ff6b636bf60>,\n",
       "  <matplotlib.axis.XTick at 0x7ff6b6374438>,\n",
       "  <matplotlib.axis.XTick at 0x7ff6b63748d0>,\n",
       "  <matplotlib.axis.XTick at 0x7ff6b6374d68>,\n",
       "  <matplotlib.axis.XTick at 0x7ff6b637c240>,\n",
       "  <matplotlib.axis.XTick at 0x7ff6b637c6d8>,\n",
       "  <matplotlib.axis.XTick at 0x7ff6b63749b0>,\n",
       "  <matplotlib.axis.XTick at 0x7ff6b636bb00>,\n",
       "  <matplotlib.axis.XTick at 0x7ff6b637c470>,\n",
       "  <matplotlib.axis.XTick at 0x7ff6b637ceb8>,\n",
       "  <matplotlib.axis.XTick at 0x7ff6b6386390>,\n",
       "  <matplotlib.axis.XTick at 0x7ff6b6386828>,\n",
       "  <matplotlib.axis.XTick at 0x7ff6b6386cc0>,\n",
       "  <matplotlib.axis.XTick at 0x7ff6b638f198>,\n",
       "  <matplotlib.axis.XTick at 0x7ff6b638f630>,\n",
       "  <matplotlib.axis.XTick at 0x7ff6b6386908>,\n",
       "  <matplotlib.axis.XTick at 0x7ff6b63e3240>,\n",
       "  <matplotlib.axis.XTick at 0x7ff6b638f3c8>,\n",
       "  <matplotlib.axis.XTick at 0x7ff6b638fe10>,\n",
       "  <matplotlib.axis.XTick at 0x7ff6b63982e8>,\n",
       "  <matplotlib.axis.XTick at 0x7ff6b6398780>,\n",
       "  <matplotlib.axis.XTick at 0x7ff6b6398c18>,\n",
       "  <matplotlib.axis.XTick at 0x7ff6b63a00f0>,\n",
       "  <matplotlib.axis.XTick at 0x7ff6b63a0588>,\n",
       "  <matplotlib.axis.XTick at 0x7ff6b6398860>,\n",
       "  <matplotlib.axis.XTick at 0x7ff6b6374518>,\n",
       "  <matplotlib.axis.XTick at 0x7ff6b63a0320>,\n",
       "  <matplotlib.axis.XTick at 0x7ff6b63a0d68>,\n",
       "  <matplotlib.axis.XTick at 0x7ff6b6329240>,\n",
       "  <matplotlib.axis.XTick at 0x7ff6b63296d8>,\n",
       "  <matplotlib.axis.XTick at 0x7ff6b6329b70>,\n",
       "  <matplotlib.axis.XTick at 0x7ff6b6331080>,\n",
       "  <matplotlib.axis.XTick at 0x7ff6b63314e0>,\n",
       "  <matplotlib.axis.XTick at 0x7ff6b63297b8>,\n",
       "  <matplotlib.axis.XTick at 0x7ff6b6386470>,\n",
       "  <matplotlib.axis.XTick at 0x7ff6b6331278>,\n",
       "  <matplotlib.axis.XTick at 0x7ff6b6331cc0>,\n",
       "  <matplotlib.axis.XTick at 0x7ff6b633a198>,\n",
       "  <matplotlib.axis.XTick at 0x7ff6b633a630>,\n",
       "  <matplotlib.axis.XTick at 0x7ff6b633aac8>,\n",
       "  <matplotlib.axis.XTick at 0x7ff6b633af60>,\n",
       "  <matplotlib.axis.XTick at 0x7ff6b6343438>,\n",
       "  <matplotlib.axis.XTick at 0x7ff6b633a710>,\n",
       "  <matplotlib.axis.XTick at 0x7ff6b63983c8>,\n",
       "  <matplotlib.axis.XTick at 0x7ff6b63431d0>,\n",
       "  <matplotlib.axis.XTick at 0x7ff6b6343c18>,\n",
       "  <matplotlib.axis.XTick at 0x7ff6b634c0f0>,\n",
       "  <matplotlib.axis.XTick at 0x7ff6b634c588>,\n",
       "  <matplotlib.axis.XTick at 0x7ff6b634ca20>,\n",
       "  <matplotlib.axis.XTick at 0x7ff6b634ceb8>,\n",
       "  <matplotlib.axis.XTick at 0x7ff6b6354390>,\n",
       "  <matplotlib.axis.XTick at 0x7ff6b634c6d8>,\n",
       "  <matplotlib.axis.XTick at 0x7ff6b6343d68>,\n",
       "  <matplotlib.axis.XTick at 0x7ff6b6331668>,\n",
       "  <matplotlib.axis.XTick at 0x7ff6b637c7b8>,\n",
       "  <matplotlib.axis.XTick at 0x7ff6b63b5ba8>,\n",
       "  <matplotlib.axis.XTick at 0x7ff6b6354748>,\n",
       "  <matplotlib.axis.XTick at 0x7ff6b6354b38>,\n",
       "  <matplotlib.axis.XTick at 0x7ff6b6360048>,\n",
       "  <matplotlib.axis.XTick at 0x7ff6b63604a8>,\n",
       "  <matplotlib.axis.XTick at 0x7ff6b6360940>,\n",
       "  <matplotlib.axis.XTick at 0x7ff6b63d9a58>,\n",
       "  <matplotlib.axis.XTick at 0x7ff6b634c320>,\n",
       "  <matplotlib.axis.XTick at 0x7ff6b6360b38>,\n",
       "  <matplotlib.axis.XTick at 0x7ff6b62e9048>,\n",
       "  <matplotlib.axis.XTick at 0x7ff6b62e94a8>,\n",
       "  <matplotlib.axis.XTick at 0x7ff6b62e9940>,\n",
       "  <matplotlib.axis.XTick at 0x7ff6b62e9dd8>,\n",
       "  <matplotlib.axis.XTick at 0x7ff6b62f12b0>,\n",
       "  <matplotlib.axis.XTick at 0x7ff6b62f1748>,\n",
       "  <matplotlib.axis.XTick at 0x7ff6b62e95f8>,\n",
       "  <matplotlib.axis.XTick at 0x7ff6b6360978>,\n",
       "  <matplotlib.axis.XTick at 0x7ff6b62f1358>,\n",
       "  <matplotlib.axis.XTick at 0x7ff6b62f1eb8>,\n",
       "  <matplotlib.axis.XTick at 0x7ff6b62fc390>,\n",
       "  <matplotlib.axis.XTick at 0x7ff6b62fc828>,\n",
       "  <matplotlib.axis.XTick at 0x7ff6b62fccc0>,\n",
       "  <matplotlib.axis.XTick at 0x7ff6b6303198>,\n",
       "  <matplotlib.axis.XTick at 0x7ff6b6303630>,\n",
       "  <matplotlib.axis.XTick at 0x7ff6b62fc908>,\n",
       "  <matplotlib.axis.XTick at 0x7ff6b62f1ac8>,\n",
       "  <matplotlib.axis.XTick at 0x7ff6b63033c8>,\n",
       "  <matplotlib.axis.XTick at 0x7ff6b6303e10>,\n",
       "  <matplotlib.axis.XTick at 0x7ff6b630d2e8>,\n",
       "  <matplotlib.axis.XTick at 0x7ff6b630d780>,\n",
       "  <matplotlib.axis.XTick at 0x7ff6b630dc18>,\n",
       "  <matplotlib.axis.XTick at 0x7ff6b63140f0>,\n",
       "  <matplotlib.axis.XTick at 0x7ff6b6314588>,\n",
       "  <matplotlib.axis.XTick at 0x7ff6b630d860>,\n",
       "  <matplotlib.axis.XTick at 0x7ff6b62e9160>,\n",
       "  <matplotlib.axis.XTick at 0x7ff6b6314320>,\n",
       "  <matplotlib.axis.XTick at 0x7ff6b6314d68>,\n",
       "  <matplotlib.axis.XTick at 0x7ff6b631e240>,\n",
       "  <matplotlib.axis.XTick at 0x7ff6b631e6d8>,\n",
       "  <matplotlib.axis.XTick at 0x7ff6b631eb70>,\n",
       "  <matplotlib.axis.XTick at 0x7ff6b6326048>,\n",
       "  <matplotlib.axis.XTick at 0x7ff6b63264e0>,\n",
       "  <matplotlib.axis.XTick at 0x7ff6b631e7b8>,\n",
       "  <matplotlib.axis.XTick at 0x7ff6b62fc470>,\n",
       "  <matplotlib.axis.XTick at 0x7ff6b6326278>,\n",
       "  <matplotlib.axis.XTick at 0x7ff6b6326cc0>,\n",
       "  <matplotlib.axis.XTick at 0x7ff6b62af198>,\n",
       "  <matplotlib.axis.XTick at 0x7ff6b62af630>,\n",
       "  <matplotlib.axis.XTick at 0x7ff6b62afac8>,\n",
       "  <matplotlib.axis.XTick at 0x7ff6b62aff60>,\n",
       "  <matplotlib.axis.XTick at 0x7ff6b62b7438>,\n",
       "  <matplotlib.axis.XTick at 0x7ff6b62af710>,\n",
       "  <matplotlib.axis.XTick at 0x7ff6b630d3c8>,\n",
       "  <matplotlib.axis.XTick at 0x7ff6b62b71d0>,\n",
       "  <matplotlib.axis.XTick at 0x7ff6b62b7c18>,\n",
       "  <matplotlib.axis.XTick at 0x7ff6b62c10f0>,\n",
       "  <matplotlib.axis.XTick at 0x7ff6b62c1588>,\n",
       "  <matplotlib.axis.XTick at 0x7ff6b62c1a20>,\n",
       "  <matplotlib.axis.XTick at 0x7ff6b62c1eb8>,\n",
       "  <matplotlib.axis.XTick at 0x7ff6b62c9390>,\n",
       "  <matplotlib.axis.XTick at 0x7ff6b62c16d8>,\n",
       "  <matplotlib.axis.XTick at 0x7ff6b62b7048>,\n",
       "  <matplotlib.axis.XTick at 0x7ff6b62c9780>,\n",
       "  <matplotlib.axis.XTick at 0x7ff6b62c9b70>,\n",
       "  <matplotlib.axis.XTick at 0x7ff6b62d3048>,\n",
       "  <matplotlib.axis.XTick at 0x7ff6b62d34e0>,\n",
       "  <matplotlib.axis.XTick at 0x7ff6b62d3978>,\n",
       "  <matplotlib.axis.XTick at 0x7ff6b62d3e10>,\n",
       "  <matplotlib.axis.XTick at 0x7ff6b62dd2e8>,\n",
       "  <matplotlib.axis.XTick at 0x7ff6b62d36d8>,\n",
       "  <matplotlib.axis.XTick at 0x7ff6b62c9828>,\n",
       "  <matplotlib.axis.XTick at 0x7ff6b62dd358>,\n",
       "  <matplotlib.axis.XTick at 0x7ff6b62ddac8>,\n",
       "  <matplotlib.axis.XTick at 0x7ff6b62ddf60>,\n",
       "  <matplotlib.axis.XTick at 0x7ff6b62e5438>,\n",
       "  <matplotlib.axis.XTick at 0x7ff6b62e58d0>,\n",
       "  <matplotlib.axis.XTick at 0x7ff6b62e5d68>,\n",
       "  <matplotlib.axis.XTick at 0x7ff6b626e240>,\n",
       "  <matplotlib.axis.XTick at 0x7ff6b62e59b0>,\n",
       "  <matplotlib.axis.XTick at 0x7ff6b62dd828>,\n",
       "  <matplotlib.axis.XTick at 0x7ff6b626e550>,\n",
       "  <matplotlib.axis.XTick at 0x7ff6b626ea20>,\n",
       "  <matplotlib.axis.XTick at 0x7ff6b626eeb8>,\n",
       "  <matplotlib.axis.XTick at 0x7ff6b6277390>,\n",
       "  <matplotlib.axis.XTick at 0x7ff6b6277828>,\n",
       "  <matplotlib.axis.XTick at 0x7ff6b6277cc0>,\n",
       "  <matplotlib.axis.XTick at 0x7ff6b6281198>,\n",
       "  <matplotlib.axis.XTick at 0x7ff6b6277908>,\n",
       "  <matplotlib.axis.XTick at 0x7ff6b626e780>,\n",
       "  <matplotlib.axis.XTick at 0x7ff6b62814a8>,\n",
       "  <matplotlib.axis.XTick at 0x7ff6b6281978>,\n",
       "  <matplotlib.axis.XTick at 0x7ff6b6281e10>,\n",
       "  <matplotlib.axis.XTick at 0x7ff6b62892e8>,\n",
       "  <matplotlib.axis.XTick at 0x7ff6b6289780>,\n",
       "  <matplotlib.axis.XTick at 0x7ff6b6289c18>,\n",
       "  <matplotlib.axis.XTick at 0x7ff6b62910f0>,\n",
       "  <matplotlib.axis.XTick at 0x7ff6b6289860>,\n",
       "  <matplotlib.axis.XTick at 0x7ff6b62816d8>,\n",
       "  <matplotlib.axis.XTick at 0x7ff6b6291400>,\n",
       "  <matplotlib.axis.XTick at 0x7ff6b62918d0>,\n",
       "  <matplotlib.axis.XTick at 0x7ff6b6291d68>,\n",
       "  <matplotlib.axis.XTick at 0x7ff6b629c240>,\n",
       "  <matplotlib.axis.XTick at 0x7ff6b629c6d8>,\n",
       "  <matplotlib.axis.XTick at 0x7ff6b629cb70>,\n",
       "  <matplotlib.axis.XTick at 0x7ff6b62a2048>,\n",
       "  <matplotlib.axis.XTick at 0x7ff6b629c7b8>,\n",
       "  <matplotlib.axis.XTick at 0x7ff6b6291e10>,\n",
       "  <matplotlib.axis.XTick at 0x7ff6b6281390>,\n",
       "  <matplotlib.axis.XTick at 0x7ff6b62c9588>,\n",
       "  <matplotlib.axis.XTick at 0x7ff6b6314710>,\n",
       "  <matplotlib.axis.XTick at 0x7ff6b62a2080>,\n",
       "  <matplotlib.axis.XTick at 0x7ff6b62a27f0>,\n",
       "  <matplotlib.axis.XTick at 0x7ff6b62a2c88>,\n",
       "  <matplotlib.axis.XTick at 0x7ff6b622d160>,\n",
       "  <matplotlib.axis.XTick at 0x7ff6b622d5f8>,\n",
       "  <matplotlib.axis.XTick at 0x7ff6b62f1940>,\n",
       "  <matplotlib.axis.XTick at 0x7ff6b6291978>,\n",
       "  <matplotlib.axis.XTick at 0x7ff6b622d7f0>,\n",
       "  <matplotlib.axis.XTick at 0x7ff6b622dc88>,\n",
       "  <matplotlib.axis.XTick at 0x7ff6b6236160>,\n",
       "  <matplotlib.axis.XTick at 0x7ff6b62365f8>,\n",
       "  <matplotlib.axis.XTick at 0x7ff6b6236a90>,\n",
       "  <matplotlib.axis.XTick at 0x7ff6b6236f28>,\n",
       "  <matplotlib.axis.XTick at 0x7ff6b623e400>,\n",
       "  <matplotlib.axis.XTick at 0x7ff6b6236358>,\n",
       "  <matplotlib.axis.XTick at 0x7ff6b629c3c8>,\n",
       "  <matplotlib.axis.XTick at 0x7ff6b623e0f0>,\n",
       "  <matplotlib.axis.XTick at 0x7ff6b623eb70>,\n",
       "  <matplotlib.axis.XTick at 0x7ff6b6249048>,\n",
       "  <matplotlib.axis.XTick at 0x7ff6b62494e0>,\n",
       "  <matplotlib.axis.XTick at 0x7ff6b6249978>,\n",
       "  <matplotlib.axis.XTick at 0x7ff6b6249e10>,\n",
       "  <matplotlib.axis.XTick at 0x7ff6b62502e8>,\n",
       "  <matplotlib.axis.XTick at 0x7ff6b62496d8>,\n",
       "  <matplotlib.axis.XTick at 0x7ff6b623e828>,\n",
       "  <matplotlib.axis.XTick at 0x7ff6b62506d8>,\n",
       "  <matplotlib.axis.XTick at 0x7ff6b6250ac8>,\n",
       "  <matplotlib.axis.XTick at 0x7ff6b6250f60>,\n",
       "  <matplotlib.axis.XTick at 0x7ff6b625a438>,\n",
       "  <matplotlib.axis.XTick at 0x7ff6b625a8d0>,\n",
       "  <matplotlib.axis.XTick at 0x7ff6b625ad68>,\n",
       "  <matplotlib.axis.XTick at 0x7ff6b6262240>,\n",
       "  <matplotlib.axis.XTick at 0x7ff6b625a9b0>,\n",
       "  <matplotlib.axis.XTick at 0x7ff6b6250828>,\n",
       "  <matplotlib.axis.XTick at 0x7ff6b6262550>,\n",
       "  <matplotlib.axis.XTick at 0x7ff6b6262a20>],\n",
       " [Text(0, 0, ''),\n",
       "  Text(0, 0, ''),\n",
       "  Text(0, 0, ''),\n",
       "  Text(0, 0, ''),\n",
       "  Text(0, 0, ''),\n",
       "  Text(0, 0, ''),\n",
       "  Text(0, 0, ''),\n",
       "  Text(0, 0, ''),\n",
       "  Text(0, 0, ''),\n",
       "  Text(0, 0, ''),\n",
       "  Text(0, 0, ''),\n",
       "  Text(0, 0, ''),\n",
       "  Text(0, 0, ''),\n",
       "  Text(0, 0, ''),\n",
       "  Text(0, 0, ''),\n",
       "  Text(0, 0, ''),\n",
       "  Text(0, 0, ''),\n",
       "  Text(0, 0, ''),\n",
       "  Text(0, 0, ''),\n",
       "  Text(0, 0, ''),\n",
       "  Text(0, 0, ''),\n",
       "  Text(0, 0, ''),\n",
       "  Text(0, 0, ''),\n",
       "  Text(0, 0, ''),\n",
       "  Text(0, 0, ''),\n",
       "  Text(0, 0, ''),\n",
       "  Text(0, 0, ''),\n",
       "  Text(0, 0, ''),\n",
       "  Text(0, 0, ''),\n",
       "  Text(0, 0, ''),\n",
       "  Text(0, 0, ''),\n",
       "  Text(0, 0, ''),\n",
       "  Text(0, 0, ''),\n",
       "  Text(0, 0, ''),\n",
       "  Text(0, 0, ''),\n",
       "  Text(0, 0, ''),\n",
       "  Text(0, 0, ''),\n",
       "  Text(0, 0, ''),\n",
       "  Text(0, 0, ''),\n",
       "  Text(0, 0, ''),\n",
       "  Text(0, 0, ''),\n",
       "  Text(0, 0, ''),\n",
       "  Text(0, 0, ''),\n",
       "  Text(0, 0, ''),\n",
       "  Text(0, 0, ''),\n",
       "  Text(0, 0, ''),\n",
       "  Text(0, 0, ''),\n",
       "  Text(0, 0, ''),\n",
       "  Text(0, 0, ''),\n",
       "  Text(0, 0, ''),\n",
       "  Text(0, 0, ''),\n",
       "  Text(0, 0, ''),\n",
       "  Text(0, 0, ''),\n",
       "  Text(0, 0, ''),\n",
       "  Text(0, 0, ''),\n",
       "  Text(0, 0, ''),\n",
       "  Text(0, 0, ''),\n",
       "  Text(0, 0, ''),\n",
       "  Text(0, 0, ''),\n",
       "  Text(0, 0, ''),\n",
       "  Text(0, 0, ''),\n",
       "  Text(0, 0, ''),\n",
       "  Text(0, 0, ''),\n",
       "  Text(0, 0, ''),\n",
       "  Text(0, 0, ''),\n",
       "  Text(0, 0, ''),\n",
       "  Text(0, 0, ''),\n",
       "  Text(0, 0, ''),\n",
       "  Text(0, 0, ''),\n",
       "  Text(0, 0, ''),\n",
       "  Text(0, 0, ''),\n",
       "  Text(0, 0, ''),\n",
       "  Text(0, 0, ''),\n",
       "  Text(0, 0, ''),\n",
       "  Text(0, 0, ''),\n",
       "  Text(0, 0, ''),\n",
       "  Text(0, 0, ''),\n",
       "  Text(0, 0, ''),\n",
       "  Text(0, 0, ''),\n",
       "  Text(0, 0, ''),\n",
       "  Text(0, 0, ''),\n",
       "  Text(0, 0, ''),\n",
       "  Text(0, 0, ''),\n",
       "  Text(0, 0, ''),\n",
       "  Text(0, 0, ''),\n",
       "  Text(0, 0, ''),\n",
       "  Text(0, 0, ''),\n",
       "  Text(0, 0, ''),\n",
       "  Text(0, 0, ''),\n",
       "  Text(0, 0, ''),\n",
       "  Text(0, 0, ''),\n",
       "  Text(0, 0, ''),\n",
       "  Text(0, 0, ''),\n",
       "  Text(0, 0, ''),\n",
       "  Text(0, 0, ''),\n",
       "  Text(0, 0, ''),\n",
       "  Text(0, 0, ''),\n",
       "  Text(0, 0, ''),\n",
       "  Text(0, 0, ''),\n",
       "  Text(0, 0, ''),\n",
       "  Text(0, 0, ''),\n",
       "  Text(0, 0, ''),\n",
       "  Text(0, 0, ''),\n",
       "  Text(0, 0, ''),\n",
       "  Text(0, 0, ''),\n",
       "  Text(0, 0, ''),\n",
       "  Text(0, 0, ''),\n",
       "  Text(0, 0, ''),\n",
       "  Text(0, 0, ''),\n",
       "  Text(0, 0, ''),\n",
       "  Text(0, 0, ''),\n",
       "  Text(0, 0, ''),\n",
       "  Text(0, 0, ''),\n",
       "  Text(0, 0, ''),\n",
       "  Text(0, 0, ''),\n",
       "  Text(0, 0, ''),\n",
       "  Text(0, 0, ''),\n",
       "  Text(0, 0, ''),\n",
       "  Text(0, 0, ''),\n",
       "  Text(0, 0, ''),\n",
       "  Text(0, 0, ''),\n",
       "  Text(0, 0, ''),\n",
       "  Text(0, 0, ''),\n",
       "  Text(0, 0, ''),\n",
       "  Text(0, 0, ''),\n",
       "  Text(0, 0, ''),\n",
       "  Text(0, 0, ''),\n",
       "  Text(0, 0, ''),\n",
       "  Text(0, 0, ''),\n",
       "  Text(0, 0, ''),\n",
       "  Text(0, 0, ''),\n",
       "  Text(0, 0, ''),\n",
       "  Text(0, 0, ''),\n",
       "  Text(0, 0, ''),\n",
       "  Text(0, 0, ''),\n",
       "  Text(0, 0, ''),\n",
       "  Text(0, 0, ''),\n",
       "  Text(0, 0, ''),\n",
       "  Text(0, 0, ''),\n",
       "  Text(0, 0, ''),\n",
       "  Text(0, 0, ''),\n",
       "  Text(0, 0, ''),\n",
       "  Text(0, 0, ''),\n",
       "  Text(0, 0, ''),\n",
       "  Text(0, 0, ''),\n",
       "  Text(0, 0, ''),\n",
       "  Text(0, 0, ''),\n",
       "  Text(0, 0, ''),\n",
       "  Text(0, 0, ''),\n",
       "  Text(0, 0, ''),\n",
       "  Text(0, 0, ''),\n",
       "  Text(0, 0, ''),\n",
       "  Text(0, 0, ''),\n",
       "  Text(0, 0, ''),\n",
       "  Text(0, 0, ''),\n",
       "  Text(0, 0, ''),\n",
       "  Text(0, 0, ''),\n",
       "  Text(0, 0, ''),\n",
       "  Text(0, 0, ''),\n",
       "  Text(0, 0, ''),\n",
       "  Text(0, 0, ''),\n",
       "  Text(0, 0, ''),\n",
       "  Text(0, 0, ''),\n",
       "  Text(0, 0, ''),\n",
       "  Text(0, 0, ''),\n",
       "  Text(0, 0, ''),\n",
       "  Text(0, 0, ''),\n",
       "  Text(0, 0, ''),\n",
       "  Text(0, 0, ''),\n",
       "  Text(0, 0, ''),\n",
       "  Text(0, 0, ''),\n",
       "  Text(0, 0, ''),\n",
       "  Text(0, 0, ''),\n",
       "  Text(0, 0, ''),\n",
       "  Text(0, 0, ''),\n",
       "  Text(0, 0, ''),\n",
       "  Text(0, 0, ''),\n",
       "  Text(0, 0, ''),\n",
       "  Text(0, 0, ''),\n",
       "  Text(0, 0, ''),\n",
       "  Text(0, 0, ''),\n",
       "  Text(0, 0, ''),\n",
       "  Text(0, 0, ''),\n",
       "  Text(0, 0, ''),\n",
       "  Text(0, 0, ''),\n",
       "  Text(0, 0, ''),\n",
       "  Text(0, 0, ''),\n",
       "  Text(0, 0, ''),\n",
       "  Text(0, 0, ''),\n",
       "  Text(0, 0, ''),\n",
       "  Text(0, 0, ''),\n",
       "  Text(0, 0, ''),\n",
       "  Text(0, 0, ''),\n",
       "  Text(0, 0, ''),\n",
       "  Text(0, 0, ''),\n",
       "  Text(0, 0, ''),\n",
       "  Text(0, 0, ''),\n",
       "  Text(0, 0, ''),\n",
       "  Text(0, 0, ''),\n",
       "  Text(0, 0, ''),\n",
       "  Text(0, 0, ''),\n",
       "  Text(0, 0, ''),\n",
       "  Text(0, 0, ''),\n",
       "  Text(0, 0, ''),\n",
       "  Text(0, 0, ''),\n",
       "  Text(0, 0, ''),\n",
       "  Text(0, 0, ''),\n",
       "  Text(0, 0, ''),\n",
       "  Text(0, 0, ''),\n",
       "  Text(0, 0, ''),\n",
       "  Text(0, 0, ''),\n",
       "  Text(0, 0, ''),\n",
       "  Text(0, 0, ''),\n",
       "  Text(0, 0, ''),\n",
       "  Text(0, 0, ''),\n",
       "  Text(0, 0, ''),\n",
       "  Text(0, 0, ''),\n",
       "  Text(0, 0, ''),\n",
       "  Text(0, 0, ''),\n",
       "  Text(0, 0, ''),\n",
       "  Text(0, 0, ''),\n",
       "  Text(0, 0, ''),\n",
       "  Text(0, 0, ''),\n",
       "  Text(0, 0, ''),\n",
       "  Text(0, 0, ''),\n",
       "  Text(0, 0, ''),\n",
       "  Text(0, 0, ''),\n",
       "  Text(0, 0, ''),\n",
       "  Text(0, 0, ''),\n",
       "  Text(0, 0, ''),\n",
       "  Text(0, 0, ''),\n",
       "  Text(0, 0, ''),\n",
       "  Text(0, 0, ''),\n",
       "  Text(0, 0, ''),\n",
       "  Text(0, 0, ''),\n",
       "  Text(0, 0, ''),\n",
       "  Text(0, 0, ''),\n",
       "  Text(0, 0, ''),\n",
       "  Text(0, 0, ''),\n",
       "  Text(0, 0, ''),\n",
       "  Text(0, 0, ''),\n",
       "  Text(0, 0, ''),\n",
       "  Text(0, 0, ''),\n",
       "  Text(0, 0, ''),\n",
       "  Text(0, 0, ''),\n",
       "  Text(0, 0, ''),\n",
       "  Text(0, 0, ''),\n",
       "  Text(0, 0, ''),\n",
       "  Text(0, 0, ''),\n",
       "  Text(0, 0, ''),\n",
       "  Text(0, 0, ''),\n",
       "  Text(0, 0, ''),\n",
       "  Text(0, 0, ''),\n",
       "  Text(0, 0, ''),\n",
       "  Text(0, 0, ''),\n",
       "  Text(0, 0, ''),\n",
       "  Text(0, 0, ''),\n",
       "  Text(0, 0, ''),\n",
       "  Text(0, 0, ''),\n",
       "  Text(0, 0, ''),\n",
       "  Text(0, 0, ''),\n",
       "  Text(0, 0, ''),\n",
       "  Text(0, 0, ''),\n",
       "  Text(0, 0, ''),\n",
       "  Text(0, 0, ''),\n",
       "  Text(0, 0, ''),\n",
       "  Text(0, 0, ''),\n",
       "  Text(0, 0, ''),\n",
       "  Text(0, 0, ''),\n",
       "  Text(0, 0, ''),\n",
       "  Text(0, 0, ''),\n",
       "  Text(0, 0, ''),\n",
       "  Text(0, 0, ''),\n",
       "  Text(0, 0, ''),\n",
       "  Text(0, 0, ''),\n",
       "  Text(0, 0, ''),\n",
       "  Text(0, 0, ''),\n",
       "  Text(0, 0, ''),\n",
       "  Text(0, 0, ''),\n",
       "  Text(0, 0, ''),\n",
       "  Text(0, 0, ''),\n",
       "  Text(0, 0, ''),\n",
       "  Text(0, 0, ''),\n",
       "  Text(0, 0, ''),\n",
       "  Text(0, 0, ''),\n",
       "  Text(0, 0, ''),\n",
       "  Text(0, 0, ''),\n",
       "  Text(0, 0, ''),\n",
       "  Text(0, 0, ''),\n",
       "  Text(0, 0, ''),\n",
       "  Text(0, 0, ''),\n",
       "  Text(0, 0, ''),\n",
       "  Text(0, 0, ''),\n",
       "  Text(0, 0, ''),\n",
       "  Text(0, 0, ''),\n",
       "  Text(0, 0, ''),\n",
       "  Text(0, 0, ''),\n",
       "  Text(0, 0, ''),\n",
       "  Text(0, 0, ''),\n",
       "  Text(0, 0, ''),\n",
       "  Text(0, 0, ''),\n",
       "  Text(0, 0, ''),\n",
       "  Text(0, 0, ''),\n",
       "  Text(0, 0, ''),\n",
       "  Text(0, 0, ''),\n",
       "  Text(0, 0, ''),\n",
       "  Text(0, 0, ''),\n",
       "  Text(0, 0, ''),\n",
       "  Text(0, 0, ''),\n",
       "  Text(0, 0, ''),\n",
       "  Text(0, 0, ''),\n",
       "  Text(0, 0, ''),\n",
       "  Text(0, 0, ''),\n",
       "  Text(0, 0, ''),\n",
       "  Text(0, 0, ''),\n",
       "  Text(0, 0, ''),\n",
       "  Text(0, 0, ''),\n",
       "  Text(0, 0, ''),\n",
       "  Text(0, 0, ''),\n",
       "  Text(0, 0, ''),\n",
       "  Text(0, 0, ''),\n",
       "  Text(0, 0, ''),\n",
       "  Text(0, 0, ''),\n",
       "  Text(0, 0, ''),\n",
       "  Text(0, 0, ''),\n",
       "  Text(0, 0, ''),\n",
       "  Text(0, 0, ''),\n",
       "  Text(0, 0, ''),\n",
       "  Text(0, 0, ''),\n",
       "  Text(0, 0, ''),\n",
       "  Text(0, 0, ''),\n",
       "  Text(0, 0, ''),\n",
       "  Text(0, 0, ''),\n",
       "  Text(0, 0, ''),\n",
       "  Text(0, 0, ''),\n",
       "  Text(0, 0, ''),\n",
       "  Text(0, 0, ''),\n",
       "  Text(0, 0, ''),\n",
       "  Text(0, 0, ''),\n",
       "  Text(0, 0, ''),\n",
       "  Text(0, 0, ''),\n",
       "  Text(0, 0, ''),\n",
       "  Text(0, 0, ''),\n",
       "  Text(0, 0, ''),\n",
       "  Text(0, 0, ''),\n",
       "  Text(0, 0, ''),\n",
       "  Text(0, 0, ''),\n",
       "  Text(0, 0, ''),\n",
       "  Text(0, 0, ''),\n",
       "  Text(0, 0, ''),\n",
       "  Text(0, 0, ''),\n",
       "  Text(0, 0, ''),\n",
       "  Text(0, 0, ''),\n",
       "  Text(0, 0, ''),\n",
       "  Text(0, 0, ''),\n",
       "  Text(0, 0, ''),\n",
       "  Text(0, 0, ''),\n",
       "  Text(0, 0, ''),\n",
       "  Text(0, 0, ''),\n",
       "  Text(0, 0, ''),\n",
       "  Text(0, 0, ''),\n",
       "  Text(0, 0, ''),\n",
       "  Text(0, 0, ''),\n",
       "  Text(0, 0, '')])"
      ]
     },
     "execution_count": 42,
     "metadata": {},
     "output_type": "execute_result"
    },
    {
     "data": {
      "image/png": "[encoded data removed]",
      "text/plain": [
       "<Figure size 1008x576 with 1 Axes>"
      ]
     },
     "metadata": {},
     "output_type": "display_data"
    }
   ],
   "source": [
    "# Plot the explained variances to use it in clustering\n",
    "fig = plt.figure(figsize = (14,8))\n",
    "\n",
    "features = range(pip[2].n_components_)\n",
    "\n",
    "plt.bar(features, pip[2].explained_variance_ratio_, color='blue')\n",
    "\n",
    "plt.xlabel('PCA features')\n",
    "\n",
    "plt.ylabel('variance %')\n",
    "\n",
    "plt.xticks(features)"
   ]
  },
  {
   "cell_type": "code",
   "execution_count": 43,
   "metadata": {},
   "outputs": [
    {
     "data": {
      "text/plain": [
       "0.8934701225939429"
      ]
     },
     "execution_count": 43,
     "metadata": {},
     "output_type": "execute_result"
    }
   ],
   "source": [
    "# 90 percent variance would be good for future works\n",
    "pip[2].explained_variance_ratio_[:125].sum()"
   ]
  },
  {
   "cell_type": "code",
   "execution_count": 44,
   "metadata": {},
   "outputs": [
    {
     "data": {
      "text/plain": [
       "364"
      ]
     },
     "execution_count": 44,
     "metadata": {},
     "output_type": "execute_result"
    }
   ],
   "source": [
    "# number of features that cover 90 percent variance\n",
    "len(pip[2].explained_variance_ratio_)"
   ]
  },
  {
   "cell_type": "code",
   "execution_count": 45,
   "metadata": {
    "collapsed": false,
    "jupyter": {
     "outputs_hidden": false
    },
    "pycharm": {
     "name": "#%%\n"
    }
   },
   "outputs": [
    {
     "name": "stdout",
     "output_type": "stream",
     "text": [
      "186104063.43823808\n",
      "171785743.88116565\n",
      "160732820.15899646\n",
      "154280434.54092267\n",
      "149668553.67896953\n",
      "146110610.54355413\n",
      "143461869.48124242\n",
      "141400130.48845166\n",
      "139888315.46204245\n",
      "138299197.9504598\n",
      "137096863.6125345\n",
      "135635805.95742813\n",
      "134205148.49219805\n",
      "133260505.14111805\n"
     ]
    }
   ],
   "source": [
    "#to find optimal number of clusters we use kmeans in this step\n",
    "# our model fit with the range that we get it then we have to plot elbow and choose the number of cluster that suit our data\n",
    "kmeans_range = range(2, 16)\n",
    "\n",
    "inertias = []\n",
    "for k in kmeans_range:\n",
    "    \n",
    "    # Create a KMeans and set init for kmeans++ and random state 42\n",
    "    kmeans = KMeans(n_clusters=k,init='k-means++', random_state = 42)\n",
    "    \n",
    "    # Fit kmeans with sample of azdias dataframe\n",
    "    kmeans.fit(azdias_with_pca[:, :125])\n",
    "    \n",
    "    \n",
    "    inertias.append(kmeans.inertia_)\n",
    "    \n",
    "    print(inertias[k-2])\n",
    "    "
   ]
  },
  {
   "cell_type": "code",
   "execution_count": 46,
   "metadata": {},
   "outputs": [
    {
     "data": {
      "image/png": "[encoded data removed]",
      "text/plain": [
       "<Figure size 432x288 with 1 Axes>"
      ]
     },
     "metadata": {},
     "output_type": "display_data"
    }
   ],
   "source": [
    "plt.plot(kmeans_range, inertias, '-o', color='blue')\n",
    "\n",
    "plt.xlabel('number of clusters, k')\n",
    "\n",
    "plt.ylabel('inertia')\n",
    "\n",
    "plt.xticks(kmeans_range)\n",
    "\n",
    "plt.show()"
   ]
  },
  {
   "cell_type": "code",
   "execution_count": 47,
   "metadata": {
    "collapsed": false,
    "jupyter": {
     "outputs_hidden": false
    },
    "pycharm": {
     "name": "#%%\n"
    }
   },
   "outputs": [],
   "source": [
    "#here we initiate Kmeans with number of clusters that we find from elbow and Kmeans++\n",
    "# so in next step we can make clustering in our azdias and customers dataframe\n",
    "clusters = KMeans(n_clusters = 8,init = 'k-means++')\n",
    "\n"
   ]
  },
  {
   "cell_type": "code",
   "execution_count": 48,
   "metadata": {},
   "outputs": [],
   "source": [
    "#fit cluster for azdias\n",
    "azdiaz_clusters = clusters.fit(azdias_with_pca[:, :125])"
   ]
  },
  {
   "cell_type": "code",
   "execution_count": 49,
   "metadata": {
    "collapsed": false,
    "jupyter": {
     "outputs_hidden": false
    },
    "pycharm": {
     "name": "#%%\n"
    }
   },
   "outputs": [],
   "source": [
    "#make a prediction clusters for our customers label\n",
    "customers_clusters = clusters.predict(customers_with_pca[:, :125])"
   ]
  },
  {
   "cell_type": "code",
   "execution_count": 50,
   "metadata": {},
   "outputs": [],
   "source": [
    "featues_list=azdias.columns.values.tolist()\n"
   ]
  },
  {
   "cell_type": "code",
   "execution_count": 51,
   "metadata": {},
   "outputs": [],
   "source": [
    "type(azdiaz_clusters.labels_)\n",
    "x=azdiaz_clusters.labels_"
   ]
  },
  {
   "cell_type": "code",
   "execution_count": 52,
   "metadata": {},
   "outputs": [],
   "source": [
    "np.prod(azdiaz_clusters.labels_.shape)\n",
    "y=customers_clusters"
   ]
  },
  {
   "cell_type": "code",
   "execution_count": 53,
   "metadata": {},
   "outputs": [
    {
     "data": {
      "text/plain": [
       "191652"
      ]
     },
     "execution_count": 53,
     "metadata": {},
     "output_type": "execute_result"
    }
   ],
   "source": [
    "np.prod(customers_clusters.shape)"
   ]
  },
  {
   "cell_type": "code",
   "execution_count": 58,
   "metadata": {},
   "outputs": [
    {
     "data": {
      "text/plain": [
       "0     32005\n",
       "1    178066\n",
       "2    173939\n",
       "3    135101\n",
       "4     73796\n",
       "5    147198\n",
       "6     48132\n",
       "7    102984\n",
       "dtype: int64"
      ]
     },
     "execution_count": 58,
     "metadata": {},
     "output_type": "execute_result"
    }
   ],
   "source": [
    "azdias_clusters_series = pd.Series(azdiaz_clusters.labels_)\n",
    "\n",
    "azdias_cluster_number= azdias_clusters_series.value_counts().sort_index()\n",
    "azdias_cluster_number\n"
   ]
  },
  {
   "cell_type": "code",
   "execution_count": 59,
   "metadata": {},
   "outputs": [
    {
     "data": {
      "text/plain": [
       "0     4684\n",
       "1    53740\n",
       "2     1448\n",
       "3    53963\n",
       "4    46597\n",
       "5    19632\n",
       "6     6125\n",
       "7     5463\n",
       "dtype: int64"
      ]
     },
     "execution_count": 59,
     "metadata": {},
     "output_type": "execute_result"
    }
   ],
   "source": [
    "customers_clusters_series = pd.Series(customers_clusters)\n",
    "customer_cluster_number= customers_clusters_series.value_counts().sort_index()\n",
    "customer_cluster_number"
   ]
  },
  {
   "cell_type": "code",
   "execution_count": 71,
   "metadata": {},
   "outputs": [
    {
     "data": {
      "image/png": "[encoded data removed]",
      "text/plain": [
       "<Figure size 432x288 with 1 Axes>"
      ]
     },
     "metadata": {},
     "output_type": "display_data"
    }
   ],
   "source": [
    "import matplotlib.pyplot as plt\n",
    "fig = plt.figure()\n",
    "Axes = fig.add_axes([0,0,1,1])\n",
    "\n",
    "#change based on number of clusters\n",
    "langs = range(8)\n",
    "# make alphas deffernt to see defference between two columns of each cluster\n",
    "Axes.bar(langs,customer_cluster_number,color='red',alpha=0.5)\n",
    "Axes.bar(langs,azdias_cluster_number,color='blue',alpha=0.1)\n",
    "\n",
    "plt.show()"
   ]
  },
  {
   "cell_type": "markdown",
   "metadata": {},
   "source": [
    "this char show that most of customers are in clusters number 1,3,4"
   ]
  },
  {
   "cell_type": "markdown",
   "metadata": {},
   "source": [
    "as far as we see most general poulation are in clusters 1,2,3,4"
   ]
  },
  {
   "cell_type": "markdown",
   "metadata": {},
   "source": [
    "so between this two it's better to focus on clusters number 1 and 3\n",
    "because It has more population that can be change to their customers in next step we will focus on training model that can classify our mail order for potential customers"
   ]
  },
  {
   "cell_type": "code",
   "execution_count": null,
   "metadata": {},
   "outputs": [],
   "source": []
  }
 ],
 "metadata": {
  "kernelspec": {
   "display_name": "Python 3",
   "language": "python",
   "name": "python3"
  },
  "language_info": {
   "codemirror_mode": {
    "name": "ipython",
    "version": 3
   },
   "file_extension": ".py",
   "mimetype": "text/x-python",
   "name": "python",
   "nbconvert_exporter": "python",
   "pygments_lexer": "ipython3",
   "version": "3.8.8"
  }
 },
 "nbformat": 4,
 "nbformat_minor": 4
}
