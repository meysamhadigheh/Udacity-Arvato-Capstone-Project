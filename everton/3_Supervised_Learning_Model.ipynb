{
 "cells": [
  {
   "cell_type": "code",
   "execution_count": null,
   "outputs": [],
   "source": [
    "# Importing libraries:\n",
    "import joblib\n",
    "import numpy as np\n",
    "import pandas as pd\n",
    "\n",
    "import matplotlib.pyplot as plt\n",
    "import seaborn as sns\n",
    "\n",
    "from sklearn.preprocessing import StandardScaler, OneHotEncoder\n",
    "from sklearn.decomposition import PCA\n",
    "from sklearn.decomposition import TruncatedSVD\n",
    "\n",
    "from sklearn.compose import ColumnTransformer\n",
    "from sklearn.pipeline import Pipeline\n",
    "from imblearn.pipeline import Pipeline as Pipeline_imb\n",
    "\n",
    "from sklearn.impute import SimpleImputer\n",
    "from imblearn.over_sampling import SMOTE\n",
    "from sklearn.model_selection import GridSearchCV, learning_curve, train_test_split\n",
    "\n",
    "from xgboost import XGBClassifier\n",
    "from sklearn.ensemble import GradientBoostingClassifier, AdaBoostClassifier\n",
    "\n",
    "from lightgbm import LGBMClassifier\n",
    "\n",
    "from skopt import BayesSearchCV\n",
    "from skopt.space import Real, Categorical, Integer\n",
    "\n",
    "# magic word for producing visualizations in notebook\n",
    "%matplotlib inline\n",
    "\n",
    "import warnings\n",
    "warnings.filterwarnings('ignore')\n",
    "\n"
   ],
   "metadata": {
    "collapsed": false,
    "pycharm": {
     "name": "#%%\n"
    }
   }
  },
  {
   "cell_type": "code",
   "execution_count": null,
   "outputs": [],
   "source": [
    "azdias = pd.read_csv('../data/azdias.csv', sep=';')\n",
    "customers=pd.read_csv('../data/customers.csv',sep=';')\n"
   ],
   "metadata": {
    "collapsed": false,
    "pycharm": {
     "name": "#%% md load needed files\n"
    }
   }
  },
  {
   "cell_type": "code",
   "execution_count": null,
   "outputs": [],
   "source": [
    "# Mapping unknown values by variable:\n",
    "unknown_dict = {'CAMEO_DEU_2015': ['XX'], 'CAMEO_INTL_2015': ['XX'], 'CAMEO_DEUG_2015': ['X'], 'AGER_TYP': [-1, 0],\n",
    "                'ALTER_HH': [0], 'ARBEIT': [9], 'D19_BANKEN_ANZ_12': [0], 'D19_BANKEN_ANZ_24': [0], 'D19_BANKEN_DATUM': [10],\n",
    "                'D19_BANKEN_DIREKT': [0], 'D19_BANKEN_GROSS': [0], 'D19_BANKEN_LOKAL': [0], 'D19_BANKEN_OFFLINE_DATUM': [10],\n",
    "                'D19_BANKEN_ONLINE_DATUM': [10], 'D19_BANKEN_ONLINE_QUOTE_12': [0, 10], 'D19_BANKEN_REST': [0],\n",
    "                'D19_BEKLEIDUNG_GEH': [0], 'D19_BEKLEIDUNG_REST': [0], 'D19_BILDUNG': [0], 'D19_BIO_OEKO': [0],\n",
    "                'D19_BUCH_CD': [0], 'D19_DIGIT_SERV': [0], 'D19_DROGERIEARTIKEL': [0], 'D19_ENERGIE': [0], 'D19_FREIZEIT': [0],\n",
    "                'D19_GARTEN': [0], 'D19_GESAMT_ANZ_12': [0], 'D19_GESAMT_ANZ_24': [0], 'D19_GESAMT_DATUM': [10],\n",
    "                'D19_GESAMT_OFFLINE_DATUM': [10], 'D19_GESAMT_ONLINE_DATUM': [10], 'D19_GESAMT_ONLINE_QUOTE_12': [0,10],\n",
    "                'D19_HANDWERK': [0], 'D19_HAUS_DEKO': [0], 'D19_KINDERARTIKEL': [0], 'D19_KONSUMTYP': [9],\n",
    "                'D19_KONSUMTYP_MAX': [8, 9], 'D19_KOSMETIK': [0], 'D19_LEBENSMITTEL': [0], 'D19_LOTTO': [0],\n",
    "                'D19_SOZIALES': [0], 'D19_NAHRUNGSERGAENZUNG': [0], 'D19_RATGEBER': [0], 'D19_REISEN': [0],\n",
    "                'D19_SAMMELARTIKEL': [0], 'D19_SCHUHE': [0], 'D19_SONSTIGE': [0], 'D19_TECHNIK': [0], 'D19_TELKO_ANZ_12': [0],\n",
    "                'D19_TELKO_ANZ_24': [0], 'D19_TELKO_DATUM': [10], 'D19_TELKO_MOBILE': [0], 'D19_TELKO_OFFLINE_DATUM': [10],\n",
    "                'D19_TELKO_ONLINE_DATUM': [10], 'D19_TELKO_ONLINE_QUOTE_12': [0, 10], 'D19_VERSAND_ONLINE_QUOTE_12': [0, 10],\n",
    "                'D19_VERSI_ONLINE_QUOTE_12': [0, 10], 'D19_TELKO_REST': [0], 'D19_TIERARTIKEL': [0], 'D19_VERSAND_ANZ_12': [0],\n",
    "                'D19_VERSAND_ANZ_24': [0], 'D19_VERSAND_DATUM': [10], 'D19_VERSAND_OFFLINE_DATUM': [10],\n",
    "                'D19_VERSAND_ONLINE_DATUM': [10], 'D19_VERSAND_REST': [0], 'D19_VERSI_ANZ_12': [0], 'D19_VERSI_ANZ_24': [0],\n",
    "                'D19_VERSI_DATUM': [10], 'D19_VERSI_OFFLINE_DATUM': [10], 'D19_VERSI_ONLINE_DATUM': [10],\n",
    "                'D19_VERSICHERUNGEN': [0], 'D19_VOLLSORTIMENT': [0], 'D19_WEIN_FEINKOST': [0], 'GEBURTSJAHR': [0],\n",
    "                'HEALTH_TYP': [-1], 'KBA05_ALTER1': [9], 'KBA05_ALTER2': [9], 'KBA05_ALTER3': [9], 'KBA05_ALTER4': [9],\n",
    "                'KBA05_ANHANG': [9], 'KBA05_AUTOQUOT': [9], 'KBA05_BAUMAX': [0], 'KBA05_CCM1': [9], 'KBA05_CCM2': [9],\n",
    "                'KBA05_CCM3': [9], 'KBA05_CCM4': [9], 'KBA05_DIESEL': [9], 'KBA05_FRAU': [9], 'KBA05_HERST1': [9],\n",
    "                'KBA05_HERST2': [9], 'KBA05_HERST3': [9], 'KBA05_HERST4': [9], 'KBA05_HERST5': [9], 'KBA05_HERSTTEMP': [9],\n",
    "                'KBA05_KRSAQUOT': [9], 'KBA05_KRSHERST1': [9], 'KBA05_KRSHERST2': [9], 'KBA05_KRSHERST3': [9],\n",
    "                'KBA05_KRSKLEIN': [9], 'KBA05_KRSOBER': [9], 'KBA05_KRSVAN': [9], 'KBA05_KRSZUL': [9], 'KBA05_KW1': [9],\n",
    "                'KBA05_KW2': [9], 'KBA05_KW3': [9], 'KBA05_MAXAH': [9], 'KBA05_MAXBJ': [9], 'KBA05_MAXHERST': [9],\n",
    "                'KBA05_MAXSEG': [9], 'KBA05_MAXVORB': [9], 'KBA05_MOD1': [9], 'KBA05_MOD2': [9], 'KBA05_MOD3': [9],\n",
    "                'KBA05_MOD4': [9], 'KBA05_MOD8': [9], 'KBA05_MODTEMP': [6], 'KBA05_MOTOR': [9], 'KBA05_MOTRAD': [9],\n",
    "                'KBA05_SEG1': [9], 'KBA05_SEG10': [9], 'KBA05_SEG2': [9], 'KBA05_SEG3': [9], 'KBA05_SEG4': [9],\n",
    "                'KBA05_SEG5': [9], 'KBA05_SEG6': [9], 'KBA05_SEG7': [9], 'KBA05_SEG8': [9], 'KBA05_SEG9': [9],\n",
    "                'KBA05_VORB0': [9], 'KBA05_VORB1': [9], 'KBA05_VORB2': [9], 'KBA05_ZUL1': [9], 'KBA05_ZUL2': [9],\n",
    "                'KBA05_ZUL3': [9], 'KBA05_ZUL4': [9], 'KKK': [0], 'KOMBIALTER': [9], 'LP_LEBENSPHASE_FEIN': [0],\n",
    "                'LP_LEBENSPHASE_GROB': [0], 'NATIONALITAET_KZ': [0], 'ORTSGR_KLS9': [0], 'PRAEGENDE_JUGENDJAHRE': [0],\n",
    "                'REGIOTYP': [0], 'RELAT_AB': [9], 'RT_UEBERGROESSE': [0], 'SHOPPER_TYP': [-1], 'TITEL_KZ': [0],\n",
    "                'VERS_TYP': [-1], 'W_KEIT_KIND_HH': [0], 'WOHNLAGE': [0], 'ALTERSKATEGORIE_GROB': [9]}\n",
    "\n"
   ],
   "metadata": {
    "collapsed": false,
    "pycharm": {
     "name": "#%%\n"
    }
   }
  },
  {
   "cell_type": "code",
   "execution_count": null,
   "outputs": [],
   "source": [
    "def join_nan_with_unknown(df, unknown = unknown_dict):\n",
    "    '''\n",
    "    It maps unknown values by column and transform them to nan values.\n",
    "\n",
    "    Input:\n",
    "    df: original dataframe;\n",
    "    unkown: dictionary mapping columns and their respective known values' classes.\n",
    "\n",
    "    Output:\n",
    "    df: transformed dataframe.\n",
    "    '''\n",
    "    # Looping through columns with unkown values:\n",
    "    for col in list(unknown.keys()):\n",
    "        df[col] = [np.nan if df[col].iloc[i] in unknown[col] else df[col].iloc[i] for i in range(df.shape[0])]\n",
    "\n",
    "    return df"
   ],
   "metadata": {
    "collapsed": false,
    "pycharm": {
     "name": "#%%\n"
    }
   }
  },
  {
   "cell_type": "code",
   "execution_count": null,
   "outputs": [],
   "source": [
    "# Mapping dtypes by variable:\n",
    "dtypes_dict = {'AKT_DAT_KL': 'num', 'ALTER_HH': 'num', 'ALTERSKATEGORIE_FEIN': 'num', 'ANZ_HAUSHALTE_AKTIV': 'num',\n",
    "               'ANZ_HH_TITEL': 'num', 'ANZ_KINDER': 'num', 'ANZ_PERSONEN': 'num', 'ANZ_STATISTISCHE_HAUSHALTE': 'num',\n",
    "               'ANZ_TITEL': 'num', 'ARBEIT': 'num', 'BALLRAUM': 'num', 'CAMEO_DEU_2015': 'cat', 'CAMEO_DEUG_2015': 'num',\n",
    "               'CAMEO_INTL_2015': 'num', 'CJT_GESAMTTYP': 'cat', 'CJT_KATALOGNUTZER': 'num', 'CJT_TYP_1': 'num',\n",
    "               'CJT_TYP_2': 'num', 'CJT_TYP_3': 'num', 'CJT_TYP_4': 'num', 'CJT_TYP_5': 'num', 'CJT_TYP_6': 'num',\n",
    "               'D19_LETZTER_KAUF_BRANCHE': 'cat', 'DSL_FLAG': 'bin', 'EWDICHTE': 'num', 'FINANZ_ANLEGER': 'num',\n",
    "               'FINANZ_HAUSBAUER': 'num', 'FINANZ_MINIMALIST': 'num', 'FINANZ_SPARER': 'num', 'FINANZ_UNAUFFAELLIGER': 'num',\n",
    "               'FINANZ_VORSORGER': 'num', 'FINANZTYP': 'cat', 'FIRMENDICHTE': 'num', 'GEBAEUDETYP': 'cat',\n",
    "               'GEBAEUDETYP_RASTER': 'num', 'GEMEINDETYP': 'cat', 'GFK_URLAUBERTYP': 'cat', 'GREEN_AVANTGARDE': 'bin',\n",
    "               'HEALTH_TYP': 'cat', 'HH_DELTA_FLAG': 'bin', 'HH_EINKOMMEN_SCORE': 'num', 'INNENSTADT': 'num',\n",
    "               'KBA05_ALTER1': 'num', 'KBA05_ALTER2': 'num', 'KBA05_ALTER3': 'num', 'KBA05_ALTER4': 'num',\n",
    "               'KBA05_ANHANG': 'num', 'KBA05_ANTG1': 'num', 'KBA05_ANTG2': 'num', 'KBA05_ANTG3': 'num', 'KBA05_ANTG4': 'num',\n",
    "               'KBA05_AUTOQUOT': 'num', 'KBA05_CCM1': 'num', 'KBA05_CCM2': 'num', 'KBA05_CCM3': 'num', 'KBA05_CCM4': 'num',\n",
    "               'KBA05_DIESEL': 'num', 'KBA05_FRAU': 'num', 'KBA05_GBZ': 'num', 'KBA05_HERST1': 'num', 'KBA05_HERST2': 'num',\n",
    "               'KBA05_HERST3': 'num', 'KBA05_HERST4': 'num', 'KBA05_HERST5': 'num', 'KBA05_HERSTTEMP': 'cat',\n",
    "               'KBA05_KRSAQUOT': 'num', 'KBA05_KRSHERST1': 'num', 'KBA05_KRSHERST2': 'num', 'KBA05_KRSHERST3': 'num',\n",
    "               'KBA05_KRSKLEIN': 'num', 'KBA05_KRSOBER': 'num', 'KBA05_KRSVAN': 'num', 'KBA05_KRSZUL': 'num',\n",
    "               'KBA05_KW1': 'num', 'KBA05_KW2': 'num', 'KBA05_KW3': 'num', 'KBA05_MAXAH': 'num', 'KBA05_MAXBJ': 'num',\n",
    "               'KBA05_MAXHERST': 'cat', 'KBA05_MAXSEG': 'num', 'KBA05_MAXVORB': 'num', 'KBA05_MOD1': 'num',\n",
    "               'KBA05_MOD2': 'num', 'KBA05_MOD3': 'num', 'KBA05_MOD4': 'num', 'KBA05_MOD8': 'num', 'KBA05_MODTEMP': 'cat',\n",
    "               'KBA05_MOTOR': 'num', 'KBA05_MOTRAD': 'num', 'KBA05_SEG1': 'num', 'KBA05_SEG10': 'num', 'KBA05_SEG2': 'num',\n",
    "               'KBA05_SEG3': 'num', 'KBA05_SEG4': 'num', 'KBA05_SEG5': 'num', 'KBA05_SEG6': 'num', 'KBA05_SEG7': 'num',\n",
    "               'KBA05_SEG8': 'num', 'KBA05_SEG9': 'num', 'KBA05_VORB0': 'num', 'KBA05_VORB1': 'num', 'KBA05_VORB2': 'num',\n",
    "               'KBA05_ZUL1': 'num', 'KBA05_ZUL2': 'num', 'KBA05_ZUL3': 'num', 'KBA05_ZUL4': 'num',\n",
    "               'KBA13_ALTERHALTER_30': 'num', 'KBA13_ALTERHALTER_45': 'num', 'KBA13_ALTERHALTER_60': 'num',\n",
    "               'KBA13_ALTERHALTER_61': 'num', 'KBA13_ANTG1': 'num', 'KBA13_ANTG2': 'num', 'KBA13_ANTG3': 'num',\n",
    "               'KBA13_ANTG4': 'num', 'KBA13_ANZAHL_PKW': 'num', 'KBA13_AUDI': 'num', 'KBA13_AUTOQUOTE': 'num',\n",
    "               'KBA13_BAUMAX': 'num', 'KBA13_BJ_1999': 'num', 'KBA13_BJ_2000': 'num', 'KBA13_BJ_2004': 'num',\n",
    "               'KBA13_BJ_2006': 'num', 'KBA13_BJ_2008': 'num', 'KBA13_BJ_2009': 'num', 'KBA13_BMW': 'num',\n",
    "               'KBA13_CCM_0_1400': 'num', 'KBA13_CCM_1000': 'num', 'KBA13_CCM_1200': 'num', 'KBA13_CCM_1400': 'num',\n",
    "               'KBA13_CCM_1401_2500': 'num', 'KBA13_CCM_1500': 'num', 'KBA13_CCM_1600': 'num', 'KBA13_CCM_1800': 'num',\n",
    "               'KBA13_CCM_2000': 'num', 'KBA13_CCM_2500': 'num', 'KBA13_CCM_2501': 'num', 'KBA13_CCM_3000': 'num',\n",
    "               'KBA13_CCM_3001': 'num', 'KBA13_FAB_ASIEN': 'num', 'KBA13_FAB_SONSTIGE': 'num', 'KBA13_FIAT': 'num',\n",
    "               'KBA13_FORD': 'num', 'KBA13_GBZ': 'num', 'KBA13_HALTER_20': 'num', 'KBA13_HALTER_25': 'num',\n",
    "               'KBA13_HALTER_30': 'num', 'KBA13_HALTER_35': 'num', 'KBA13_HALTER_40': 'num', 'KBA13_HALTER_45': 'num',\n",
    "               'KBA13_HALTER_50': 'num', 'KBA13_HALTER_55': 'num', 'KBA13_HALTER_60': 'num', 'KBA13_HALTER_65': 'num',\n",
    "               'KBA13_HALTER_66': 'num', 'KBA13_HERST_ASIEN': 'num', 'KBA13_HERST_AUDI_VW': 'num',\n",
    "               'KBA13_HERST_BMW_BENZ': 'num', 'KBA13_HERST_EUROPA': 'num', 'KBA13_HERST_FORD_OPEL': 'num',\n",
    "               'KBA13_HERST_SONST': 'num', 'KBA13_HHZ': 'num', 'KBA13_KMH_0_140': 'num', 'KBA13_KMH_110': 'num',\n",
    "               'KBA13_KMH_140': 'num', 'KBA13_KMH_140_210': 'num', 'KBA13_KMH_180': 'num', 'KBA13_KMH_210': 'num',\n",
    "               'KBA13_KMH_211': 'num', 'KBA13_KMH_250': 'num', 'KBA13_KMH_251': 'num', 'KBA13_KRSAQUOT': 'num',\n",
    "               'KBA13_KRSHERST_AUDI_VW': 'num', 'KBA13_KRSHERST_BMW_BENZ': 'num', 'KBA13_KRSHERST_FORD_OPEL': 'num',\n",
    "               'KBA13_KRSSEG_KLEIN': 'num', 'KBA13_KRSSEG_OBER': 'num', 'KBA13_KRSSEG_VAN': 'num', 'KBA13_KRSZUL_NEU': 'num',\n",
    "               'KBA13_KW_0_60': 'num', 'KBA13_KW_110': 'num', 'KBA13_KW_120': 'num', 'KBA13_KW_121': 'num',\n",
    "               'KBA13_KW_30': 'num', 'KBA13_KW_40': 'num', 'KBA13_KW_50': 'num', 'KBA13_KW_60': 'num',\n",
    "               'KBA13_KW_61_120': 'num', 'KBA13_KW_70': 'num', 'KBA13_KW_80': 'num', 'KBA13_KW_90': 'num',\n",
    "               'KBA13_MAZDA': 'num', 'KBA13_MERCEDES': 'num', 'KBA13_MOTOR': 'num', 'KBA13_NISSAN': 'num', 'KBA13_OPEL': 'num',\n",
    "               'KBA13_PEUGEOT': 'num', 'KBA13_RENAULT': 'num', 'KBA13_SEG_GELAENDEWAGEN': 'num',\n",
    "               'KBA13_SEG_GROSSRAUMVANS': 'num', 'KBA13_SEG_KLEINST': 'num', 'KBA13_SEG_KLEINWAGEN': 'num',\n",
    "               'KBA13_SEG_KOMPAKTKLASSE': 'num', 'KBA13_SEG_MINIVANS': 'num', 'KBA13_SEG_MINIWAGEN': 'num',\n",
    "               'KBA13_SEG_MITTELKLASSE': 'num', 'KBA13_SEG_OBEREMITTELKLASSE': 'num', 'KBA13_SEG_OBERKLASSE': 'num',\n",
    "               'KBA13_SEG_SONSTIGE': 'num', 'KBA13_SEG_SPORTWAGEN': 'num', 'KBA13_SEG_UTILITIES': 'num',\n",
    "               'KBA13_SEG_VAN': 'num', 'KBA13_SEG_WOHNMOBILE': 'num', 'KBA13_SITZE_4': 'num', 'KBA13_SITZE_5': 'num',\n",
    "               'KBA13_SITZE_6': 'num', 'KBA13_TOYOTA': 'num', 'KBA13_VORB_0': 'num', 'KBA13_VORB_1': 'num',\n",
    "               'KBA13_VORB_1_2': 'num', 'KBA13_VORB_2': 'num', 'KBA13_VORB_3': 'num', 'KBA13_VW': 'num', 'KKK': 'num',\n",
    "               'KOMBIALTER': 'num', 'KONSUMNAEHE': 'num', 'KONSUMZELLE': 'bin', 'LP_FAMILIE_FEIN': 'cat',\n",
    "               'LP_FAMILIE_GROB': 'num', 'LP_LEBENSPHASE_FEIN': 'cat', 'LP_LEBENSPHASE_GROB': 'cat', 'LP_STATUS_FEIN': 'num',\n",
    "               'LP_STATUS_GROB': 'num', 'MIN_GEBAEUDEJAHR': 'num', 'MOBI_RASTER': 'num', 'MOBI_REGIO': 'num',\n",
    "               'NATIONALITAET_KZ': 'cat', 'ONLINE_AFFINITAET': 'num', 'ORTSGR_KLS9': 'num', 'OST_WEST_KZ': 'cat',\n",
    "               'PLZ8_ANTG1': 'num', 'PLZ8_ANTG2': 'num', 'PLZ8_ANTG3': 'num', 'PLZ8_ANTG4': 'num', 'PLZ8_BAUMAX': 'cat',\n",
    "               'PLZ8_GBZ': 'num', 'PLZ8_HHZ': 'num', 'PRAEGENDE_JUGENDJAHRE': 'num', 'REGIOTYP': 'num', 'RELAT_AB': 'num',\n",
    "               'RETOURTYP_BK_S': 'cat', 'RT_KEIN_ANREIZ': 'num', 'RT_SCHNAEPPCHEN': 'num', 'RT_UEBERGROESSE': 'num',\n",
    "               'SEMIO_DOM': 'num', 'SEMIO_ERL': 'num', 'SEMIO_FAM': 'num', 'SEMIO_KAEM': 'num', 'SEMIO_KRIT': 'num',\n",
    "               'SEMIO_KULT': 'num', 'SEMIO_LUST': 'num', 'SEMIO_MAT': 'num', 'SEMIO_PFLICHT': 'num', 'SEMIO_RAT': 'num',\n",
    "               'SEMIO_REL': 'num', 'SEMIO_SOZ': 'num', 'SEMIO_TRADV': 'num', 'SEMIO_VERT': 'num', 'SHOPPER_TYP': 'cat',\n",
    "               'SOHO_KZ': 'bin', 'STRUKTURTYP': 'cat', 'UMFELD_ALT': 'num', 'UMFELD_JUNG': 'num', 'UNGLEICHENN_FLAG': 'bin',\n",
    "               'VERDICHTUNGSRAUM': 'num', 'VERS_TYP': 'cat', 'VHA': 'num', 'VHN': 'num', 'VK_DHT4A': 'num',\n",
    "               'VK_DISTANZ': 'num', 'VK_ZG11': 'num', 'W_KEIT_KIND_HH': 'num', 'WOHNDAUER_2008': 'num', 'WOHNLAGE': 'cat',\n",
    "               'ZABEOTYP': 'cat', 'ANREDE_KZ': 'cat', 'ALTERSKATEGORIE_GROB': 'num'}\n",
    "\n"
   ],
   "metadata": {
    "collapsed": false,
    "pycharm": {
     "name": "#%%\n"
    }
   }
  },
  {
   "cell_type": "code",
   "execution_count": null,
   "outputs": [],
   "source": [
    "# Defiing funtion to change dtypes according to dtypes_dict:\n",
    "def change_dtypes(df, dtypes = dtypes_dict):\n",
    "    '''\n",
    "    It transforms columns dtypes according to dtypes dictionary.\n",
    "\n",
    "    Inputs:\n",
    "    df: original dataframe;\n",
    "    dtypes: dictionary mapping columns and dtypes.\n",
    "\n",
    "    Output:\n",
    "    df: transformed dataframe.\n",
    "    '''\n",
    "    # Correcting columns with two types:\n",
    "    for col in list(dtypes.keys()):\n",
    "        if dtypes[col] == 'cat':\n",
    "            df[col] = df[col].astype('category')\n",
    "        else:\n",
    "            df[col] = pd.to_numeric(df[col], errors = 'coerce')\n",
    "\n",
    "    return df"
   ],
   "metadata": {
    "collapsed": false,
    "pycharm": {
     "name": "#%%\n"
    }
   }
  },
  {
   "cell_type": "code",
   "execution_count": null,
   "outputs": [],
   "source": [
    "# Defining function to engineer new features:\n",
    "def feature_engineer(df):\n",
    "    '''\n",
    "    It uses some original features to create new and more informative ones.\n",
    "    * CAMEO_INTL_2015 splits into CAMEO_INTL_FAM_STATUS and CAMEO_INTL_FAM_COMPOSITION.\n",
    "    * PRAEGENDE_JUGENDJAHRE splits into YOUTH_DECADE and AVANT_GARDE.\n",
    "    * ALTER_HH is simplified representing decades.\n",
    "\n",
    "    Input:\n",
    "    df: original dataframe.\n",
    "\n",
    "    Output:\n",
    "    df: transformed dataframe.\n",
    "    '''\n",
    "    # Target columns to be transformed:\n",
    "    feat1 = 'CAMEO_INTL_2015'\n",
    "    feat2 = 'PRAEGENDE_JUGENDJAHRE'\n",
    "    feat3 = 'ALTER_HH'\n",
    "\n",
    "    # Creating CAMEO_INTL_FAM_STATUS feature:\n",
    "    df['CAMEO_INTL_FAM_STATUS'] = [int(str(df[feat1].iloc[i])[0]) if str(df[feat1].iloc[i]) != 'nan' \\\n",
    "                                   else np.nan for i in range(df.shape[0])]\n",
    "\n",
    "    # Creating CAMEO_INTL_FAM_COMPOSITION feature:\n",
    "    df['CAMEO_INTL_FAM_COMPOSITION'] = [int(str(df[feat1].iloc[i])[1]) if str(df[feat1].iloc[i]) != 'nan' \\\n",
    "                                        else np.nan for i in range(df.shape[0])]\n",
    "\n",
    "    # Creating YOUTH_DECADE feature:\n",
    "    df['YOUTH_DECADE'] = [4 if df[feat2].iloc[i] in [1, 2] \\\n",
    "                          else 5 if df[feat2].iloc[i] in [3, 4] \\\n",
    "                          else 6 if df[feat2].iloc[i] in [5, 6, 7] \\\n",
    "                          else 7 if df[feat2].iloc[i] in [8, 9] \\\n",
    "                          else 8 if df[feat2].iloc[i] in [10, 11, 12, 13] \\\n",
    "                          else 9 if df[feat2].iloc[i] in [14, 15] \\\n",
    "                          else np.nan for i in range(df.shape[0])]\n",
    "\n",
    "    # Creating AVANT_GARDE feature:\n",
    "    df['AVANT_GARDE'] = [0 if df[feat2].iloc[i] in [1, 3, 5, 8, 10, 12, 14] \\\n",
    "                         else 1 if df[feat2].iloc[i] in [2, 4, 6, 7, 9, 11, 13, 15] \\\n",
    "                         else np.nan for i in range(df.shape[0])]\n",
    "\n",
    "    # Deleting original columns:\n",
    "    df.drop(columns = [feat1, feat2], inplace = True)\n",
    "\n",
    "    # Simplifying ALTER_HH to represent decades:\n",
    "    df[feat3] = [1 if df[feat3].iloc[i] in [1, 2, 3] \\\n",
    "                 else 2 if df[feat3].iloc[i] in [4, 5] \\\n",
    "                 else 3 if df[feat3].iloc[i] in [6, 7] \\\n",
    "                 else 4 if df[feat3].iloc[i] in [8, 9] \\\n",
    "                 else 5 if df[feat3].iloc[i] in [10, 11] \\\n",
    "                 else 6 if df[feat3].iloc[i] in [12, 13] \\\n",
    "                 else 7 if df[feat3].iloc[i] in [14, 15] \\\n",
    "                 else 8 if df[feat3].iloc[i] in [16, 17] \\\n",
    "                 else 9 if df[feat3].iloc[i] in [18, 19] \\\n",
    "                 else np.nan for i in range(df.shape[0])]\n",
    "\n",
    "    return df\n",
    "\n",
    "\n",
    "\n",
    "# Defining dtypes for new features:\n",
    "new_feat_dtypes_dict = {'AVANT_GARDE': 'cat',\n",
    "                        'CAMEO_DEU_REPRESENTATION': 'num',\n",
    "                        'CAMEO_INTL_FAM_COMPOSITION': 'num',\n",
    "                        'CAMEO_INTL_FAM_STATUS': 'num',\n",
    "                        'YOUTH_DECADE': 'num'}"
   ],
   "metadata": {
    "collapsed": false,
    "pycharm": {
     "name": "#%%\n"
    }
   }
  },
  {
   "cell_type": "code",
   "execution_count": null,
   "outputs": [],
   "source": [
    "# Defining CAMEO_DEU_2015 transformation:\n",
    "def transform_cameo_deu(df):\n",
    "    '''\n",
    "    It simplifies CAMEO_DEU_2015 classes according to the representation pattern presented in the comparison\n",
    "    between customers and the general population.\n",
    "    '''\n",
    "    # Creating new column:\n",
    "    feat = 'CAMEO_DEU_2015'\n",
    "    df['CAMEO_DEU_REPRESENTATION'] = [0 if df[feat].iloc[i] in ['6A', '7A', '7B', '7C', '8A', '8B', '8C', '8D', '9A', '9B',\n",
    "                                                                '9C', '9D'] \\\n",
    "                                      else 1 if df[feat].iloc[i] in ['5A', '5B', '5C', '6B', '7D'] \\\n",
    "                                      else 2 if df[feat].iloc[i] in ['3A', '3B', '3C', '4B', '4C', '4E', '5E', '5F', '6C',\n",
    "                                                                     '6D', '6E', '6F', '7E', '9E'] \\\n",
    "                                      else 3 if df[feat].iloc[i] in ['1A', '1B', '1C', '1D', '2A', '2B', '2C', '2D', '3D',\n",
    "                                                                     '4A', '5D'] \\\n",
    "                                      else np.nan for i in range(df.shape[0])]\n",
    "\n",
    "    # Transforming the column to categorical type:\n",
    "    df['CAMEO_DEU_REPRESENTATION'] = df['CAMEO_DEU_REPRESENTATION'].astype('category')\n",
    "\n",
    "    # Deliting original column:\n",
    "    df.drop(columns = [feat], inplace = True)\n",
    "\n",
    "    return df"
   ],
   "metadata": {
    "collapsed": false,
    "pycharm": {
     "name": "#%%\n"
    }
   }
  },
  {
   "cell_type": "code",
   "execution_count": null,
   "outputs": [],
   "source": [
    "# Creating dictionary to map each feature to its correspondent information level:\n",
    "info_level = {'person': ['ANREDE_KZ', 'ALTERSKATEGORIE_GROB', 'AVANT_GARDE', 'CJT_GESAMTTYP', 'CJT_KATALOGNUTZER', 'CJT_TYP_6',\n",
    "                         'FINANZ_ANLEGER', 'FINANZ_HAUSBAUER', 'FINANZTYP', 'GFK_URLAUBERTYP', 'HEALTH_TYP', 'LP_FAMILIE_FEIN',\n",
    "                         'LP_FAMILIE_GROB', 'LP_LEBENSPHASE_FEIN', 'LP_LEBENSPHASE_GROB', 'LP_STATUS_GROB', 'NATIONALITAET_KZ',\n",
    "                         'OST_WEST_KZ', 'RETOURTYP_BK_S', 'SEMIO_ERL', 'SEMIO_FAM', 'SEMIO_KRIT', 'SEMIO_KULT', 'SOHO_KZ',\n",
    "                         'SEMIO_LUST', 'SEMIO_MAT', 'SEMIO_RAT', 'SEMIO_REL', 'SEMIO_SOZ', 'SEMIO_TRADV', 'SEMIO_VERT',\n",
    "                         'SHOPPER_TYP', 'VERS_TYP', 'YOUTH_DECADE', 'ZABEOTYP'],\n",
    "              'household': ['AKT_DAT_KL', 'ANZ_KINDER', 'ANZ_STATISTISCHE_HAUSHALTE', 'ANZ_TITEL', 'CAMEO_DEU_REPRESENTATION',\n",
    "                            'CAMEO_INTL_FAM_COMPOSITION', 'CAMEO_INTL_FAM_STATUS', 'D19_LETZTER_KAUF_BRANCHE',\n",
    "                            'HH_EINKOMMEN_SCORE', 'WOHNDAUER_2008', 'W_KEIT_KIND_HH', 'RT_KEIN_ANREIZ', 'RT_SCHNAEPPCHEN',\n",
    "                            'RT_UEBERGROESSE'],\n",
    "              'microcell': ['ANZ_HH_TITEL', 'DSL_FLAG', 'HH_DELTA_FLAG', 'KBA05_ALTER1', 'KBA05_ALTER2', 'KBA05_ALTER3',\n",
    "                            'KBA05_ALTER4', 'KBA05_ANHANG', 'KBA05_ANTG2', 'KBA05_ANTG3', 'KBA05_ANTG4', 'KBA05_CCM1',\n",
    "                            'KBA05_CCM2', 'KBA05_CCM3', 'KBA05_CCM4', 'KBA05_DIESEL', 'KBA05_FRAU', 'KBA05_HERST4',\n",
    "                            'KBA05_HERST5', 'KBA05_HERSTTEMP', 'KBA05_KRSAQUOT', 'KBA05_KRSHERST1', 'KBA05_KRSHERST2',\n",
    "                            'KBA05_KRSHERST3', 'KBA05_KW2', 'KBA05_KW3', 'KBA05_MAXAH', 'KBA05_MAXBJ', 'KBA05_MAXHERST',\n",
    "                            'KBA05_MAXSEG', 'KBA05_MAXVORB', 'KBA05_MOD1', 'KBA05_MOD2', 'KBA05_MOD3', 'KBA05_MOD4',\n",
    "                            'KBA05_MODTEMP', 'KBA05_MOTOR', 'KBA05_MOTRAD', 'KBA05_SEG1', 'KBA05_SEG10', 'KBA05_SEG2',\n",
    "                            'KBA05_SEG3', 'KBA05_SEG4', 'KBA05_SEG5', 'KBA05_SEG6', 'KBA05_SEG7', 'KBA05_SEG8', 'KBA05_SEG9',\n",
    "                            'KBA05_VORB0', 'KBA05_VORB1', 'KBA05_VORB2', 'KBA05_ZUL1', 'KBA05_ZUL2', 'KBA05_ZUL3',\n",
    "                            'KBA05_ZUL4', 'KONSUMZELLE', 'MIN_GEBAEUDEJAHR', 'STRUKTURTYP', 'UMFELD_ALT', 'UMFELD_JUNG',\n",
    "                            'WOHNLAGE'],\n",
    "              'macrocell': ['BALLRAUM', 'GEBAEUDETYP_RASTER', 'GEBAEUDETYP', 'GEMEINDETYP', 'INNENSTADT', 'KBA13_AUDI',\n",
    "                            'KBA13_AUTOQUOTE', 'KBA13_BJ_2000', 'KBA13_BJ_2006', 'KBA13_BJ_2008', 'KBA13_BJ_2009', 'KBA13_BMW',\n",
    "                            'KBA13_CCM_0_1400', 'KBA13_CCM_1000', 'KBA13_CCM_1200', 'KBA13_CCM_1400', 'KBA13_CCM_1401_2500',\n",
    "                            'KBA13_CCM_1500', 'KBA13_CCM_1600', 'KBA13_CCM_1800', 'KBA13_CCM_2000', 'KBA13_CCM_2500',\n",
    "                            'KBA13_CCM_2501', 'KBA13_CCM_3000', 'KBA13_CCM_3001', 'KBA13_FAB_ASIEN', 'KBA13_FIAT',\n",
    "                            'KBA13_FORD', 'KBA13_HALTER_20', 'KBA13_HALTER_25', 'KBA13_HALTER_35', 'KBA13_HALTER_40',\n",
    "                            'KBA13_HALTER_45', 'KBA13_HALTER_50', 'KBA13_HALTER_55', 'KBA13_HALTER_60', 'KBA13_HALTER_65',\n",
    "                            'KBA13_HALTER_66', 'KBA13_HERST_ASIEN', 'KBA13_HERST_EUROPA', 'KBA13_HERST_SONST', 'KBA13_KMH_140',\n",
    "                            'KBA13_KMH_180', 'KBA13_KMH_210', 'KBA13_KMH_250', 'KBA13_KMH_251', 'KBA13_KRSAQUOT',\n",
    "                            'KBA13_KRSHERST_AUDI_VW', 'KBA13_KRSHERST_BMW_BENZ', 'KBA13_KRSHERST_FORD_OPEL',\n",
    "                            'KBA13_KRSSEG_KLEIN', 'KBA13_KRSSEG_OBER', 'KBA13_KRSZUL_NEU', 'KBA13_KW_110', 'KBA13_KW_120',\n",
    "                            'KBA13_KW_121', 'KBA13_KW_30', 'KBA13_KW_40', 'KBA13_KW_50', 'KBA13_KW_60', 'KBA13_KW_61_120',\n",
    "                            'KBA13_KW_70', 'KBA13_KW_80', 'KBA13_KW_90', 'KBA13_MAZDA', 'KBA13_MERCEDES', 'KBA13_MOTOR',\n",
    "                            'KBA13_NISSAN', 'KBA13_OPEL', 'KBA13_PEUGEOT', 'KBA13_RENAULT', 'KBA13_SEG_GELAENDEWAGEN',\n",
    "                            'KBA13_SEG_KLEINWAGEN', 'KBA13_SEG_KOMPAKTKLASSE', 'KBA13_SEG_MINIWAGEN', 'KBA13_SEG_MITTELKLASSE',\n",
    "                            'KBA13_SEG_OBEREMITTELKLASSE', 'KBA13_SEG_OBERKLASSE', 'KBA13_SEG_SONSTIGE',\n",
    "                            'KBA13_SEG_SPORTWAGEN', 'KBA13_SEG_UTILITIES', 'KBA13_SEG_VAN', 'KBA13_SEG_WOHNMOBILE',\n",
    "                            'KBA13_SITZE_5', 'KBA13_SITZE_6', 'KBA13_TOYOTA', 'KBA13_VORB_0', 'KBA13_VORB_1', 'KBA13_VORB_1_2',\n",
    "                            'KBA13_VORB_2', 'KBA13_VORB_3', 'KBA13_VW', 'MOBI_REGIO', 'PLZ8_ANTG2', 'PLZ8_ANTG4',\n",
    "                            'PLZ8_BAUMAX', 'PLZ8_GBZ', 'PLZ8_HHZ', 'VK_ZG11', 'VK_DHT4A', 'VHN', 'VHA', 'VERDICHTUNGSRAUM',\n",
    "                            'UNGLEICHENN_FLAG'],\n",
    "              'community': ['ARBEIT', 'ORTSGR_KLS9', 'RELAT_AB']}\n"
   ],
   "metadata": {
    "collapsed": false,
    "pycharm": {
     "name": "#%%\n"
    }
   }
  },
  {
   "cell_type": "code",
   "execution_count": null,
   "outputs": [],
   "source": [
    "# Creating a list of variables that overcomes the threshold for nan values:\n",
    "nan_threshold = 0.35 # 35%\n",
    "\n",
    "# Nan proportion, using general population dataframe (more observations):\n",
    "var_nan_prop = azdias.isnull().mean()\n",
    "\n",
    "# List:\n",
    "nan_list = list()\n",
    "for i in range(len(var_nan_prop)):\n",
    "    if var_nan_prop[i] >= nan_threshold:\n",
    "        nan_list.append(var_nan_prop.index.values[i])\n",
    "\n",
    "print('{} columns with more than {}% of nan values.'.format(len(nan_list), nan_threshold*100))"
   ],
   "metadata": {
    "collapsed": false,
    "pycharm": {
     "name": "#%%\n"
    }
   }
  },
  {
   "cell_type": "code",
   "execution_count": null,
   "outputs": [],
   "source": [
    "# Creating function that delete the columns listed in nan_list:\n",
    "def eliminate_nan_columns(df, nan_cols = nan_list):\n",
    "    '''\n",
    "    It deletes dataframe columns in nan_cols list.\n",
    "\n",
    "    Inputs:\n",
    "    df: original dataframe;\n",
    "    nan_cols:list of columns to be deleted.\n",
    "\n",
    "    Output:\n",
    "    df: dataframe updated without nan_cols.\n",
    "    '''\n",
    "    # Deleting nan_cols:\n",
    "    df.drop(columns = nan_cols, inplace = True)\n",
    "\n",
    "    return df"
   ],
   "metadata": {
    "collapsed": false,
    "pycharm": {
     "name": "#%%\n"
    }
   }
  },
  {
   "cell_type": "markdown",
   "source": [
    "## Part 2: Supervised Learning Model<a name=\"part2\"></a>\n",
    "\n",
    "Now that you've found which parts of the population are more likely to be customers of the mail-order company, it's time to build a prediction model. Each of the rows in the \"MAILOUT\" data files represents an individual that was targeted for a mailout campaign. Ideally, we should be able to use the demographic information from each individual to decide whether or not it will be worth it to include that person in the campaign.\n",
    "\n",
    "The \"MAILOUT\" data has been split into two approximately equal parts, each with almost 43 000 data rows. In this part, you can verify your model with the \"TRAIN\" partition, which includes a column, \"RESPONSE\", that states whether or not a person became a customer of the company following the campaign. In the next part, you'll need to create predictions on the \"TEST\" partition, where the \"RESPONSE\" column has been withheld."
   ],
   "metadata": {
    "collapsed": false
   }
  },
  {
   "cell_type": "code",
   "execution_count": null,
   "outputs": [],
   "source": [
    "# Load in the data:\n",
    "#mailout_train = pd.read_csv('../../data/Term2/capstone/arvato_data/Udacity_MAILOUT_052018_TRAIN.csv', sep=';')\n",
    "\n",
    "# Loading train data:\n",
    "mailout_train = joblib.load('train')\n",
    "\n",
    "mailout_train.head()"
   ],
   "metadata": {
    "collapsed": false,
    "pycharm": {
     "name": "#%%\n"
    }
   }
  },
  {
   "cell_type": "code",
   "execution_count": null,
   "outputs": [],
   "source": [
    "# Verifying class balance:\n",
    "mailout_train.RESPONSE.value_counts()"
   ],
   "metadata": {
    "collapsed": false,
    "pycharm": {
     "name": "#%%\n"
    }
   }
  },
  {
   "cell_type": "markdown",
   "source": [
    "### 2.1 Data Transformation<a name=\"datatrans\"></a>"
   ],
   "metadata": {
    "collapsed": false
   }
  },
  {
   "cell_type": "markdown",
   "source": [
    "For the supervised learning task, the strategy will be less conservative, eliminating as few features as possible. Because of that, the process of selecting columns will be simplified, increasing the threshold percentage for *nan* values."
   ],
   "metadata": {
    "collapsed": false
   }
  },
  {
   "cell_type": "code",
   "execution_count": null,
   "outputs": [],
   "source": [
    "# Joining nan and unknown values:\n",
    "mailout_train = join_nan_with_unknown(mailout_train)"
   ],
   "metadata": {
    "collapsed": false,
    "pycharm": {
     "name": "#%%\n"
    }
   }
  },
  {
   "cell_type": "code",
   "execution_count": null,
   "outputs": [],
   "source": [
    "# Creating a list of variables that overcomes the threshold for nan values:\n",
    "new_nan_threshold = 0.5 # 50%\n",
    "\n",
    "# Nan proportion, using general population dataframe (more observations):\n",
    "var_nan_prop = mailout_train.isnull().mean()\n",
    "\n",
    "# List:\n",
    "new_nan_list = list()\n",
    "for i in range(len(var_nan_prop)):\n",
    "    if var_nan_prop[i] >= new_nan_threshold:\n",
    "        new_nan_list.append(var_nan_prop.index.values[i])\n",
    "\n",
    "print('{} columns with more than {}% of nan values.'.format(len(new_nan_list), new_nan_threshold*100))"
   ],
   "metadata": {
    "collapsed": false,
    "pycharm": {
     "name": "#%%\n"
    }
   }
  },
  {
   "cell_type": "code",
   "execution_count": null,
   "outputs": [],
   "source": [
    "# Updating dtypes_dict:\n",
    "new_dtypes_dict = dtypes_dict.copy()\n",
    "new_dtypes_dict['AGER_TYP'] = 'cat'\n",
    "new_dtypes_dict['D19_GESAMT_ANZ_24'] = 'num'\n",
    "new_dtypes_dict['D19_GESAMT_DATUM'] = 'num'\n",
    "new_dtypes_dict['D19_GESAMT_OFFLINE_DATUM'] = 'num'\n",
    "new_dtypes_dict['D19_GESAMT_ONLINE_DATUM'] = 'num'\n",
    "new_dtypes_dict['D19_KONSUMTYP'] = 'cat'\n",
    "new_dtypes_dict['D19_KONSUMTYP_MAX'] = 'num'\n",
    "new_dtypes_dict['D19_SONSTIGE'] = 'num'\n",
    "new_dtypes_dict['D19_SOZIALES'] = 'num'\n",
    "new_dtypes_dict['D19_VERSAND_DATUM'] = 'num'\n",
    "new_dtypes_dict['D19_VERSAND_OFFLINE_DATUM'] = 'num'\n",
    "new_dtypes_dict['D19_VOLLSORTIMENT'] = 'num'\n",
    "new_dtypes_dict['EXTSEL992'] = 'num'\n",
    "new_dtypes_dict['GEBURTSJAHR'] = 'num'"
   ],
   "metadata": {
    "collapsed": false,
    "pycharm": {
     "name": "#%%\n"
    }
   }
  },
  {
   "cell_type": "code",
   "execution_count": null,
   "outputs": [],
   "source": [
    "# Target column:\n",
    "y = mailout_train.RESPONSE"
   ],
   "metadata": {
    "collapsed": false,
    "pycharm": {
     "name": "#%%\n"
    }
   }
  },
  {
   "cell_type": "code",
   "execution_count": null,
   "outputs": [],
   "source": [
    "def supervised_data_transformation(df, test_set):\n",
    "    '''\n",
    "    It applies all the data transformation steps before treating nan values.\n",
    "\n",
    "    Input:\n",
    "    df: original dataframe;\n",
    "    train_set: boolean indicating whether it's train or test set.\n",
    "\n",
    "    Output:\n",
    "    df: transformed dataframe.\n",
    "    '''\n",
    "    if test_set:\n",
    "        # Joining nan and unknown values:\n",
    "        df = join_nan_with_unknown(df)\n",
    "\n",
    "        # Columns do drop:\n",
    "        drop_cols = ['LNR', 'EINGEFUEGT_AM', 'EINGEZOGENAM_HH_JAHR']\n",
    "\n",
    "    else:\n",
    "        drop_cols = ['LNR', 'EINGEFUEGT_AM', 'EINGEZOGENAM_HH_JAHR', 'RESPONSE']\n",
    "\n",
    "    # Eliminating nan columns:\n",
    "    df = eliminate_nan_columns(df, nan_cols = new_nan_list)\n",
    "\n",
    "    # Dropping useless columns:\n",
    "    df = df.drop(columns = drop_cols)\n",
    "\n",
    "    # Changing column dtypes:\n",
    "    df = change_dtypes(df, dtypes = new_dtypes_dict)\n",
    "\n",
    "    # Feature engineering I:\n",
    "    df = feature_engineer(df)\n",
    "\n",
    "    # Feature engineering II:\n",
    "    df = transform_cameo_deu(df)\n",
    "\n",
    "    return df"
   ],
   "metadata": {
    "collapsed": false,
    "pycharm": {
     "name": "#%%\n"
    }
   }
  },
  {
   "cell_type": "code",
   "execution_count": null,
   "outputs": [],
   "source": [
    "# Applying data transformations on train set:\n",
    "mailout_train = supervised_data_transformation(mailout_train, test_set = False)"
   ],
   "metadata": {
    "collapsed": false,
    "pycharm": {
     "name": "#%%\n"
    }
   }
  },
  {
   "cell_type": "markdown",
   "source": [
    "Next step, different pipelines will be built in order to treat *nan* values differently, according to column dtype."
   ],
   "metadata": {
    "collapsed": false
   }
  },
  {
   "cell_type": "code",
   "execution_count": null,
   "outputs": [],
   "source": [
    "# Creating dtypes list:\n",
    "numerical_cols_list = list()\n",
    "binary_cols_list = list()\n",
    "categorical_cols_list = list()\n",
    "\n",
    "# Appending columns to lists:\n",
    "for col in mailout_train.columns:\n",
    "    try:\n",
    "        dtype = new_dtypes_dict[col]\n",
    "    except:\n",
    "        dtype = new_feat_dtypes_dict[col]\n",
    "\n",
    "    if dtype == 'num':\n",
    "        numerical_cols_list.append(col)\n",
    "    elif dtype == 'cat':\n",
    "        categorical_cols_list.append(col)\n",
    "    else:\n",
    "        binary_cols_list.append(col)"
   ],
   "metadata": {
    "collapsed": false,
    "pycharm": {
     "name": "#%%\n"
    }
   }
  },
  {
   "cell_type": "code",
   "execution_count": null,
   "outputs": [],
   "source": [
    "# Pipeline for treating nan values:\n",
    "# Numerical features: nan values will be imputed using the 'median', and then StandardScaler will be applied:\n",
    "num_features = numerical_cols_list\n",
    "num_transformer = Pipeline(steps = [\n",
    "    ('imputer', SimpleImputer(strategy = 'median')),\n",
    "    ('scaler', StandardScaler())\n",
    "])\n",
    "\n",
    "# Categorical features will be one-hot-encoded:\n",
    "cat_features = categorical_cols_list\n",
    "cat_transformer = Pipeline(steps = [\n",
    "    ('imputer', SimpleImputer(strategy = 'most_frequent')),\n",
    "    ('cat_ohe', OneHotEncoder(handle_unknown = 'ignore'))\n",
    "])\n",
    "\n",
    "# Binary features with nan values will also be one-hot-encoded:\n",
    "bin_features = list(mailout_train[binary_cols_list].columns[mailout_train[binary_cols_list].isnull().sum() > 0])\n",
    "bin_transformer = Pipeline(steps = [\n",
    "    ('imputer', SimpleImputer(strategy = 'most_frequent')),\n",
    "    ('bin_ohe', OneHotEncoder(handle_unknown = 'ignore'))\n",
    "])\n",
    "\n",
    "# Encapsulating transformations:\n",
    "preproc = ColumnTransformer(\n",
    "    transformers = [\n",
    "        ('num', num_transformer, num_features),\n",
    "        ('cat', cat_transformer, cat_features),\n",
    "        ('bin', bin_transformer, bin_features)\n",
    "    ])"
   ],
   "metadata": {
    "collapsed": false,
    "pycharm": {
     "name": "#%%\n"
    }
   }
  },
  {
   "cell_type": "markdown",
   "source": [
    "### 2.2 Analyzing Learning Curves<a name=\"learningcurve\"></a>"
   ],
   "metadata": {
    "collapsed": false
   }
  },
  {
   "cell_type": "markdown",
   "source": [
    "To better understand which algorithms would be a better choice, the learning curves related to a few algorithms are going to be drawn:"
   ],
   "metadata": {
    "collapsed": false
   }
  },
  {
   "cell_type": "code",
   "execution_count": null,
   "outputs": [],
   "source": [
    "# Defining a function to plot learning curves:\n",
    "def plot_learning_curves(X, y, model, steps):\n",
    "    '''\n",
    "    It plots the learning curve for the desired algorithm.\n",
    "\n",
    "    Input:\n",
    "    X: predictive features;\n",
    "    y: target feature;\n",
    "    model: instantiated object of the algorithm to be trained;\n",
    "    steps: integer defining the steps for training size.\n",
    "    '''\n",
    "    # Setting train_sizes:\n",
    "    train_sizes = np.linspace(0.1, 1.0, steps)\n",
    "\n",
    "    # Applying sklearn learning_curve:\n",
    "    train_size, train_score, test_score = learning_curve(model, X, y,\n",
    "                                                         scoring = 'roc_auc',\n",
    "                                                         train_sizes = train_sizes)\n",
    "    # Computing average train and test scores:\n",
    "    avg_train_score = np.mean(train_score, axis = 1)\n",
    "    avg_test_score = np.mean(test_score, axis = 1)\n",
    "\n",
    "    # Printing results:\n",
    "    print(\"ROC_AUC train score: {:.2f}\".format(avg_train_score[-1]))\n",
    "    print(\"ROC_AUC valid. score: {:.2f}\".format(avg_test_score[-1]))\n",
    "\n",
    "    # Creating learning curve plot:\n",
    "    fig, ax = plt.subplots(nrows = 1, ncols = 1, figsize = (15, 5))\n",
    "\n",
    "    sns.lineplot(x = train_sizes * 100, y = avg_train_score,\n",
    "                 marker = 'o', color = 'tomato',\n",
    "                 label = 'Train', ax = ax).set(xlabel = 'Training Set Percentage',\n",
    "                                               ylabel = 'Model Score',\n",
    "                                               title = 'Learning Curve')\n",
    "\n",
    "    sns.lineplot(x = train_sizes * 100, y = avg_test_score,\n",
    "                 marker = 'o', color = 'springgreen',\n",
    "                 label = 'Validation', ax = ax)\n",
    "\n",
    "    sns.despine(left=True, top = True)\n",
    "\n",
    "    fig.show()"
   ],
   "metadata": {
    "collapsed": false,
    "pycharm": {
     "name": "#%%\n"
    }
   }
  },
  {
   "cell_type": "code",
   "execution_count": null,
   "outputs": [],
   "source": [
    "# XGBClassifier\n",
    "\n",
    "# Print classifier's name:\n",
    "print('XGBClassifier')\n",
    "\n",
    "# Defining machine learning pipeline:\n",
    "ml_pipe = Pipeline(steps = [\n",
    "    ('preprocessing', preproc),\n",
    "    ('clf', XGBClassifier())\n",
    "])\n",
    "\n",
    "# Creating a randomized version of the train dataframe:\n",
    "df = mailout_train.copy()\n",
    "df['RESPONSE'] = list(y.values)\n",
    "rand_df = df.sample(frac = 1)\n",
    "\n",
    "# Creating X_train and y_train objects:\n",
    "rand_y = rand_df['RESPONSE']\n",
    "rand_X = rand_df.drop(['RESPONSE'], axis = 1)\n",
    "\n",
    "# Plotting learning curve:\n",
    "plot_learning_curves(rand_X, rand_y, ml_pipe, 10)"
   ],
   "metadata": {
    "collapsed": false,
    "pycharm": {
     "name": "#%%\n"
    }
   }
  },
  {
   "cell_type": "markdown",
   "source": [
    "Clearly, the learning curves are not converging: the average score on the training set stands in high values, while validation scores are poor.\n",
    "\n",
    "It means that the **XGBClassifier** is overfitting, and the model is not actually learning or generalizing, explaining the low scores in the validation set."
   ],
   "metadata": {
    "collapsed": false
   }
  },
  {
   "cell_type": "code",
   "execution_count": null,
   "outputs": [],
   "source": [
    "# GradientBoosting\n",
    "\n",
    "# Print classifier's name:\n",
    "print('GradientBoostingClassifier')\n",
    "\n",
    "# Defining machine learning pipeline:\n",
    "ml_pipe = Pipeline(steps = [\n",
    "    ('preprocessing', preproc),\n",
    "    ('clf', GradientBoostingClassifier())\n",
    "])\n",
    "\n",
    "# Creating a randomized version of the train dataframe:\n",
    "df = mailout_train.copy()\n",
    "df['RESPONSE'] = list(y.values)\n",
    "rand_df = df.sample(frac = 1)\n",
    "\n",
    "# Creating X_train and y_train objects:\n",
    "rand_y = rand_df['RESPONSE']\n",
    "rand_X = rand_df.drop(['RESPONSE'], axis = 1)\n",
    "\n",
    "# Plotting learning curve:\n",
    "plot_learning_curves(rand_X, rand_y, ml_pipe, 10)"
   ],
   "metadata": {
    "collapsed": false,
    "pycharm": {
     "name": "#%%\n"
    }
   }
  },
  {
   "cell_type": "markdown",
   "source": [
    "On the other hand, **GradientBoostingClassifier** represents a better option once the learning curves are converging, and the validation score is consistently improving while the algorithm receives more information."
   ],
   "metadata": {
    "collapsed": false
   }
  },
  {
   "cell_type": "code",
   "execution_count": null,
   "outputs": [],
   "source": [
    "# AdaBoostClassifier\n",
    "\n",
    "# Print classifier's name:\n",
    "print('AdaBoostClassifier')\n",
    "\n",
    "# Defining machine learning pipeline:\n",
    "ml_pipe = Pipeline(steps = [\n",
    "    ('preprocessing', preproc),\n",
    "    ('clf', AdaBoostClassifier())\n",
    "])\n",
    "\n",
    "# Creating a randomized version of the train dataframe:\n",
    "df = mailout_train.copy()\n",
    "df['RESPONSE'] = list(y.values)\n",
    "rand_df = df.sample(frac = 1)\n",
    "\n",
    "# Creating X_train and y_train objects:\n",
    "rand_y = rand_df['RESPONSE']\n",
    "rand_X = rand_df.drop(['RESPONSE'], axis = 1)\n",
    "\n",
    "# Plotting learning curve:\n",
    "plot_learning_curves(rand_X, rand_y, ml_pipe, 10)"
   ],
   "metadata": {
    "collapsed": false,
    "pycharm": {
     "name": "#%%\n"
    }
   }
  },
  {
   "cell_type": "markdown",
   "source": [
    "**AdaBoostClassifier** shows a similar pattern when comparing to the GradientBoostingClassifier. However, its validation score was not as good.\n",
    "\n",
    "Considering the models that didn't overfit, **GradientBoostingClassifier** seems a better option:\n",
    "* learning curves seem to keep converging, showing perspective of improvements;\n",
    "* validation score achieved higher values, indicating that it performs better on unseen data."
   ],
   "metadata": {
    "collapsed": false
   }
  },
  {
   "cell_type": "markdown",
   "source": [
    "### 2.3 Training Classifier<a name=\"training\"></a>"
   ],
   "metadata": {
    "collapsed": false
   }
  },
  {
   "cell_type": "markdown",
   "source": [
    "Now that the learning curve was observed for different algorithms, and the *GradientBoostingClassifier* was chosen as a better option, a few steps will be followed:\n",
    "* defining data pipeline;\n",
    "* setting different parameters for model tuning;\n",
    "* *GridSearchCV* to optimize parameters' combination.\n",
    "\n",
    "Since the data is highly unbalanced, the evaluation metric will be the `roc_auc` score."
   ],
   "metadata": {
    "collapsed": false
   }
  },
  {
   "cell_type": "markdown",
   "source": [
    "#### 2.3.1 Training on Unbalanced Data<a name=\"t1\"></a>"
   ],
   "metadata": {
    "collapsed": false
   }
  },
  {
   "cell_type": "markdown",
   "source": [
    "In this first attempt, the unbalance seen in the classes will not be treated."
   ],
   "metadata": {
    "collapsed": false
   }
  },
  {
   "cell_type": "code",
   "execution_count": null,
   "outputs": [],
   "source": [
    "# Defining machine learning pipeline:\n",
    "gbc_ml_pipe = Pipeline(steps = [\n",
    "    ('preprocessing', preproc),\n",
    "    ('clf', GradientBoostingClassifier(learning_rate = 0.1,\n",
    "                                       n_estimators = 150,\n",
    "                                       random_state = 301))\n",
    "])\n",
    "\n",
    "# Setting parameters to be tested:\n",
    "params = {'clf__min_samples_split': [2, 4],\n",
    "          'clf__max_depth': [3, 5],\n",
    "          'clf__max_features': [None, 'auto']\n",
    "}\n",
    "\n",
    "# Grid search + ML pipleine:\n",
    "gbc_clf = GridSearchCV(gbc_ml_pipe, param_grid = params, scoring = 'roc_auc', verbose = 2)\n",
    "\n",
    "# Training model:\n",
    "gbc_clf.fit(mailout_train, y)"
   ],
   "metadata": {
    "collapsed": false,
    "pycharm": {
     "name": "#%%\n"
    }
   }
  },
  {
   "cell_type": "code",
   "execution_count": null,
   "outputs": [],
   "source": [
    "# Checking best parameters:\n",
    "print(gbc_clf.best_params_)\n",
    "\n",
    "# Checking best score:\n",
    "print('Best ROC_AUC score: {:.2f}'.format(gbc_clf.best_score_))"
   ],
   "metadata": {
    "collapsed": false,
    "pycharm": {
     "name": "#%%\n"
    }
   }
  },
  {
   "cell_type": "code",
   "execution_count": null,
   "outputs": [],
   "source": [
    "# Saving model:\n",
    "#filename = 'gbc_model.pkl'\n",
    "#pickle.dump(gbc_clf, open(filename, 'wb'))"
   ],
   "metadata": {
    "collapsed": false,
    "pycharm": {
     "name": "#%%\n"
    }
   }
  },
  {
   "cell_type": "markdown",
   "source": [
    "#### 2.3.2 Training on Balanced Data<a name=\"t2\"></a>"
   ],
   "metadata": {
    "collapsed": false
   }
  },
  {
   "cell_type": "markdown",
   "source": [
    "In this second attempt, the `SMOTE` technique will be included in the machine learning pipeline.\n",
    "\n",
    "The purpose is to see if the `roc_auc` score increases, once the unbalance is treated."
   ],
   "metadata": {
    "collapsed": false
   }
  },
  {
   "cell_type": "code",
   "execution_count": null,
   "outputs": [],
   "source": [
    "# Defining machine learning pipeline:\n",
    "gbc_smote_ml_pipe = Pipeline_imb(steps = [\n",
    "    ('preprocessing', preproc),\n",
    "    ('smote', SMOTE(random_state = 501)),\n",
    "    ('clf', GradientBoostingClassifier(learning_rate = 0.1,\n",
    "                                       n_estimators = 150,\n",
    "                                       random_state = 501))\n",
    "])\n",
    "\n",
    "# Setting parameters to be tested:\n",
    "params_smote = {'smote__sampling_strategy': [0.3, 0.5, 1.0],\n",
    "                'clf__min_samples_split': [2, 4],\n",
    "                'clf__max_depth': [3],\n",
    "                'clf__max_features': [None]\n",
    "}\n",
    "\n",
    "# Grid search + ML pipleine:\n",
    "gbc_smote_clf = GridSearchCV(gbc_smote_ml_pipe, param_grid = params_smote, scoring = 'roc_auc', verbose = 2)\n",
    "\n",
    "# Training model:\n",
    "gbc_smote_clf.fit(mailout_train, y)"
   ],
   "metadata": {
    "collapsed": false,
    "pycharm": {
     "name": "#%%\n"
    }
   }
  },
  {
   "cell_type": "code",
   "execution_count": null,
   "outputs": [],
   "source": [
    "# Checking best parameters:\n",
    "print(gbc_smote_clf.best_params_)\n",
    "\n",
    "# Checking best score:\n",
    "print('Best ROC_AUC score: {:.2f}'.format(gbc_smote_clf.best_score_))"
   ],
   "metadata": {
    "collapsed": false,
    "pycharm": {
     "name": "#%%\n"
    }
   }
  },
  {
   "cell_type": "markdown",
   "source": [
    "This strategy to deal with the class unbalance didn't result in a better score. Because of that, in the next attempts, unbalance will not be treated."
   ],
   "metadata": {
    "collapsed": false
   }
  },
  {
   "cell_type": "markdown",
   "source": [
    "#### 2.3.3 Using Information Level and PCA Transformation<a name=\"t3\"></a>"
   ],
   "metadata": {
    "collapsed": false
   }
  },
  {
   "cell_type": "markdown",
   "source": [
    "In this third attempt, a similar approach used during the cluster analysis will be performed here. In this case, data will be treated differently not only considering the columns' dtypes, but also the information level related to the columns.\n",
    "\n",
    "As an example, `person` information level will be split into:\n",
    "* numerical features;\n",
    "* categorical features;\n",
    "* binary features.\n",
    "\n",
    "In the most generic levels of information like `microcell` and `macrocell`, dimensionality reduction will be applied (`PCA` for numerical features, and `TruncatedSVD` for sparse matrix (categorical columns after the one-hot encoding process).\n",
    "\n",
    "This way, when applied, the dimensionality reduction will result in components representing one single level of information."
   ],
   "metadata": {
    "collapsed": false
   }
  },
  {
   "cell_type": "code",
   "execution_count": null,
   "outputs": [],
   "source": [
    "# Updating info_level dictionary:\n",
    "new_info_level = info_level.copy()\n",
    "\n",
    "# Adding columns:\n",
    "# Person:\n",
    "new_info_level['person'].append('AGER_TYP')\n",
    "new_info_level['person'].append('GEBURTSJAHR')\n",
    "\n",
    "# Household:\n",
    "new_info_level['household'].append('D19_GESAMT_ANZ_24')\n",
    "new_info_level['household'].append('D19_GESAMT_DATUM')\n",
    "new_info_level['household'].append('D19_GESAMT_OFFLINE_DATUM')\n",
    "new_info_level['household'].append('D19_GESAMT_ONLINE_DATUM')\n",
    "new_info_level['household'].append('D19_KONSUMTYP')\n",
    "new_info_level['household'].append('D19_KONSUMTYP_MAX')\n",
    "new_info_level['household'].append('D19_SONSTIGE')\n",
    "new_info_level['household'].append('D19_SOZIALES')\n",
    "new_info_level['household'].append('D19_VERSAND_DATUM')\n",
    "new_info_level['household'].append('D19_VERSAND_OFFLINE_DATUM')\n",
    "new_info_level['household'].append('D19_VOLLSORTIMENT')\n",
    "\n",
    "# Macrocell:\n",
    "new_info_level['macrocell'].append('EXTSEL992')"
   ],
   "metadata": {
    "collapsed": false,
    "pycharm": {
     "name": "#%%\n"
    }
   }
  },
  {
   "cell_type": "code",
   "execution_count": null,
   "outputs": [],
   "source": [
    "# Dividing Person features into numerical, categorical and binary:\n",
    "pers_num_features = list()\n",
    "\n",
    "pers_cat_features = list()\n",
    "\n",
    "pers_bin_features = list()\n",
    "\n",
    "# Adding columns to lists:\n",
    "for pers_col in new_info_level['person']:\n",
    "    try:\n",
    "        dtype = new_dtypes_dict[pers_col]\n",
    "    except:\n",
    "        dtype = new_feat_dtypes_dict[pers_col]\n",
    "\n",
    "    if dtype == 'num':\n",
    "        pers_num_features.append(pers_col)\n",
    "    elif dtype == 'cat':\n",
    "        pers_cat_features.append(pers_col)\n",
    "    else:\n",
    "        pers_bin_features.append(pers_col)"
   ],
   "metadata": {
    "collapsed": false,
    "pycharm": {
     "name": "#%%\n"
    }
   }
  },
  {
   "cell_type": "code",
   "execution_count": null,
   "outputs": [],
   "source": [
    "# Dividing Household features into numerical, categorical and binary:\n",
    "hh_num_features = list()\n",
    "\n",
    "hh_cat_features = list()\n",
    "\n",
    "hh_bin_features = list()\n",
    "\n",
    "# Adding columns to lists:\n",
    "for hh_col in new_info_level['household']:\n",
    "    try:\n",
    "        dtype = new_dtypes_dict[hh_col]\n",
    "    except:\n",
    "        dtype = new_feat_dtypes_dict[hh_col]\n",
    "\n",
    "    if dtype == 'num':\n",
    "        hh_num_features.append(hh_col)\n",
    "    elif dtype == 'cat':\n",
    "        hh_cat_features.append(hh_col)\n",
    "    else:\n",
    "        hh_bin_features.append(hh_col)"
   ],
   "metadata": {
    "collapsed": false,
    "pycharm": {
     "name": "#%%\n"
    }
   }
  },
  {
   "cell_type": "code",
   "execution_count": null,
   "outputs": [],
   "source": [
    "# Dividing Microcell features into numerical, categorical and binary:\n",
    "mic_num_features = list()\n",
    "\n",
    "mic_cat_features = list()\n",
    "\n",
    "mic_bin_features = list()\n",
    "\n",
    "# Adding columns to lists:\n",
    "for mic_col in new_info_level['microcell']:\n",
    "    try:\n",
    "        dtype = new_dtypes_dict[mic_col]\n",
    "    except:\n",
    "        dtype = new_feat_dtypes_dict[mic_col]\n",
    "\n",
    "    if dtype == 'num':\n",
    "        mic_num_features.append(mic_col)\n",
    "    elif dtype == 'cat':\n",
    "        mic_cat_features.append(mic_col)\n",
    "    else:\n",
    "        mic_bin_features.append(mic_col)"
   ],
   "metadata": {
    "collapsed": false,
    "pycharm": {
     "name": "#%%\n"
    }
   }
  },
  {
   "cell_type": "code",
   "execution_count": null,
   "outputs": [],
   "source": [
    "# Dividing Macrocell features into numerical, categorical and binary:\n",
    "mac_num_features = list()\n",
    "\n",
    "mac_cat_features = list()\n",
    "\n",
    "mac_bin_features = list()\n",
    "\n",
    "# Adding columns to lists:\n",
    "for mac_col in new_info_level['macrocell']:\n",
    "    try:\n",
    "        dtype = new_dtypes_dict[mac_col]\n",
    "    except:\n",
    "        dtype = new_feat_dtypes_dict[mac_col]\n",
    "\n",
    "    if dtype == 'num':\n",
    "        mac_num_features.append(mac_col)\n",
    "    elif dtype == 'cat':\n",
    "        mac_cat_features.append(mac_col)\n",
    "    else:\n",
    "        mac_bin_features.append(mac_col)"
   ],
   "metadata": {
    "collapsed": false,
    "pycharm": {
     "name": "#%%\n"
    }
   }
  },
  {
   "cell_type": "code",
   "execution_count": null,
   "outputs": [],
   "source": [
    "# Dividing Community features into numerical, categorical and binary:\n",
    "com_num_features = list()\n",
    "\n",
    "com_cat_features = list()\n",
    "\n",
    "com_bin_features = list()\n",
    "\n",
    "# Adding columns to lists:\n",
    "for com_col in new_info_level['community']:\n",
    "    try:\n",
    "        dtype = new_dtypes_dict[com_col]\n",
    "    except:\n",
    "        dtype = new_feat_dtypes_dict[com_col]\n",
    "\n",
    "    if dtype == 'num':\n",
    "        com_num_features.append(com_col)\n",
    "    elif dtype == 'cat':\n",
    "        com_cat_features.append(com_col)\n",
    "    else:\n",
    "        com_bin_features.append(com_col)"
   ],
   "metadata": {
    "collapsed": false,
    "pycharm": {
     "name": "#%%\n"
    }
   }
  },
  {
   "cell_type": "code",
   "execution_count": null,
   "outputs": [],
   "source": [
    "# Pipeline for treating nan values and applying PCA to different information levels:\n",
    "\n",
    "# PERSON level:\n",
    "# Numerical features: nan values will be imputed using the 'median', and then StandardScaler will be applied:\n",
    "# pers_num_features\n",
    "pers_num_transformer = Pipeline(steps = [\n",
    "    ('pers_num_imputer', SimpleImputer(strategy = 'median')),\n",
    "    ('pers_num_scaler', StandardScaler())\n",
    "])\n",
    "\n",
    "# Categorical features will be one-hot-encoded:\n",
    "# pers_cat_features\n",
    "pers_cat_transformer = Pipeline(steps = [\n",
    "    ('pers_cat_imputer', SimpleImputer(strategy = 'most_frequent')),\n",
    "    ('pers_cat_ohe', OneHotEncoder(handle_unknown = 'ignore')),\n",
    "    ('pers_cat_pca', TruncatedSVD(n_components = 9, random_state = 701))\n",
    "])\n",
    "\n",
    "# Binary features with nan values will also be one-hot-encoded:\n",
    "# pers_bin_features\n",
    "pers_bin_transformer = Pipeline(steps = [\n",
    "    ('pers_bin_imputer', SimpleImputer(strategy = 'most_frequent')),\n",
    "    ('pers_bin_ohe', OneHotEncoder(handle_unknown = 'ignore'))\n",
    "])"
   ],
   "metadata": {
    "collapsed": false,
    "pycharm": {
     "name": "#%%\n"
    }
   }
  },
  {
   "cell_type": "code",
   "execution_count": null,
   "outputs": [],
   "source": [
    "# HOUSEHOLD level:\n",
    "# Numerical features: nan values will be imputed using the 'median', and then StandardScaler will be applied:\n",
    "# hh_num_features\n",
    "hh_num_transformer = Pipeline(steps = [\n",
    "    ('hh_num_imputer', SimpleImputer(strategy = 'median')),\n",
    "    ('hh_num_scaler', StandardScaler())\n",
    "])\n",
    "\n",
    "# Categorical features will be one-hot-encoded:\n",
    "# hh_cat_features\n",
    "hh_cat_transformer = Pipeline(steps = [\n",
    "    ('hh_cat_imputer', SimpleImputer(strategy = 'most_frequent')),\n",
    "    ('hh_cat_ohe', OneHotEncoder(handle_unknown = 'ignore'))\n",
    "])"
   ],
   "metadata": {
    "collapsed": false,
    "pycharm": {
     "name": "#%%\n"
    }
   }
  },
  {
   "cell_type": "code",
   "execution_count": null,
   "outputs": [],
   "source": [
    "# MICROCELL level:\n",
    "# Numerical features: nan values will be imputed using the 'median', and then StandardScaler will be applied:\n",
    "# mic_num_features\n",
    "mic_num_transformer = Pipeline(steps = [\n",
    "    ('mic_num_imputer', SimpleImputer(strategy = 'median')),\n",
    "    ('mic_num_scaler', StandardScaler()),\n",
    "    ('mic_num_pca', PCA(n_components = 6, random_state = 702))\n",
    "])\n",
    "\n",
    "# Categorical features will be one-hot-encoded:\n",
    "# mic_cat_features\n",
    "mic_cat_transformer = Pipeline(steps = [\n",
    "    ('mic_cat_imputer', SimpleImputer(strategy = 'most_frequent')),\n",
    "    ('mic_cat_ohe', OneHotEncoder(handle_unknown = 'ignore')),\n",
    "    ('mic_cat_pca', TruncatedSVD(n_components = 2, random_state = 703))\n",
    "])\n",
    "\n",
    "# Binary features with nan values will also be one-hot-encoded:\n",
    "# mic_bin_features\n",
    "mic_bin_transformer = Pipeline(steps = [\n",
    "    ('mic_bin_imputer', SimpleImputer(strategy = 'most_frequent')),\n",
    "    ('mic_bin_ohe', OneHotEncoder(handle_unknown = 'ignore')),\n",
    "    ('mic_bin_pca', TruncatedSVD(n_components = 2, random_state = 704))\n",
    "])"
   ],
   "metadata": {
    "collapsed": false,
    "pycharm": {
     "name": "#%%\n"
    }
   }
  },
  {
   "cell_type": "code",
   "execution_count": null,
   "outputs": [],
   "source": [
    "# MACROCELL level:\n",
    "# Numerical features: nan values will be imputed using the 'median', and then StandardScaler will be applied:\n",
    "# mac_num_features\n",
    "mac_num_transformer = Pipeline(steps = [\n",
    "    ('mac_num_imputer', SimpleImputer(strategy = 'median')),\n",
    "    ('mac_num_scaler', StandardScaler()),\n",
    "    ('mac_num_pca', PCA(n_components = 8, random_state = 705))\n",
    "])\n",
    "\n",
    "# Categorical features will be one-hot-encoded:\n",
    "# mac_cat_features\n",
    "mac_cat_transformer = Pipeline(steps = [\n",
    "    ('mac_cat_imputer', SimpleImputer(strategy = 'most_frequent')),\n",
    "    ('mac_cat_ohe', OneHotEncoder(handle_unknown = 'ignore')),\n",
    "    ('mac_cat_pca', TruncatedSVD(n_components = 2, random_state = 706))\n",
    "])\n",
    "\n",
    "# Binary features with nan values will also be one-hot-encoded:\n",
    "# mac_bin_features\n",
    "mac_bin_transformer = Pipeline(steps = [\n",
    "    ('mac_bin_imputer', SimpleImputer(strategy = 'most_frequent')),\n",
    "    ('mac_bin_ohe', OneHotEncoder(handle_unknown = 'ignore'))\n",
    "])"
   ],
   "metadata": {
    "collapsed": false,
    "pycharm": {
     "name": "#%%\n"
    }
   }
  },
  {
   "cell_type": "code",
   "execution_count": null,
   "outputs": [],
   "source": [
    "# COMMUNITY level:\n",
    "# Numerical features: nan values will be imputed using the 'median', and then StandardScaler will be applied:\n",
    "# com_num_features\n",
    "com_num_transformer = Pipeline(steps = [\n",
    "    ('com_num_imputer', SimpleImputer(strategy = 'median')),\n",
    "    ('com_num_scaler', StandardScaler())\n",
    "])"
   ],
   "metadata": {
    "collapsed": false,
    "pycharm": {
     "name": "#%%\n"
    }
   }
  },
  {
   "cell_type": "code",
   "execution_count": null,
   "outputs": [],
   "source": [
    "# Encapsulating transformations:\n",
    "preproc_pca = ColumnTransformer(\n",
    "    transformers = [\n",
    "        ('pers_num', pers_num_transformer, pers_num_features),\n",
    "        ('pers_cat', pers_cat_transformer, pers_cat_features),\n",
    "        ('pers_bin', pers_bin_transformer, pers_bin_features),\n",
    "        ('hh_num', hh_num_transformer, hh_num_features),\n",
    "        ('hh_cat', hh_cat_transformer, hh_cat_features),\n",
    "        ('mic_num', mic_num_transformer, mic_num_features),\n",
    "        ('mic_cat', mic_cat_transformer, mic_cat_features),\n",
    "        ('mic_bin', mic_bin_transformer, mic_bin_features),\n",
    "        ('mac_num', mac_num_transformer, mac_num_features),\n",
    "        ('mac_cat', mac_cat_transformer, mac_cat_features),\n",
    "        ('mac_bin', mac_bin_transformer, mac_bin_features),\n",
    "        ('com_num', com_num_transformer, com_num_features)\n",
    "    ])"
   ],
   "metadata": {
    "collapsed": false,
    "pycharm": {
     "name": "#%%\n"
    }
   }
  },
  {
   "cell_type": "code",
   "execution_count": null,
   "outputs": [],
   "source": [
    "# Concatenating selected columns:\n",
    "selected_columns = pers_num_features + pers_cat_features + pers_bin_features + hh_num_features + hh_cat_features + mic_num_features + mic_cat_features + mic_bin_features + mac_num_features + mac_cat_features + mac_bin_features + com_num_features"
   ],
   "metadata": {
    "collapsed": false,
    "pycharm": {
     "name": "#%%\n"
    }
   }
  },
  {
   "cell_type": "code",
   "execution_count": null,
   "outputs": [],
   "source": [
    "# Defining machine learning pipeline:\n",
    "gbc_pca_ml_pipe = Pipeline(steps = [\n",
    "    ('preprocessing', preproc_pca),\n",
    "    ('clf', GradientBoostingClassifier(learning_rate = 0.1,\n",
    "                                       n_estimators = 150,\n",
    "                                       random_state = 701))\n",
    "])\n",
    "\n",
    "# Setting parameters to be tested:\n",
    "params_pca = {'clf__min_samples_split': [2, 4],\n",
    "              'clf__max_depth': [3, 5],\n",
    "              'clf__max_features': [None]\n",
    "}\n",
    "\n",
    "# Grid search + ML pipleine:\n",
    "gbc_pca_clf = GridSearchCV(gbc_pca_ml_pipe, param_grid = params_pca, scoring = 'roc_auc', verbose = 2)\n",
    "\n",
    "# Training model:\n",
    "gbc_pca_clf.fit(mailout_train[selected_columns], y)"
   ],
   "metadata": {
    "collapsed": false,
    "pycharm": {
     "name": "#%%\n"
    }
   }
  },
  {
   "cell_type": "code",
   "execution_count": null,
   "outputs": [],
   "source": [
    "# Checking best parameters:\n",
    "print(gbc_pca_clf.best_params_)\n",
    "\n",
    "# Checking best score:\n",
    "print('Best ROC_AUC score: {:.2f}'.format(gbc_pca_clf.best_score_))"
   ],
   "metadata": {
    "collapsed": false,
    "pycharm": {
     "name": "#%%\n"
    }
   }
  },
  {
   "cell_type": "markdown",
   "source": [
    "This approach resulted in a better score when comparing to the second approach, but still not as good as the first strategy."
   ],
   "metadata": {
    "collapsed": false
   }
  },
  {
   "cell_type": "markdown",
   "source": [
    "#### 2.3.4 Using PCA Transformation<a name=\"t4\"></a>"
   ],
   "metadata": {
    "collapsed": false
   }
  },
  {
   "cell_type": "markdown",
   "source": [
    "The fourth approach is a variation of the first one, but this time the dimensionality reduction will be applied to the data. Different from the third approach, information level will not be considered.\n",
    "\n",
    "This way, the `PCA` algorithm will be applied along in the machine learning pipeline, and the components will represent the whole data."
   ],
   "metadata": {
    "collapsed": false
   }
  },
  {
   "cell_type": "code",
   "execution_count": null,
   "outputs": [],
   "source": [
    "# Defining machine learning pipeline:\n",
    "gbc_pca2_pipe = Pipeline(steps = [\n",
    "    ('preprocessing', preproc),\n",
    "    ('pca', PCA(random_state = 901)),\n",
    "    ('clf', GradientBoostingClassifier(learning_rate = 0.1,\n",
    "                                       n_estimators = 150,\n",
    "                                       random_state = 301))\n",
    "])\n",
    "\n",
    "# Setting parameters to be tested:\n",
    "params_pca2 = {'pca__n_components': [70, 100, 150],\n",
    "               'clf__min_samples_split': [2, 4],\n",
    "               'clf__max_depth': [3],\n",
    "               'clf__max_features': [None]\n",
    "}\n",
    "\n",
    "# Grid search + ML pipleine:\n",
    "gbc_pca2_clf = GridSearchCV(gbc_pca2_pipe, param_grid = params_pca2, scoring = 'roc_auc', verbose = 2)\n",
    "\n",
    "# Training model:\n",
    "gbc_pca2_clf.fit(mailout_train, y)"
   ],
   "metadata": {
    "collapsed": false,
    "pycharm": {
     "name": "#%%\n"
    }
   }
  },
  {
   "cell_type": "code",
   "execution_count": null,
   "outputs": [],
   "source": [
    "# Checking best parameters:\n",
    "print(gbc_pca2_clf.best_params_)\n",
    "\n",
    "# Checking best score:\n",
    "print('Best ROC_AUC score: {:.2f}'.format(gbc_pca2_clf.best_score_))"
   ],
   "metadata": {
    "collapsed": false,
    "pycharm": {
     "name": "#%%\n"
    }
   }
  },
  {
   "cell_type": "markdown",
   "source": [
    "Considering the `roc_auc` metric, this strategy is the worst so far."
   ],
   "metadata": {
    "collapsed": false
   }
  },
  {
   "cell_type": "markdown",
   "source": [
    "#### 2.3.5 XGBoost Classifier and Bayesian Optimization<a name=\"t5\"></a>"
   ],
   "metadata": {
    "collapsed": false
   }
  },
  {
   "cell_type": "markdown",
   "source": [
    "This time, not only the algorithm will be changed, but also the parameter tuning approach will be changed.\n",
    "\n",
    "Instead of the *Gradient Boosting Classifier*, the `XGBoost Classifier` will be trained on the data. The parameter tuning will be performed by the `BayesSearchCV` algorithm. Instead of simply testing all the parameter combinations, this algorithm test different parameters, given a range of possible values.\n",
    "\n",
    "Once it shows improvement, the algorithm 'explores' deeper the areas that resulted in better performance."
   ],
   "metadata": {
    "collapsed": false
   }
  },
  {
   "cell_type": "code",
   "execution_count": null,
   "outputs": [],
   "source": [
    "# Defining machine learning pipeline:\n",
    "xgbc_ml_pipe_bayes = Pipeline(steps = [\n",
    "    ('preprocessing', preproc),\n",
    "    ('clf', XGBClassifier(random_state = 301))\n",
    "])\n",
    "\n",
    "# Setting parameters to be tested:\n",
    "bayes_search_space = {'clf__booster': Categorical(['gbtree', 'dart']),\n",
    "                      'clf__learning_rate': Real(0.01, 0.3),\n",
    "                      'clf__gamma': Integer(0, 100),\n",
    "                      'clf__min_child_weight': Integer(0, 10),\n",
    "                      'clf__reg_lambda': Integer(1, 100),\n",
    "                      'clf__reg_alpha': Integer(0, 100),\n",
    "                      'clf__tree_method': Categorical(['auto', 'hist']),\n",
    "                      'clf__max_depth': Integer(2, 7)\n",
    "}\n",
    "\n",
    "# Defining function to display scores:\n",
    "def show_score(optim_result):\n",
    "    '''\n",
    "    It shows iteration scores during Bayesian Optimization\n",
    "    '''\n",
    "    # Computing score:\n",
    "    score = xgbc_bayes_clf.best_score_\n",
    "    print('Best ROC_AUC Score:{}'.format(score))\n",
    "\n",
    "    # Early stop:\n",
    "    if score >= 0.81:\n",
    "        print('At least 0.81 ROC_AUC score achieved!')\n",
    "\n",
    "        return True\n",
    "\n",
    "# Grid search + ML pipleine:\n",
    "xgbc_bayes_clf = BayesSearchCV(xgbc_ml_pipe_bayes, bayes_search_space, scoring = 'roc_auc', cv = 5, verbose = 2)\n",
    "\n",
    "# Training model:\n",
    "xgbc_bayes_clf.fit(mailout_train, y, callback = show_score)"
   ],
   "metadata": {
    "collapsed": false,
    "pycharm": {
     "name": "#%%\n"
    }
   }
  },
  {
   "cell_type": "code",
   "execution_count": null,
   "outputs": [],
   "source": [
    "# Checking best parameters:\n",
    "print(xgbc_bayes_clf.best_params_)\n",
    "\n",
    "# Checking best score:\n",
    "print('Best ROC_AUC score: {:.2f}'.format(xgbc_bayes_clf.best_score_))"
   ],
   "metadata": {
    "collapsed": false,
    "pycharm": {
     "name": "#%%\n"
    }
   }
  },
  {
   "cell_type": "markdown",
   "source": [
    "This strategy resulted in a score similar to the first one.\n",
    "\n",
    "Since the first one was the best model so far, this new Bayesian Optimization approach will be performed in a few more algorithms."
   ],
   "metadata": {
    "collapsed": false
   }
  },
  {
   "cell_type": "code",
   "execution_count": null,
   "outputs": [],
   "source": [
    "# Saving model:\n",
    "#filename = 'xgbc_bayes_model.pkl'\n",
    "#pickle.dump(xgbc_bayes_clf, open(filename, 'wb'))"
   ],
   "metadata": {
    "collapsed": false,
    "pycharm": {
     "name": "#%%\n"
    }
   }
  },
  {
   "cell_type": "markdown",
   "source": [
    "#### 2.3.6 LightGBM and Bayesian Optimization<a name=\"t6\"></a>"
   ],
   "metadata": {
    "collapsed": false
   }
  },
  {
   "cell_type": "markdown",
   "source": [
    "`LightGBM Classifier` is similar to the *XGBoost Classifier*, but is considered faster. Besides that, it splits its trees leaf-wise, rather than depth or level-wise like most of the other similar algorithms."
   ],
   "metadata": {
    "collapsed": false
   }
  },
  {
   "cell_type": "code",
   "execution_count": null,
   "outputs": [],
   "source": [
    "# Defining machine learning pipeline:\n",
    "lgbm_ml_pipe_bayes = Pipeline(steps = [\n",
    "    ('preprocessing', preproc),\n",
    "    ('clf', LGBMClassifier(random_state = 301))\n",
    "])\n",
    "\n",
    "# Setting parameters to be tested:\n",
    "lgbm_bayes_search_space = {'clf__boosting_type': Categorical(['gbdt', 'dart', 'goss']),\n",
    "                           'clf__num_leaves': Integer(5, 100),\n",
    "                           'clf__max_depth': Integer(2, 200),\n",
    "                           'clf__learning_rate': Real(0.01, 0.5),\n",
    "                           'clf__n_estimators': Integer(100, 500),\n",
    "                           'clf__min_child_samples': Integer(10, 80),\n",
    "                           'clf__reg_alpha': Integer(0, 100),\n",
    "                           'clf__reg_lambda': Integer(0, 100)\n",
    "}\n",
    "\n",
    "# Defining function to display scores:\n",
    "def lgbm_show_score(optim_result):\n",
    "    '''\n",
    "    It shows iteration scores during Bayesian Optimization\n",
    "    '''\n",
    "    # Computing score:\n",
    "    score = lgbm_bayes_clf.best_score_\n",
    "    print('\\nBest ROC_AUC Score: {}.\\n'.format(score))\n",
    "\n",
    "    # Early stop:\n",
    "    if score >= 0.81:\n",
    "        print('At least 0.81 ROC_AUC score achieved!')\n",
    "\n",
    "        return True\n",
    "\n",
    "# Grid search + ML pipleine:\n",
    "lgbm_bayes_clf = BayesSearchCV(lgbm_ml_pipe_bayes, lgbm_bayes_search_space, scoring = 'roc_auc', cv = 5, verbose = 2)\n",
    "\n",
    "# Training model:\n",
    "lgbm_bayes_clf.fit(mailout_train, y, callback = lgbm_show_score)"
   ],
   "metadata": {
    "collapsed": false,
    "pycharm": {
     "name": "#%%\n"
    }
   }
  },
  {
   "cell_type": "code",
   "execution_count": null,
   "outputs": [],
   "source": [
    "# Checking best parameters:\n",
    "print(lgbm_bayes_clf.best_params_)\n",
    "\n",
    "# Checking best score:\n",
    "print('Best ROC_AUC score: {:.2f}'.format(lgbm_bayes_clf.best_score_))"
   ],
   "metadata": {
    "collapsed": false,
    "pycharm": {
     "name": "#%%\n"
    }
   }
  },
  {
   "cell_type": "markdown",
   "source": [
    "The *LightGBM Classifier* resulted in a slightly lower score in comparison to the last model, but their performances are comparable.\n",
    "\n"
   ],
   "metadata": {
    "collapsed": false
   }
  }
 ],
 "metadata": {
  "kernelspec": {
   "display_name": "Python 3",
   "language": "python",
   "name": "python3"
  },
  "language_info": {
   "codemirror_mode": {
    "name": "ipython",
    "version": 2
   },
   "file_extension": ".py",
   "mimetype": "text/x-python",
   "name": "python",
   "nbconvert_exporter": "python",
   "pygments_lexer": "ipython2",
   "version": "2.7.6"
  }
 },
 "nbformat": 4,
 "nbformat_minor": 0
}